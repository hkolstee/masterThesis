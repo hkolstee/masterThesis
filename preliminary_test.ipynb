{
 "cells": [
  {
   "cell_type": "markdown",
   "metadata": {},
   "source": [
    "### Here we explore the 2023 CityLearn gym environment while writing the thesis proposal"
   ]
  },
  {
   "cell_type": "code",
   "execution_count": 1,
   "metadata": {},
   "outputs": [],
   "source": [
    "import numpy as np \n",
    "import pandas as pd\n",
    "\n",
    "import math\n",
    "import sys\n",
    "import os"
   ]
  },
  {
   "cell_type": "markdown",
   "metadata": {},
   "source": [
    "Import the citylearn environment and the standard reward function"
   ]
  },
  {
   "cell_type": "code",
   "execution_count": 2,
   "metadata": {},
   "outputs": [],
   "source": [
    "from citylearn.citylearn import CityLearnEnv\n",
    "from training.data.schemas.warm_up.custom_reward import CustomReward"
   ]
  },
  {
   "cell_type": "code",
   "execution_count": 3,
   "metadata": {},
   "outputs": [],
   "source": [
    "from citylearn.reward_function import ComfortReward\n",
    "\n",
    "class ComfortRewardFunction(ComfortReward):\n",
    "    \"\"\" Simple passthrough example of comfort reward from Citylearn env \"\"\"\n",
    "    def __init__(self, env_metadata):\n",
    "        super().__init__(env_metadata)\n",
    "    \n",
    "    def calculate(self, observations):\n",
    "        return super().calculate(observations)"
   ]
  },
  {
   "cell_type": "markdown",
   "metadata": {},
   "source": [
    "Specify config for environment"
   ]
  },
  {
   "cell_type": "code",
   "execution_count": 4,
   "metadata": {},
   "outputs": [
    {
     "name": "stdout",
     "output_type": "stream",
     "text": [
      "./training/data/schemas/warm_up/schema.json\n"
     ]
    }
   ],
   "source": [
    "class Config:\n",
    "    data_dir = './training/data/'\n",
    "    SCHEMA = os.path.join(data_dir, 'schemas/warm_up/schema.json')\n",
    "    num_episodes = 1\n",
    "\n",
    "config = Config() \n",
    "print(config.SCHEMA)"
   ]
  },
  {
   "cell_type": "markdown",
   "metadata": {},
   "source": [
    "Create instance"
   ]
  },
  {
   "cell_type": "code",
   "execution_count": 5,
   "metadata": {},
   "outputs": [],
   "source": [
    "class WrapperEnv:\n",
    "    \"\"\"\n",
    "    Env to wrap provide Citylearn Env data without providing full env\n",
    "    Preventing attribute access outside of the available functions\n",
    "    \"\"\"\n",
    "    def __init__(self, env_data):\n",
    "        self.observation_names = env_data['observation_names']\n",
    "        self.action_names = env_data['action_names']\n",
    "        self.observation_space = env_data['observation_space']\n",
    "        self.action_space = env_data['action_space']\n",
    "        self.time_steps = env_data['time_steps']\n",
    "        self.seconds_per_time_step = env_data['seconds_per_time_step']\n",
    "        self.random_seed = env_data['random_seed']\n",
    "        self.buildings_metadata = env_data['buildings_metadata']\n",
    "        self.episode_tracker = env_data['episode_tracker']\n",
    "    \n",
    "    def get_metadata(self):\n",
    "        return {'buildings': self.buildings_metadata}"
   ]
  },
  {
   "cell_type": "code",
   "execution_count": 6,
   "metadata": {},
   "outputs": [],
   "source": [
    "env = CityLearnEnv(config.SCHEMA, reward_function=CustomReward)\n",
    "\n",
    "env_data = dict(\n",
    "        observation_names = env.observation_names,\n",
    "        action_names = env.action_names,\n",
    "        observation_space = env.observation_space,\n",
    "        action_space = env.action_space,\n",
    "        time_steps = env.time_steps,\n",
    "        random_seed = None,\n",
    "        episode_tracker = None,\n",
    "        seconds_per_time_step = None,\n",
    "        buildings_metadata = env.get_metadata()['buildings']\n",
    "    )\n",
    "\n",
    "# env wrapper to provide citylearn env data without providing full env\n",
    "# prevents attribute access outside of the available functions\n",
    "wrapper_env = WrapperEnv(env_data)"
   ]
  },
  {
   "cell_type": "markdown",
   "metadata": {},
   "source": [
    "Create agent"
   ]
  },
  {
   "cell_type": "code",
   "execution_count": 7,
   "metadata": {},
   "outputs": [],
   "source": [
    "# from citylearn-2023-starter-kit.agents.user_agent import SubmissionAgent\n",
    "\n",
    "# agent = SubmissionAgent(wrapper_env)"
   ]
  },
  {
   "cell_type": "markdown",
   "metadata": {},
   "source": [
    "Observe state at t=0"
   ]
  },
  {
   "cell_type": "code",
   "execution_count": 8,
   "metadata": {},
   "outputs": [
    {
     "name": "stdout",
     "output_type": "stream",
     "text": [
      "[[5, 1, 24.66, 24.910639, 38.41596, 27.611464, 0.0, 54.625927, 116.84289, 0.0, 0.0, 143.32434, 1020.7561, 0.0, 0.40248835, 23.098652, 0.35683933, 0.0, 0.0, 0.2, 0.67788136, 0.02893, 0.02893, 0.02915, 0.02893, 1.1192156, 0.055682074, 3.0, 23.222221, 0, 24.278513, 0.18733284, 0.0, 0.0, 0.2, 0.18733284, 0.0, 0.0, 1.0, 24.444445, 0, 24.431562, 0.4220805, 0.0, 0.0, 0.2, 0.5631514, 0.5579055, 0.0, 2.0, 24.444445, 0]]\n"
     ]
    },
    {
     "data": {
      "text/plain": [
       "[['day_type',\n",
       "  'hour',\n",
       "  'outdoor_dry_bulb_temperature',\n",
       "  'outdoor_dry_bulb_temperature_predicted_6h',\n",
       "  'outdoor_dry_bulb_temperature_predicted_12h',\n",
       "  'outdoor_dry_bulb_temperature_predicted_24h',\n",
       "  'diffuse_solar_irradiance',\n",
       "  'diffuse_solar_irradiance_predicted_6h',\n",
       "  'diffuse_solar_irradiance_predicted_12h',\n",
       "  'diffuse_solar_irradiance_predicted_24h',\n",
       "  'direct_solar_irradiance',\n",
       "  'direct_solar_irradiance_predicted_6h',\n",
       "  'direct_solar_irradiance_predicted_12h',\n",
       "  'direct_solar_irradiance_predicted_24h',\n",
       "  'carbon_intensity',\n",
       "  'indoor_dry_bulb_temperature',\n",
       "  'non_shiftable_load',\n",
       "  'solar_generation',\n",
       "  'dhw_storage_soc',\n",
       "  'electrical_storage_soc',\n",
       "  'net_electricity_consumption',\n",
       "  'electricity_pricing',\n",
       "  'electricity_pricing_predicted_6h',\n",
       "  'electricity_pricing_predicted_12h',\n",
       "  'electricity_pricing_predicted_24h',\n",
       "  'cooling_demand',\n",
       "  'dhw_demand',\n",
       "  'occupant_count',\n",
       "  'indoor_dry_bulb_temperature_set_point',\n",
       "  'power_outage',\n",
       "  'indoor_dry_bulb_temperature',\n",
       "  'non_shiftable_load',\n",
       "  'solar_generation',\n",
       "  'dhw_storage_soc',\n",
       "  'electrical_storage_soc',\n",
       "  'net_electricity_consumption',\n",
       "  'cooling_demand',\n",
       "  'dhw_demand',\n",
       "  'occupant_count',\n",
       "  'indoor_dry_bulb_temperature_set_point',\n",
       "  'power_outage',\n",
       "  'indoor_dry_bulb_temperature',\n",
       "  'non_shiftable_load',\n",
       "  'solar_generation',\n",
       "  'dhw_storage_soc',\n",
       "  'electrical_storage_soc',\n",
       "  'net_electricity_consumption',\n",
       "  'cooling_demand',\n",
       "  'dhw_demand',\n",
       "  'occupant_count',\n",
       "  'indoor_dry_bulb_temperature_set_point',\n",
       "  'power_outage']]"
      ]
     },
     "execution_count": 8,
     "metadata": {},
     "output_type": "execute_result"
    }
   ],
   "source": [
    "Observation = env.reset()\n",
    "\n",
    "\n",
    "print(Observation)\n",
    "env.observation_names\n"
   ]
  },
  {
   "cell_type": "code",
   "execution_count": 9,
   "metadata": {},
   "outputs": [
    {
     "name": "stdout",
     "output_type": "stream",
     "text": [
      "{'cooling_storage': False, 'heating_storage': False, 'dhw_storage': True, 'electrical_storage': True, 'cooling_device': True, 'heating_device': False}\n",
      "Box([-1.   -0.83  0.  ], [1.   0.83 1.  ], (3,), float32)\n",
      "['dhw_storage', 'electrical_storage', 'cooling_device']\n",
      "['day_type', 'hour', 'outdoor_dry_bulb_temperature', 'outdoor_dry_bulb_temperature_predicted_6h', 'outdoor_dry_bulb_temperature_predicted_12h', 'outdoor_dry_bulb_temperature_predicted_24h', 'diffuse_solar_irradiance', 'diffuse_solar_irradiance_predicted_6h', 'diffuse_solar_irradiance_predicted_12h', 'diffuse_solar_irradiance_predicted_24h', 'direct_solar_irradiance', 'direct_solar_irradiance_predicted_6h', 'direct_solar_irradiance_predicted_12h', 'direct_solar_irradiance_predicted_24h', 'carbon_intensity', 'indoor_dry_bulb_temperature', 'non_shiftable_load', 'solar_generation', 'dhw_storage_soc', 'electrical_storage_soc', 'net_electricity_consumption', 'electricity_pricing', 'electricity_pricing_predicted_6h', 'electricity_pricing_predicted_12h', 'electricity_pricing_predicted_24h', 'cooling_demand', 'dhw_demand', 'occupant_count', 'indoor_dry_bulb_temperature_set_point', 'power_outage']\n",
      "\n",
      "\n",
      "0.40248835\n",
      "0.40248835\n",
      "0.40248835\n",
      "\n",
      "\n",
      "0.38262463\n",
      "0.38262463\n",
      "0.38262463\n",
      "\n",
      "\n",
      "[0.01961111]\n",
      "[0.00541954]\n",
      "[0.01629197]\n",
      "\n",
      "\n"
     ]
    },
    {
     "data": {
      "text/plain": [
       "{'month': 6,\n",
       " 'hour': 1,\n",
       " 'day_type': 5,\n",
       " 'daylight_savings_status': 0,\n",
       " 'indoor_dry_bulb_temperature': 23.098652,\n",
       " 'average_unmet_cooling_setpoint_difference': -0.1235699,\n",
       " 'indoor_relative_humidity': 61.086185,\n",
       " 'non_shiftable_load': 0.35683933,\n",
       " 'dhw_demand': 0.055682074,\n",
       " 'cooling_demand': 1.1192156,\n",
       " 'heating_demand': 0.0,\n",
       " 'solar_generation': 0.0,\n",
       " 'occupant_count': 3.0,\n",
       " 'indoor_dry_bulb_temperature_set_point': 23.222221,\n",
       " 'power_outage': 0,\n",
       " 'indoor_dry_bulb_temperature_without_control': 23.098652,\n",
       " 'cooling_demand_without_control': 1.1192156,\n",
       " 'heating_demand_without_control': 0.0,\n",
       " 'dhw_demand_without_control': 0.055682074,\n",
       " 'non_shiftable_load_without_control': 0.35683933,\n",
       " 'indoor_relative_humidity_without_control': 61.086185,\n",
       " 'indoor_dry_bulb_temperature_set_point_without_control': 23.222221,\n",
       " 'hvac_mode': 1,\n",
       " 'outdoor_dry_bulb_temperature': 24.66,\n",
       " 'outdoor_relative_humidity': 77.56,\n",
       " 'diffuse_solar_irradiance': 0.0,\n",
       " 'direct_solar_irradiance': 0.0,\n",
       " 'outdoor_dry_bulb_temperature_predicted_6h': 24.910639,\n",
       " 'outdoor_dry_bulb_temperature_predicted_12h': 38.41596,\n",
       " 'outdoor_dry_bulb_temperature_predicted_24h': 27.611464,\n",
       " 'outdoor_relative_humidity_predicted_6h': 72.98027,\n",
       " 'outdoor_relative_humidity_predicted_12h': 41.82236,\n",
       " 'outdoor_relative_humidity_predicted_24h': 83.230995,\n",
       " 'diffuse_solar_irradiance_predicted_6h': 54.625927,\n",
       " 'diffuse_solar_irradiance_predicted_12h': 116.84289,\n",
       " 'diffuse_solar_irradiance_predicted_24h': 0.0,\n",
       " 'direct_solar_irradiance_predicted_6h': 143.32434,\n",
       " 'direct_solar_irradiance_predicted_12h': 1020.7561,\n",
       " 'direct_solar_irradiance_predicted_24h': 0.0,\n",
       " 'electricity_pricing': 0.02893,\n",
       " 'electricity_pricing_predicted_6h': 0.02893,\n",
       " 'electricity_pricing_predicted_12h': 0.02915,\n",
       " 'electricity_pricing_predicted_24h': 0.02893,\n",
       " 'carbon_intensity': 0.40248835,\n",
       " 'cooling_storage_soc': 0.0,\n",
       " 'heating_storage_soc': 0.0,\n",
       " 'dhw_storage_soc': 0.0,\n",
       " 'electrical_storage_soc': 0.2,\n",
       " 'net_electricity_consumption': 0.67788136,\n",
       " 'cooling_electricity_consumption': 0.26175198,\n",
       " 'heating_electricity_consumption': 0.0,\n",
       " 'dhw_electricity_consumption': 0.059290096,\n",
       " 'cooling_storage_electricity_consumption': 0.0,\n",
       " 'heating_storage_electricity_consumption': 0.0,\n",
       " 'dhw_storage_electricity_consumption': 0.0,\n",
       " 'electrical_storage_electricity_consumption': 0.0,\n",
       " 'cooling_device_cop': array(4.27586316),\n",
       " 'heating_device_cop': array(3.12831856),\n",
       " 'indoor_dry_bulb_temperature_delta': 0.12356949}"
      ]
     },
     "execution_count": 9,
     "metadata": {},
     "output_type": "execute_result"
    }
   ],
   "source": [
    "print(env.buildings[0].action_metadata)\n",
    "print(env.buildings[0].action_space)\n",
    "print(env.buildings[0].active_actions)\n",
    "print(env.buildings[0].active_observations)\n",
    "print(\"\\n\")\n",
    "print(env.buildings[0].carbon_intensity.carbon_intensity[0])\n",
    "print(env.buildings[1].carbon_intensity.carbon_intensity[0])\n",
    "print(env.buildings[2].carbon_intensity.carbon_intensity[0])\n",
    "print(\"\\n\")\n",
    "print(env.buildings[0].carbon_intensity.carbon_intensity[1])\n",
    "print(env.buildings[1].carbon_intensity.carbon_intensity[1])\n",
    "print(env.buildings[2].carbon_intensity.carbon_intensity[1])\n",
    "print(\"\\n\")\n",
    "print(env.buildings[0].net_electricity_consumption_cost_without_storage)\n",
    "print(env.buildings[1].net_electricity_consumption_cost_without_storage)\n",
    "print(env.buildings[2].net_electricity_consumption_cost_without_storage)\n",
    "print(\"\\n\")\n",
    "env.buildings[0].observations(include_all = True)\n"
   ]
  },
  {
   "cell_type": "code",
   "execution_count": 10,
   "metadata": {},
   "outputs": [
    {
     "data": {
      "text/plain": [
       "{'day_type': 5,\n",
       " 'hour': 1,\n",
       " 'outdoor_dry_bulb_temperature': 24.66,\n",
       " 'outdoor_dry_bulb_temperature_predicted_6h': 24.910639,\n",
       " 'outdoor_dry_bulb_temperature_predicted_12h': 38.41596,\n",
       " 'outdoor_dry_bulb_temperature_predicted_24h': 27.611464,\n",
       " 'diffuse_solar_irradiance': 0.0,\n",
       " 'diffuse_solar_irradiance_predicted_6h': 54.625927,\n",
       " 'diffuse_solar_irradiance_predicted_12h': 116.84289,\n",
       " 'diffuse_solar_irradiance_predicted_24h': 0.0,\n",
       " 'direct_solar_irradiance': 0.0,\n",
       " 'direct_solar_irradiance_predicted_6h': 143.32434,\n",
       " 'direct_solar_irradiance_predicted_12h': 1020.7561,\n",
       " 'direct_solar_irradiance_predicted_24h': 0.0,\n",
       " 'carbon_intensity': 0.40248835,\n",
       " 'indoor_dry_bulb_temperature': 23.098652,\n",
       " 'non_shiftable_load': 0.35683933,\n",
       " 'solar_generation': 0.0,\n",
       " 'dhw_storage_soc': 0.0,\n",
       " 'electrical_storage_soc': 0.2,\n",
       " 'net_electricity_consumption': 0.67788136,\n",
       " 'electricity_pricing': 0.02893,\n",
       " 'electricity_pricing_predicted_6h': 0.02893,\n",
       " 'electricity_pricing_predicted_12h': 0.02915,\n",
       " 'electricity_pricing_predicted_24h': 0.02893,\n",
       " 'cooling_demand': 1.1192156,\n",
       " 'dhw_demand': 0.055682074,\n",
       " 'occupant_count': 3.0,\n",
       " 'indoor_dry_bulb_temperature_set_point': 23.222221,\n",
       " 'power_outage': 0}"
      ]
     },
     "execution_count": 10,
     "metadata": {},
     "output_type": "execute_result"
    }
   ],
   "source": [
    "env.buildings[0].observations()"
   ]
  },
  {
   "cell_type": "code",
   "execution_count": 11,
   "metadata": {},
   "outputs": [
    {
     "data": {
      "text/plain": [
       "{'uid': 'afd68320920844bd8f2a513bdd1e2a7f',\n",
       " 'random_seed': 41354768,\n",
       " 'simulation_time_steps': 720,\n",
       " 'seconds_per_time_step': 3600.0,\n",
       " 'name': 'Building_1',\n",
       " 'observation_metadata': {'month': False,\n",
       "  'day_type': True,\n",
       "  'hour': True,\n",
       "  'daylight_savings_status': False,\n",
       "  'outdoor_dry_bulb_temperature': True,\n",
       "  'outdoor_dry_bulb_temperature_predicted_6h': True,\n",
       "  'outdoor_dry_bulb_temperature_predicted_12h': True,\n",
       "  'outdoor_dry_bulb_temperature_predicted_24h': True,\n",
       "  'outdoor_relative_humidity': False,\n",
       "  'outdoor_relative_humidity_predicted_6h': False,\n",
       "  'outdoor_relative_humidity_predicted_12h': False,\n",
       "  'outdoor_relative_humidity_predicted_24h': False,\n",
       "  'diffuse_solar_irradiance': True,\n",
       "  'diffuse_solar_irradiance_predicted_6h': True,\n",
       "  'diffuse_solar_irradiance_predicted_12h': True,\n",
       "  'diffuse_solar_irradiance_predicted_24h': True,\n",
       "  'direct_solar_irradiance': True,\n",
       "  'direct_solar_irradiance_predicted_6h': True,\n",
       "  'direct_solar_irradiance_predicted_12h': True,\n",
       "  'direct_solar_irradiance_predicted_24h': True,\n",
       "  'carbon_intensity': True,\n",
       "  'indoor_dry_bulb_temperature': True,\n",
       "  'average_unmet_cooling_setpoint_difference': False,\n",
       "  'indoor_relative_humidity': False,\n",
       "  'non_shiftable_load': True,\n",
       "  'solar_generation': True,\n",
       "  'cooling_storage_soc': False,\n",
       "  'heating_storage_soc': False,\n",
       "  'dhw_storage_soc': True,\n",
       "  'electrical_storage_soc': True,\n",
       "  'net_electricity_consumption': True,\n",
       "  'electricity_pricing': True,\n",
       "  'electricity_pricing_predicted_6h': True,\n",
       "  'electricity_pricing_predicted_12h': True,\n",
       "  'electricity_pricing_predicted_24h': True,\n",
       "  'cooling_device_cop': False,\n",
       "  'heating_device_cop': False,\n",
       "  'cooling_demand': True,\n",
       "  'heating_demand': False,\n",
       "  'dhw_demand': True,\n",
       "  'cooling_electricity_consumption': False,\n",
       "  'heating_electricity_consumption': False,\n",
       "  'dhw_electricity_consumption': False,\n",
       "  'occupant_count': True,\n",
       "  'indoor_dry_bulb_temperature_set_point': True,\n",
       "  'indoor_dry_bulb_temperature_delta': False,\n",
       "  'power_outage': True},\n",
       " 'action_metadata': {'cooling_storage': False,\n",
       "  'heating_storage': False,\n",
       "  'dhw_storage': True,\n",
       "  'electrical_storage': True,\n",
       "  'cooling_device': True,\n",
       "  'heating_device': False},\n",
       " 'maximum_temperature_delta': 10.0,\n",
       " 'cooling_device': {'uid': 'c29fbb30b5e3470687d1a543842bad6b',\n",
       "  'random_seed': 52165554,\n",
       "  'simulation_time_steps': 720,\n",
       "  'seconds_per_time_step': 3600.0,\n",
       "  'efficiency': 0.2535049749071043,\n",
       "  'nominal_power': 4.109619617462158,\n",
       "  'target_heating_temperature': 45,\n",
       "  'target_cooling_temperature': 7.991821357673299},\n",
       " 'heating_device': {'uid': '631cb836abff4606b364642231b526ff',\n",
       "  'random_seed': 60747725,\n",
       "  'simulation_time_steps': 720,\n",
       "  'seconds_per_time_step': 3600.0,\n",
       "  'efficiency': 0.2,\n",
       "  'nominal_power': 0.0,\n",
       "  'target_heating_temperature': 45.0,\n",
       "  'target_cooling_temperature': 8.0},\n",
       " 'dhw_device': {'uid': 'aa542826ae7f441e869c178346a0eb72',\n",
       "  'random_seed': 48660509,\n",
       "  'simulation_time_steps': 720,\n",
       "  'seconds_per_time_step': 3600.0,\n",
       "  'efficiency': 0.939146312056097,\n",
       "  'nominal_power': 4.861171245574951},\n",
       " 'non_shiftable_load_device': {'uid': '0d4b0bff088f4059b31c6b28df336324',\n",
       "  'random_seed': 290072,\n",
       "  'simulation_time_steps': 720,\n",
       "  'seconds_per_time_step': 3600.0,\n",
       "  'efficiency': 1.0,\n",
       "  'nominal_power': 0.0},\n",
       " 'cooling_storage': {'uid': '4ed41d1b992c4b39b571a98c6cac9722',\n",
       "  'random_seed': 28304293,\n",
       "  'simulation_time_steps': 720,\n",
       "  'seconds_per_time_step': 3600.0,\n",
       "  'efficiency': 1.0,\n",
       "  'capacity': 0.0,\n",
       "  'loss_coefficient': 0.006,\n",
       "  'initial_soc': 0.0,\n",
       "  'round_trip_efficiency': 1.0},\n",
       " 'heating_storage': {'uid': 'c44753d8c32b4a6997f942ce9fa0eb24',\n",
       "  'random_seed': 97401532,\n",
       "  'simulation_time_steps': 720,\n",
       "  'seconds_per_time_step': 3600.0,\n",
       "  'efficiency': 1.0,\n",
       "  'capacity': 0.0,\n",
       "  'loss_coefficient': 0.006,\n",
       "  'initial_soc': 0.0,\n",
       "  'round_trip_efficiency': 1.0},\n",
       " 'dhw_storage': {'uid': '10990415832d498ebe8ed280863f15da',\n",
       "  'random_seed': 60643415,\n",
       "  'simulation_time_steps': 720,\n",
       "  'seconds_per_time_step': 3600.0,\n",
       "  'efficiency': 1.0,\n",
       "  'capacity': 2.2826755046844482,\n",
       "  'loss_coefficient': 0.003212187876499649,\n",
       "  'initial_soc': 0.0,\n",
       "  'round_trip_efficiency': 1.0},\n",
       " 'electrical_storage': {'uid': '49e6beb43035410e965b2e421ffabf47',\n",
       "  'random_seed': 53631140,\n",
       "  'simulation_time_steps': 720,\n",
       "  'seconds_per_time_step': 3600.0,\n",
       "  'efficiency': 0.95,\n",
       "  'nominal_power': 3.32,\n",
       "  'capacity': 4.0,\n",
       "  'loss_coefficient': 0.0001,\n",
       "  'initial_soc': 0.19999999999999996,\n",
       "  'round_trip_efficiency': 0.9746794344808963,\n",
       "  'depth_of_discharge': 0.8,\n",
       "  'capacity_loss_coefficient': 1e-05,\n",
       "  'power_efficiency_curve': array([[0.  , 0.3 , 0.7 , 0.8 , 1.  ],\n",
       "         [0.88, 0.88, 0.95, 0.95, 0.9 ]]),\n",
       "  'capacity_power_curve': array([[0. , 0.8, 1. ],\n",
       "         [1. , 1. , 0.2]])},\n",
       " 'pv': {'uid': '036f32fb70e44cd1b9bea98559406876',\n",
       "  'random_seed': 75569367,\n",
       "  'simulation_time_steps': 720,\n",
       "  'seconds_per_time_step': 3600.0,\n",
       "  'efficiency': 1.0,\n",
       "  'nominal_power': 2.4000000000000004},\n",
       " 'annual_cooling_demand_estimate': 2400.07568359375,\n",
       " 'annual_heating_demand_estimate': 0.0,\n",
       " 'annual_dhw_demand_estimate': 153.8460235595703,\n",
       " 'annual_non_shiftable_load_estimate': 450.445068359375,\n",
       " 'annual_solar_generation_estimate': 345.7142639160156}"
      ]
     },
     "execution_count": 11,
     "metadata": {},
     "output_type": "execute_result"
    }
   ],
   "source": [
    "# print(env.evaluate_citylearn_challenge())\n",
    "env.buildings[0].get_metadata()\n",
    "# env.buildings[0].get_metadata()[\"observation_metadata\"]"
   ]
  },
  {
   "cell_type": "markdown",
   "metadata": {},
   "source": [
    "## Running an environment with our reward function"
   ]
  },
  {
   "cell_type": "code",
   "execution_count": 12,
   "metadata": {},
   "outputs": [],
   "source": [
    "from training.data.schemas.warm_up.custom_reward import CustomReward"
   ]
  },
  {
   "cell_type": "code",
   "execution_count": 15,
   "metadata": {},
   "outputs": [],
   "source": [
    "schema_path = \"./training/data/schemas/warm_up/schema_edited.json\"\n",
    "env = CityLearnEnv(schema=schema_path, reward_function=CustomReward, central_agent=True)"
   ]
  },
  {
   "cell_type": "code",
   "execution_count": null,
   "metadata": {},
   "outputs": [
    {
     "data": {
      "text/plain": [
       "<training.data.schemas.warm_up.custom_reward.CustomReward at 0x7f30286a89a0>"
      ]
     },
     "execution_count": 14,
     "metadata": {},
     "output_type": "execute_result"
    }
   ],
   "source": [
    "env.reward_function"
   ]
  },
  {
   "cell_type": "code",
   "execution_count": 16,
   "metadata": {},
   "outputs": [
    {
     "ename": "AttributeError",
     "evalue": "'WrapperEnv' object has no attribute 'observations'",
     "output_type": "error",
     "traceback": [
      "\u001b[0;31m---------------------------------------------------------------------------\u001b[0m",
      "\u001b[0;31mAttributeError\u001b[0m                            Traceback (most recent call last)",
      "Cell \u001b[0;32mIn[16], line 1\u001b[0m\n\u001b[0;32m----> 1\u001b[0m env\u001b[38;5;241m.\u001b[39mreward_function\u001b[38;5;241m.\u001b[39mcalculate(\u001b[43mwrapper_env\u001b[49m\u001b[38;5;241;43m.\u001b[39;49m\u001b[43mobservations\u001b[49m)\n\u001b[1;32m      2\u001b[0m \u001b[38;5;66;03m# env.step()\u001b[39;00m\n",
      "\u001b[0;31mAttributeError\u001b[0m: 'WrapperEnv' object has no attribute 'observations'"
     ]
    }
   ],
   "source": [
    "env.reward_function.calculate(wrapper_env.observations)\n",
    "# env.step()"
   ]
  }
 ],
 "metadata": {
  "kernelspec": {
   "display_name": "Python 3",
   "language": "python",
   "name": "python3"
  },
  "language_info": {
   "codemirror_mode": {
    "name": "ipython",
    "version": 3
   },
   "file_extension": ".py",
   "mimetype": "text/x-python",
   "name": "python",
   "nbconvert_exporter": "python",
   "pygments_lexer": "ipython3",
   "version": "3.10.12"
  }
 },
 "nbformat": 4,
 "nbformat_minor": 2
}
