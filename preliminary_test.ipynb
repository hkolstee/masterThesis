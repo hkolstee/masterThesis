{
 "cells": [
  {
   "cell_type": "markdown",
   "metadata": {},
   "source": [
    "### Here we explore the 2023 CityLearn gym environment while writing the thesis proposal"
   ]
  },
  {
   "cell_type": "code",
   "execution_count": 1,
   "metadata": {},
   "outputs": [],
   "source": [
    "import numpy as np \n",
    "import pandas as pd\n",
    "\n",
    "import math\n",
    "import sys\n",
    "import os"
   ]
  },
  {
   "cell_type": "markdown",
   "metadata": {},
   "source": [
    "Import the citylearn environment and the standard reward function"
   ]
  },
  {
   "cell_type": "code",
   "execution_count": 2,
   "metadata": {},
   "outputs": [],
   "source": [
    "from citylearn.citylearn import CityLearnEnv"
   ]
  },
  {
   "cell_type": "code",
   "execution_count": 3,
   "metadata": {},
   "outputs": [],
   "source": [
    "from citylearn.reward_function import ComfortReward\n",
    "\n",
    "class ComfortRewardFunction(ComfortReward):\n",
    "    \"\"\" Simple passthrough example of comfort reward from Citylearn env \"\"\"\n",
    "    def __init__(self, env_metadata):\n",
    "        super().__init__(env_metadata)\n",
    "    \n",
    "    def calculate(self, observations):\n",
    "        return super().calculate(observations)"
   ]
  },
  {
   "cell_type": "markdown",
   "metadata": {},
   "source": [
    "Specify config for environment"
   ]
  },
  {
   "cell_type": "code",
   "execution_count": 4,
   "metadata": {},
   "outputs": [
    {
     "name": "stdout",
     "output_type": "stream",
     "text": [
      "./citylearn-2023-starter-kit/data/schemas/warm_up/schema.json\n"
     ]
    }
   ],
   "source": [
    "class Config:\n",
    "    data_dir = './citylearn-2023-starter-kit/data/'\n",
    "    SCHEMA = os.path.join(data_dir, 'schemas/warm_up/schema.json')\n",
    "    num_episodes = 1\n",
    "\n",
    "config = Config() \n",
    "print(config.SCHEMA)"
   ]
  },
  {
   "cell_type": "markdown",
   "metadata": {},
   "source": [
    "Create instance"
   ]
  },
  {
   "cell_type": "code",
   "execution_count": 5,
   "metadata": {},
   "outputs": [],
   "source": [
    "class WrapperEnv:\n",
    "    \"\"\"\n",
    "    Env to wrap provide Citylearn Env data without providing full env\n",
    "    Preventing attribute access outside of the available functions\n",
    "    \"\"\"\n",
    "    def __init__(self, env_data):\n",
    "        self.observation_names = env_data['observation_names']\n",
    "        self.action_names = env_data['action_names']\n",
    "        self.observation_space = env_data['observation_space']\n",
    "        self.action_space = env_data['action_space']\n",
    "        self.time_steps = env_data['time_steps']\n",
    "        self.seconds_per_time_step = env_data['seconds_per_time_step']\n",
    "        self.random_seed = env_data['random_seed']\n",
    "        self.buildings_metadata = env_data['buildings_metadata']\n",
    "        self.episode_tracker = env_data['episode_tracker']\n",
    "    \n",
    "    def get_metadata(self):\n",
    "        return {'buildings': self.buildings_metadata}"
   ]
  },
  {
   "cell_type": "code",
   "execution_count": 6,
   "metadata": {},
   "outputs": [],
   "source": [
    "env = CityLearnEnv(config.SCHEMA, reward_function=ComfortRewardFunction)\n",
    "\n",
    "env_data = dict(\n",
    "        observation_names = env.observation_names,\n",
    "        action_names = env.action_names,\n",
    "        observation_space = env.observation_space,\n",
    "        action_space = env.action_space,\n",
    "        time_steps = env.time_steps,\n",
    "        random_seed = None,\n",
    "        episode_tracker = None,\n",
    "        seconds_per_time_step = None,\n",
    "        buildings_metadata = env.get_metadata()['buildings']\n",
    "    )\n",
    "\n",
    "# env wrapper to provide citylearn env data without providing full env\n",
    "# prevents attribute access outside of the available functions\n",
    "wrapper_env = WrapperEnv(env_data)"
   ]
  },
  {
   "cell_type": "markdown",
   "metadata": {},
   "source": [
    "Create agent"
   ]
  },
  {
   "cell_type": "code",
   "execution_count": 7,
   "metadata": {},
   "outputs": [
    {
     "ename": "SyntaxError",
     "evalue": "invalid syntax (442375511.py, line 1)",
     "output_type": "error",
     "traceback": [
      "\u001b[0;36m  Cell \u001b[0;32mIn[7], line 1\u001b[0;36m\u001b[0m\n\u001b[0;31m    from citylearn-2023-starter-kit.agents.user_agent import SubmissionAgent\u001b[0m\n\u001b[0m                  ^\u001b[0m\n\u001b[0;31mSyntaxError\u001b[0m\u001b[0;31m:\u001b[0m invalid syntax\n"
     ]
    }
   ],
   "source": [
    "# from citylearn-2023-starter-kit.agents.user_agent import SubmissionAgent\n",
    "\n",
    "# agent = SubmissionAgent(wrapper_env)"
   ]
  },
  {
   "cell_type": "markdown",
   "metadata": {},
   "source": [
    "Observe state at t=0"
   ]
  },
  {
   "cell_type": "code",
   "execution_count": 50,
   "metadata": {},
   "outputs": [
    {
     "name": "stdout",
     "output_type": "stream",
     "text": [
      "[['day_type', 'hour', 'outdoor_dry_bulb_temperature', 'outdoor_dry_bulb_temperature_predicted_6h', 'outdoor_dry_bulb_temperature_predicted_12h', 'outdoor_dry_bulb_temperature_predicted_24h', 'diffuse_solar_irradiance', 'diffuse_solar_irradiance_predicted_6h', 'diffuse_solar_irradiance_predicted_12h', 'diffuse_solar_irradiance_predicted_24h', 'direct_solar_irradiance', 'direct_solar_irradiance_predicted_6h', 'direct_solar_irradiance_predicted_12h', 'direct_solar_irradiance_predicted_24h', 'carbon_intensity', 'indoor_dry_bulb_temperature', 'non_shiftable_load', 'solar_generation', 'dhw_storage_soc', 'electrical_storage_soc', 'net_electricity_consumption', 'electricity_pricing', 'electricity_pricing_predicted_6h', 'electricity_pricing_predicted_12h', 'electricity_pricing_predicted_24h', 'cooling_demand', 'dhw_demand', 'occupant_count', 'indoor_dry_bulb_temperature_set_point', 'power_outage', 'indoor_dry_bulb_temperature', 'non_shiftable_load', 'solar_generation', 'dhw_storage_soc', 'electrical_storage_soc', 'net_electricity_consumption', 'cooling_demand', 'dhw_demand', 'occupant_count', 'indoor_dry_bulb_temperature_set_point', 'power_outage', 'indoor_dry_bulb_temperature', 'non_shiftable_load', 'solar_generation', 'dhw_storage_soc', 'electrical_storage_soc', 'net_electricity_consumption', 'cooling_demand', 'dhw_demand', 'occupant_count', 'indoor_dry_bulb_temperature_set_point', 'power_outage']]\n",
      "[[5, 1, 24.66, 24.910639, 38.41596, 27.611464, 0.0, 54.625927, 116.84289, 0.0, 0.0, 143.32434, 1020.7561, 0.0, 0.40248835, 23.098652, 0.35683933, 0.0, 0.0, 0.2, 0.67788136, 0.02893, 0.02893, 0.02915, 0.02893, 1.1192156, 0.055682074, 3.0, 23.222221, 0, 24.278513, 0.18733284, 0.0, 0.0, 0.2, 0.18733284, 0.0, 0.0, 1.0, 24.444445, 0, 24.431562, 0.4220805, 0.0, 0.0, 0.2, 0.5631514, 0.5579055, 0.0, 2.0, 24.444445, 0]]\n"
     ]
    }
   ],
   "source": [
    "Observation = env.reset()\n",
    "\n",
    "\n",
    "print(env.observation_names)\n",
    "print(Observation)"
   ]
  },
  {
   "cell_type": "code",
   "execution_count": 47,
   "metadata": {},
   "outputs": [
    {
     "name": "stdout",
     "output_type": "stream",
     "text": [
      "{'cooling_storage': False, 'heating_storage': False, 'dhw_storage': True, 'electrical_storage': True, 'cooling_device': True, 'heating_device': False}\n",
      "Box([-1.   -0.83  0.  ], [1.   0.83 1.  ], (3,), float32)\n",
      "['dhw_storage', 'electrical_storage', 'cooling_device']\n",
      "['day_type', 'hour', 'outdoor_dry_bulb_temperature', 'outdoor_dry_bulb_temperature_predicted_6h', 'outdoor_dry_bulb_temperature_predicted_12h', 'outdoor_dry_bulb_temperature_predicted_24h', 'diffuse_solar_irradiance', 'diffuse_solar_irradiance_predicted_6h', 'diffuse_solar_irradiance_predicted_12h', 'diffuse_solar_irradiance_predicted_24h', 'direct_solar_irradiance', 'direct_solar_irradiance_predicted_6h', 'direct_solar_irradiance_predicted_12h', 'direct_solar_irradiance_predicted_24h', 'carbon_intensity', 'indoor_dry_bulb_temperature', 'non_shiftable_load', 'solar_generation', 'dhw_storage_soc', 'electrical_storage_soc', 'net_electricity_consumption', 'electricity_pricing', 'electricity_pricing_predicted_6h', 'electricity_pricing_predicted_12h', 'electricity_pricing_predicted_24h', 'cooling_demand', 'dhw_demand', 'occupant_count', 'indoor_dry_bulb_temperature_set_point', 'power_outage']\n",
      "\n",
      "\n",
      "0.40248835\n",
      "0.40248835\n",
      "0.40248835\n",
      "\n",
      "\n",
      "0.38262463\n",
      "0.38262463\n",
      "0.38262463\n",
      "\n",
      "\n",
      "[0.05883332]\n",
      "[0.00541954]\n",
      "[0.01629197]\n",
      "\n",
      "\n",
      "{'day_type': 5, 'hour': 1, 'outdoor_dry_bulb_temperature': 24.66, 'outdoor_dry_bulb_temperature_predicted_6h': 24.910639, 'outdoor_dry_bulb_temperature_predicted_12h': 38.41596, 'outdoor_dry_bulb_temperature_predicted_24h': 27.611464, 'diffuse_solar_irradiance': 0.0, 'diffuse_solar_irradiance_predicted_6h': 54.625927, 'diffuse_solar_irradiance_predicted_12h': 116.84289, 'diffuse_solar_irradiance_predicted_24h': 0.0, 'direct_solar_irradiance': 0.0, 'direct_solar_irradiance_predicted_6h': 143.32434, 'direct_solar_irradiance_predicted_12h': 1020.7561, 'direct_solar_irradiance_predicted_24h': 0.0, 'carbon_intensity': 0.40248835, 'indoor_dry_bulb_temperature': 23.098652, 'non_shiftable_load': 0.35683933, 'solar_generation': 0.0, 'dhw_storage_soc': 0.0, 'electrical_storage_soc': 0.0, 'net_electricity_consumption': 2.0336442, 'electricity_pricing': 0.02893, 'electricity_pricing_predicted_6h': 0.02893, 'electricity_pricing_predicted_12h': 0.02915, 'electricity_pricing_predicted_24h': 0.02893, 'cooling_demand': 1.1192156, 'dhw_demand': 0.055682074, 'occupant_count': 3.0, 'indoor_dry_bulb_temperature_set_point': 23.222221, 'power_outage': 0}\n",
      "\n",
      "\n",
      "{'uid': '15fb293619434bb6bf6083f10e209125', 'random_seed': 92996296, 'simulation_time_steps': 720, 'seconds_per_time_step': 3600.0, 'reward_function': 'ComfortRewardFunction', 'central_agent': True, 'shared_observations': ['month', 'day_type', 'hour', 'daylight_savings_status', 'outdoor_dry_bulb_temperature', 'outdoor_dry_bulb_temperature_predicted_6h', 'outdoor_dry_bulb_temperature_predicted_12h', 'outdoor_dry_bulb_temperature_predicted_24h', 'outdoor_relative_humidity', 'outdoor_relative_humidity_predicted_6h', 'outdoor_relative_humidity_predicted_12h', 'outdoor_relative_humidity_predicted_24h', 'diffuse_solar_irradiance', 'diffuse_solar_irradiance_predicted_6h', 'diffuse_solar_irradiance_predicted_12h', 'diffuse_solar_irradiance_predicted_24h', 'direct_solar_irradiance', 'direct_solar_irradiance_predicted_6h', 'direct_solar_irradiance_predicted_12h', 'direct_solar_irradiance_predicted_24h', 'carbon_intensity', 'electricity_pricing', 'electricity_pricing_predicted_6h', 'electricity_pricing_predicted_12h', 'electricity_pricing_predicted_24h'], 'buildings': [{'uid': 'edac9f5c04c640dbb6a662dda04d7a26', 'random_seed': 12887092, 'simulation_time_steps': 720, 'seconds_per_time_step': 3600.0, 'name': 'Building_1', 'observation_metadata': {'month': False, 'day_type': True, 'hour': True, 'daylight_savings_status': False, 'outdoor_dry_bulb_temperature': True, 'outdoor_dry_bulb_temperature_predicted_6h': True, 'outdoor_dry_bulb_temperature_predicted_12h': True, 'outdoor_dry_bulb_temperature_predicted_24h': True, 'outdoor_relative_humidity': False, 'outdoor_relative_humidity_predicted_6h': False, 'outdoor_relative_humidity_predicted_12h': False, 'outdoor_relative_humidity_predicted_24h': False, 'diffuse_solar_irradiance': True, 'diffuse_solar_irradiance_predicted_6h': True, 'diffuse_solar_irradiance_predicted_12h': True, 'diffuse_solar_irradiance_predicted_24h': True, 'direct_solar_irradiance': True, 'direct_solar_irradiance_predicted_6h': True, 'direct_solar_irradiance_predicted_12h': True, 'direct_solar_irradiance_predicted_24h': True, 'carbon_intensity': True, 'indoor_dry_bulb_temperature': True, 'average_unmet_cooling_setpoint_difference': False, 'indoor_relative_humidity': False, 'non_shiftable_load': True, 'solar_generation': True, 'cooling_storage_soc': False, 'heating_storage_soc': False, 'dhw_storage_soc': True, 'electrical_storage_soc': True, 'net_electricity_consumption': True, 'electricity_pricing': True, 'electricity_pricing_predicted_6h': True, 'electricity_pricing_predicted_12h': True, 'electricity_pricing_predicted_24h': True, 'cooling_device_cop': False, 'heating_device_cop': False, 'cooling_demand': True, 'heating_demand': False, 'dhw_demand': True, 'cooling_electricity_consumption': False, 'heating_electricity_consumption': False, 'dhw_electricity_consumption': False, 'occupant_count': True, 'indoor_dry_bulb_temperature_set_point': True, 'indoor_dry_bulb_temperature_delta': False, 'power_outage': True}, 'action_metadata': {'cooling_storage': False, 'heating_storage': False, 'dhw_storage': True, 'electrical_storage': True, 'cooling_device': True, 'heating_device': False}, 'maximum_temperature_delta': 10.0, 'cooling_device': {'uid': '1b3d85e208fc42d69265e329e01222f3', 'random_seed': 85845841, 'simulation_time_steps': 720, 'seconds_per_time_step': 3600.0, 'efficiency': 0.2535049749071043, 'nominal_power': 4.109619617462158, 'target_heating_temperature': 45, 'target_cooling_temperature': 7.991821357673299}, 'heating_device': {'uid': 'de6f0881685f49038fd347cf8476716f', 'random_seed': 83205131, 'simulation_time_steps': 720, 'seconds_per_time_step': 3600.0, 'efficiency': 0.2, 'nominal_power': 0.0, 'target_heating_temperature': 45.0, 'target_cooling_temperature': 8.0}, 'dhw_device': {'uid': 'db06bc04d5f24b42993b2e855f9f84f1', 'random_seed': 23227201, 'simulation_time_steps': 720, 'seconds_per_time_step': 3600.0, 'efficiency': 0.939146312056097, 'nominal_power': 4.861171245574951}, 'non_shiftable_load_device': {'uid': '6a2d5b14152649d0a09ad971197eaf6f', 'random_seed': 77909265, 'simulation_time_steps': 720, 'seconds_per_time_step': 3600.0, 'efficiency': 1.0, 'nominal_power': 0.0}, 'cooling_storage': {'uid': 'ce212c58606f4a21a502888fe9e39931', 'random_seed': 29010648, 'simulation_time_steps': 720, 'seconds_per_time_step': 3600.0, 'efficiency': 1.0, 'capacity': 0.0, 'loss_coefficient': 0.006, 'initial_soc': 0.0, 'round_trip_efficiency': 1.0}, 'heating_storage': {'uid': '87d0529e9ac34f148f50023a10bf6e32', 'random_seed': 6694322, 'simulation_time_steps': 720, 'seconds_per_time_step': 3600.0, 'efficiency': 1.0, 'capacity': 0.0, 'loss_coefficient': 0.006, 'initial_soc': 0.0, 'round_trip_efficiency': 1.0}, 'dhw_storage': {'uid': '7df2f5f023f54e389cd4459f071744e3', 'random_seed': 98606363, 'simulation_time_steps': 720, 'seconds_per_time_step': 3600.0, 'efficiency': 1.0, 'capacity': 2.2826755046844482, 'loss_coefficient': 0.003212187876499649, 'initial_soc': 0.0, 'round_trip_efficiency': 1.0}, 'electrical_storage': {'uid': 'c4b703ca31674eedba5d1bf7823179df', 'random_seed': 91163654, 'simulation_time_steps': 720, 'seconds_per_time_step': 3600.0, 'efficiency': 0.8799999999999999, 'nominal_power': 3.32, 'capacity': 4.0, 'loss_coefficient': 0.0001, 'initial_soc': 0.19999999999999996, 'round_trip_efficiency': 0.9380831519646858, 'depth_of_discharge': 0.8, 'capacity_loss_coefficient': 1e-05, 'power_efficiency_curve': array([[0.  , 0.3 , 0.7 , 0.8 , 1.  ],\n",
      "       [0.88, 0.88, 0.95, 0.95, 0.9 ]]), 'capacity_power_curve': array([[0. , 0.8, 1. ],\n",
      "       [1. , 1. , 0.2]])}, 'pv': {'uid': '5b160d02522743c888ee6e660dd8f79d', 'random_seed': 71204262, 'simulation_time_steps': 720, 'seconds_per_time_step': 3600.0, 'efficiency': 1.0, 'nominal_power': 2.4000000000000004}, 'annual_cooling_demand_estimate': 2400.07568359375, 'annual_heating_demand_estimate': 0.0, 'annual_dhw_demand_estimate': 153.8460235595703, 'annual_non_shiftable_load_estimate': 450.445068359375, 'annual_solar_generation_estimate': 345.7142639160156}, {'uid': '7e5757c015cc4251b3eb4284ed9be77d', 'random_seed': 30084836, 'simulation_time_steps': 720, 'seconds_per_time_step': 3600.0, 'name': 'Building_2', 'observation_metadata': {'month': False, 'day_type': True, 'hour': True, 'daylight_savings_status': False, 'outdoor_dry_bulb_temperature': True, 'outdoor_dry_bulb_temperature_predicted_6h': True, 'outdoor_dry_bulb_temperature_predicted_12h': True, 'outdoor_dry_bulb_temperature_predicted_24h': True, 'outdoor_relative_humidity': False, 'outdoor_relative_humidity_predicted_6h': False, 'outdoor_relative_humidity_predicted_12h': False, 'outdoor_relative_humidity_predicted_24h': False, 'diffuse_solar_irradiance': True, 'diffuse_solar_irradiance_predicted_6h': True, 'diffuse_solar_irradiance_predicted_12h': True, 'diffuse_solar_irradiance_predicted_24h': True, 'direct_solar_irradiance': True, 'direct_solar_irradiance_predicted_6h': True, 'direct_solar_irradiance_predicted_12h': True, 'direct_solar_irradiance_predicted_24h': True, 'carbon_intensity': True, 'indoor_dry_bulb_temperature': True, 'average_unmet_cooling_setpoint_difference': False, 'indoor_relative_humidity': False, 'non_shiftable_load': True, 'solar_generation': True, 'cooling_storage_soc': False, 'heating_storage_soc': False, 'dhw_storage_soc': True, 'electrical_storage_soc': True, 'net_electricity_consumption': True, 'electricity_pricing': True, 'electricity_pricing_predicted_6h': True, 'electricity_pricing_predicted_12h': True, 'electricity_pricing_predicted_24h': True, 'cooling_device_cop': False, 'heating_device_cop': False, 'cooling_demand': True, 'heating_demand': False, 'dhw_demand': True, 'cooling_electricity_consumption': False, 'heating_electricity_consumption': False, 'dhw_electricity_consumption': False, 'occupant_count': True, 'indoor_dry_bulb_temperature_set_point': True, 'indoor_dry_bulb_temperature_delta': False, 'power_outage': True}, 'action_metadata': {'cooling_storage': False, 'heating_storage': False, 'dhw_storage': True, 'electrical_storage': True, 'cooling_device': True, 'heating_device': False}, 'maximum_temperature_delta': 10.0, 'cooling_device': {'uid': 'fb769e28ed0242f6afe389adcfcde454', 'random_seed': 9632004, 'simulation_time_steps': 720, 'seconds_per_time_step': 3600.0, 'efficiency': 0.28791926968413395, 'nominal_power': 2.252523899078369, 'target_heating_temperature': 45, 'target_cooling_temperature': 6.016841879471529}, 'heating_device': {'uid': 'd2279104c1044d3d8833ccfe5977303f', 'random_seed': 41376491, 'simulation_time_steps': 720, 'seconds_per_time_step': 3600.0, 'efficiency': 0.2, 'nominal_power': 0.0, 'target_heating_temperature': 45.0, 'target_cooling_temperature': 8.0}, 'dhw_device': {'uid': '50b3404dda094ae688020403dcfa66a3', 'random_seed': 20980898, 'simulation_time_steps': 720, 'seconds_per_time_step': 3600.0, 'efficiency': 0.8994733722992707, 'nominal_power': 3.681978464126587}, 'non_shiftable_load_device': {'uid': '55416e61c77e47fd816e4279c88ac537', 'random_seed': 11024780, 'simulation_time_steps': 720, 'seconds_per_time_step': 3600.0, 'efficiency': 1.0, 'nominal_power': 0.0}, 'cooling_storage': {'uid': 'b76d34274266402a8bcb776f3e149e05', 'random_seed': 54085903, 'simulation_time_steps': 720, 'seconds_per_time_step': 3600.0, 'efficiency': 1.0, 'capacity': 0.0, 'loss_coefficient': 0.006, 'initial_soc': 0.0, 'round_trip_efficiency': 1.0}, 'heating_storage': {'uid': '52c0ffb67adb42eda36bb1b152dc65d4', 'random_seed': 6001474, 'simulation_time_steps': 720, 'seconds_per_time_step': 3600.0, 'efficiency': 1.0, 'capacity': 0.0, 'loss_coefficient': 0.006, 'initial_soc': 0.0, 'round_trip_efficiency': 1.0}, 'dhw_storage': {'uid': '7e54c23301474c6d9096cffe2f9483a7', 'random_seed': 53138109, 'simulation_time_steps': 720, 'seconds_per_time_step': 3600.0, 'efficiency': 1.0, 'capacity': 1.6559207439422607, 'loss_coefficient': 0.004154877290498826, 'initial_soc': 0.0, 'round_trip_efficiency': 1.0}, 'electrical_storage': {'uid': '8f05c42dcf604550be958ccce342a8ef', 'random_seed': 22106508, 'simulation_time_steps': 720, 'seconds_per_time_step': 3600.0, 'efficiency': 0.95, 'nominal_power': 3.32, 'capacity': 4.0, 'loss_coefficient': 0.0001, 'initial_soc': 0.19999999999999996, 'round_trip_efficiency': 0.9746794344808963, 'depth_of_discharge': 0.8, 'capacity_loss_coefficient': 1e-05, 'power_efficiency_curve': array([[0.  , 0.3 , 0.7 , 0.8 , 1.  ],\n",
      "       [0.88, 0.88, 0.95, 0.95, 0.9 ]]), 'capacity_power_curve': array([[0. , 0.8, 1. ],\n",
      "       [1. , 1. , 0.2]])}, 'pv': {'uid': '4e22573ee9fe4749b0abb724cf4335c0', 'random_seed': 67408950, 'simulation_time_steps': 720, 'seconds_per_time_step': 3600.0, 'efficiency': 1.0, 'nominal_power': 1.2000000000000002}, 'annual_cooling_demand_estimate': 1256.208740234375, 'annual_heating_demand_estimate': 0.0, 'annual_dhw_demand_estimate': 45.04438781738281, 'annual_non_shiftable_load_estimate': 323.14483642578125, 'annual_solar_generation_estimate': 172.8571319580078}, {'uid': 'c6c7caef4ea3440db38da423d420aad4', 'random_seed': 46444688, 'simulation_time_steps': 720, 'seconds_per_time_step': 3600.0, 'name': 'Building_3', 'observation_metadata': {'month': False, 'day_type': True, 'hour': True, 'daylight_savings_status': False, 'outdoor_dry_bulb_temperature': True, 'outdoor_dry_bulb_temperature_predicted_6h': True, 'outdoor_dry_bulb_temperature_predicted_12h': True, 'outdoor_dry_bulb_temperature_predicted_24h': True, 'outdoor_relative_humidity': False, 'outdoor_relative_humidity_predicted_6h': False, 'outdoor_relative_humidity_predicted_12h': False, 'outdoor_relative_humidity_predicted_24h': False, 'diffuse_solar_irradiance': True, 'diffuse_solar_irradiance_predicted_6h': True, 'diffuse_solar_irradiance_predicted_12h': True, 'diffuse_solar_irradiance_predicted_24h': True, 'direct_solar_irradiance': True, 'direct_solar_irradiance_predicted_6h': True, 'direct_solar_irradiance_predicted_12h': True, 'direct_solar_irradiance_predicted_24h': True, 'carbon_intensity': True, 'indoor_dry_bulb_temperature': True, 'average_unmet_cooling_setpoint_difference': False, 'indoor_relative_humidity': False, 'non_shiftable_load': True, 'solar_generation': True, 'cooling_storage_soc': False, 'heating_storage_soc': False, 'dhw_storage_soc': True, 'electrical_storage_soc': True, 'net_electricity_consumption': True, 'electricity_pricing': True, 'electricity_pricing_predicted_6h': True, 'electricity_pricing_predicted_12h': True, 'electricity_pricing_predicted_24h': True, 'cooling_device_cop': False, 'heating_device_cop': False, 'cooling_demand': True, 'heating_demand': False, 'dhw_demand': True, 'cooling_electricity_consumption': False, 'heating_electricity_consumption': False, 'dhw_electricity_consumption': False, 'occupant_count': True, 'indoor_dry_bulb_temperature_set_point': True, 'indoor_dry_bulb_temperature_delta': False, 'power_outage': True}, 'action_metadata': {'cooling_storage': False, 'heating_storage': False, 'dhw_storage': True, 'electrical_storage': True, 'cooling_device': True, 'heating_device': False}, 'maximum_temperature_delta': 10.0, 'cooling_device': {'uid': 'ac614b0c264e478c9e8dcca3ef1ec603', 'random_seed': 42549801, 'simulation_time_steps': 720, 'seconds_per_time_step': 3600.0, 'efficiency': 0.26107700777224274, 'nominal_power': 2.7777018547058105, 'target_heating_temperature': 45, 'target_cooling_temperature': 6.217435224703639}, 'heating_device': {'uid': 'fcf5644dbad04f0cb8e9f9ae82ed16c0', 'random_seed': 54499348, 'simulation_time_steps': 720, 'seconds_per_time_step': 3600.0, 'efficiency': 0.2, 'nominal_power': 0.0, 'target_heating_temperature': 45.0, 'target_cooling_temperature': 8.0}, 'dhw_device': {'uid': '5728cec2ce4c45bea3db3a8b88ae3715', 'random_seed': 337237, 'simulation_time_steps': 720, 'seconds_per_time_step': 3600.0, 'efficiency': 0.9042817996199358, 'nominal_power': 6.286403179168701}, 'non_shiftable_load_device': {'uid': '55a5228c236e426fb494cddde6aa67c6', 'random_seed': 14741928, 'simulation_time_steps': 720, 'seconds_per_time_step': 3600.0, 'efficiency': 1.0, 'nominal_power': 0.0}, 'cooling_storage': {'uid': '3f340685041c410ab284c8efa57c143a', 'random_seed': 78025916, 'simulation_time_steps': 720, 'seconds_per_time_step': 3600.0, 'efficiency': 1.0, 'capacity': 0.0, 'loss_coefficient': 0.006, 'initial_soc': 0.0, 'round_trip_efficiency': 1.0}, 'heating_storage': {'uid': '0d0effbac38d4c08bc79f2f445138f62', 'random_seed': 1299635, 'simulation_time_steps': 720, 'seconds_per_time_step': 3600.0, 'efficiency': 1.0, 'capacity': 0.0, 'loss_coefficient': 0.006, 'initial_soc': 0.0, 'round_trip_efficiency': 1.0}, 'dhw_storage': {'uid': '89a232445d434af2abdd9a7c64f3ca2d', 'random_seed': 48951714, 'simulation_time_steps': 720, 'seconds_per_time_step': 3600.0, 'efficiency': 1.0, 'capacity': 2.8423399925231934, 'loss_coefficient': 0.004187329715739613, 'initial_soc': 0.0, 'round_trip_efficiency': 1.0}, 'electrical_storage': {'uid': 'f260e716e1584724bfe3c003c914ec79', 'random_seed': 16783739, 'simulation_time_steps': 720, 'seconds_per_time_step': 3600.0, 'efficiency': 0.96, 'nominal_power': 1.61, 'capacity': 3.3, 'loss_coefficient': 0.00159817, 'initial_soc': 0.19999999999999996, 'round_trip_efficiency': 0.9797958971132712, 'depth_of_discharge': 0.8, 'capacity_loss_coefficient': 1e-05, 'power_efficiency_curve': array([[0.  , 0.3 , 0.7 , 0.8 , 1.  ],\n",
      "       [0.89, 0.89, 0.96, 0.96, 0.91]]), 'capacity_power_curve': array([[0. , 0.8, 1. ],\n",
      "       [1. , 1. , 0.2]])}, 'pv': {'uid': '7fed1b6dbed2456e9cef596938749f5b', 'random_seed': 55930707, 'simulation_time_steps': 720, 'seconds_per_time_step': 3600.0, 'efficiency': 1.0, 'nominal_power': 2.4000000000000004}, 'annual_cooling_demand_estimate': 1516.25146484375, 'annual_heating_demand_estimate': 0.0, 'annual_dhw_demand_estimate': 109.74966430664062, 'annual_non_shiftable_load_estimate': 631.7621459960938, 'annual_solar_generation_estimate': 345.7142639160156}]}\n"
     ]
    }
   ],
   "source": [
    "print(env.buildings[0].action_metadata)\n",
    "print(env.buildings[0].action_space)\n",
    "print(env.buildings[0].active_actions)\n",
    "print(env.buildings[0].active_observations)\n",
    "print(\"\\n\")\n",
    "print(env.buildings[0].carbon_intensity.carbon_intensity[0])\n",
    "print(env.buildings[1].carbon_intensity.carbon_intensity[0])\n",
    "print(env.buildings[2].carbon_intensity.carbon_intensity[0])\n",
    "print(\"\\n\")\n",
    "print(env.buildings[0].carbon_intensity.carbon_intensity[1])\n",
    "print(env.buildings[1].carbon_intensity.carbon_intensity[1])\n",
    "print(env.buildings[2].carbon_intensity.carbon_intensity[1])\n",
    "print(\"\\n\")\n",
    "print(env.buildings[0].net_electricity_consumption_cost_without_storage)\n",
    "print(env.buildings[1].net_electricity_consumption_cost_without_storage)\n",
    "print(env.buildings[2].net_electricity_consumption_cost_without_storage)\n",
    "print(\"\\n\")\n",
    "print(env.buildings[0].observations())\n"
   ]
  },
  {
   "cell_type": "code",
   "execution_count": null,
   "metadata": {},
   "outputs": [],
   "source": [
    "print(env.evaluate_citylearn_challenge())"
   ]
  }
 ],
 "metadata": {
  "kernelspec": {
   "display_name": "Python 3",
   "language": "python",
   "name": "python3"
  },
  "language_info": {
   "codemirror_mode": {
    "name": "ipython",
    "version": 3
   },
   "file_extension": ".py",
   "mimetype": "text/x-python",
   "name": "python",
   "nbconvert_exporter": "python",
   "pygments_lexer": "ipython3",
   "version": "3.10.12"
  }
 },
 "nbformat": 4,
 "nbformat_minor": 2
}
