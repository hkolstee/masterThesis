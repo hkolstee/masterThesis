{
 "cells": [
  {
   "cell_type": "markdown",
   "metadata": {},
   "source": [
    "### Here we explore the 2023 CityLearn gym environment while writing the thesis proposal"
   ]
  },
  {
   "cell_type": "code",
   "execution_count": 1,
   "metadata": {},
   "outputs": [],
   "source": [
    "import numpy as np \n",
    "import pandas as pd\n",
    "\n",
    "import math\n",
    "import sys\n",
    "import os"
   ]
  },
  {
   "cell_type": "markdown",
   "metadata": {},
   "source": [
    "Import the citylearn environment and the standard reward function"
   ]
  },
  {
   "cell_type": "code",
   "execution_count": 2,
   "metadata": {},
   "outputs": [],
   "source": [
    "from citylearn.citylearn import CityLearnEnv"
   ]
  },
  {
   "cell_type": "code",
   "execution_count": 3,
   "metadata": {},
   "outputs": [],
   "source": [
    "from citylearn.reward_function import ComfortReward\n",
    "\n",
    "class ComfortRewardFunction(ComfortReward):\n",
    "    \"\"\" Simple passthrough example of comfort reward from Citylearn env \"\"\"\n",
    "    def __init__(self, env_metadata):\n",
    "        super().__init__(env_metadata)\n",
    "    \n",
    "    def calculate(self, observations):\n",
    "        return super().calculate(observations)"
   ]
  },
  {
   "cell_type": "markdown",
   "metadata": {},
   "source": [
    "Specify config for environment"
   ]
  },
  {
   "cell_type": "code",
   "execution_count": 4,
   "metadata": {},
   "outputs": [
    {
     "name": "stdout",
     "output_type": "stream",
     "text": [
      "./citylearn-2023-starter-kit/data/schemas/warm_up/schema.json\n"
     ]
    }
   ],
   "source": [
    "class Config:\n",
    "    data_dir = './citylearn-2023-starter-kit/data/'\n",
    "    SCHEMA = os.path.join(data_dir, 'schemas/warm_up/schema.json')\n",
    "    num_episodes = 1\n",
    "\n",
    "config = Config() \n",
    "print(config.SCHEMA)"
   ]
  },
  {
   "cell_type": "markdown",
   "metadata": {},
   "source": [
    "Create instance"
   ]
  },
  {
   "cell_type": "code",
   "execution_count": 5,
   "metadata": {},
   "outputs": [],
   "source": [
    "class WrapperEnv:\n",
    "    \"\"\"\n",
    "    Env to wrap provide Citylearn Env data without providing full env\n",
    "    Preventing attribute access outside of the available functions\n",
    "    \"\"\"\n",
    "    def __init__(self, env_data):\n",
    "        self.observation_names = env_data['observation_names']\n",
    "        self.action_names = env_data['action_names']\n",
    "        self.observation_space = env_data['observation_space']\n",
    "        self.action_space = env_data['action_space']\n",
    "        self.time_steps = env_data['time_steps']\n",
    "        self.seconds_per_time_step = env_data['seconds_per_time_step']\n",
    "        self.random_seed = env_data['random_seed']\n",
    "        self.buildings_metadata = env_data['buildings_metadata']\n",
    "        self.episode_tracker = env_data['episode_tracker']\n",
    "    \n",
    "    def get_metadata(self):\n",
    "        return {'buildings': self.buildings_metadata}"
   ]
  },
  {
   "cell_type": "code",
   "execution_count": 6,
   "metadata": {},
   "outputs": [],
   "source": [
    "env = CityLearnEnv(config.SCHEMA, reward_function=ComfortRewardFunction)\n",
    "\n",
    "env_data = dict(\n",
    "        observation_names = env.observation_names,\n",
    "        action_names = env.action_names,\n",
    "        observation_space = env.observation_space,\n",
    "        action_space = env.action_space,\n",
    "        time_steps = env.time_steps,\n",
    "        random_seed = None,\n",
    "        episode_tracker = None,\n",
    "        seconds_per_time_step = None,\n",
    "        buildings_metadata = env.get_metadata()['buildings']\n",
    "    )\n",
    "\n",
    "# env wrapper to provide citylearn env data without providing full env\n",
    "# prevents attribute access outside of the available functions\n",
    "wrapper_env = WrapperEnv(env_data)"
   ]
  },
  {
   "cell_type": "markdown",
   "metadata": {},
   "source": [
    "Create agent"
   ]
  },
  {
   "cell_type": "code",
   "execution_count": 7,
   "metadata": {},
   "outputs": [],
   "source": [
    "# from citylearn-2023-starter-kit.agents.user_agent import SubmissionAgent\n",
    "\n",
    "# agent = SubmissionAgent(wrapper_env)"
   ]
  },
  {
   "cell_type": "markdown",
   "metadata": {},
   "source": [
    "Observe state at t=0"
   ]
  },
  {
   "cell_type": "code",
   "execution_count": 8,
   "metadata": {},
   "outputs": [
    {
     "name": "stdout",
     "output_type": "stream",
     "text": [
      "[[5, 1, 24.66, 24.910639, 38.41596, 27.611464, 0.0, 54.625927, 116.84289, 0.0, 0.0, 143.32434, 1020.7561, 0.0, 0.40248835, 23.098652, 0.35683933, 0.0, 0.0, 0.2, 0.67788136, 0.02893, 0.02893, 0.02915, 0.02893, 1.1192156, 0.055682074, 3.0, 23.222221, 0, 24.278513, 0.18733284, 0.0, 0.0, 0.2, 0.18733284, 0.0, 0.0, 1.0, 24.444445, 0, 24.431562, 0.4220805, 0.0, 0.0, 0.2, 0.5631514, 0.5579055, 0.0, 2.0, 24.444445, 0]]\n"
     ]
    },
    {
     "data": {
      "text/plain": [
       "[['day_type',\n",
       "  'hour',\n",
       "  'outdoor_dry_bulb_temperature',\n",
       "  'outdoor_dry_bulb_temperature_predicted_6h',\n",
       "  'outdoor_dry_bulb_temperature_predicted_12h',\n",
       "  'outdoor_dry_bulb_temperature_predicted_24h',\n",
       "  'diffuse_solar_irradiance',\n",
       "  'diffuse_solar_irradiance_predicted_6h',\n",
       "  'diffuse_solar_irradiance_predicted_12h',\n",
       "  'diffuse_solar_irradiance_predicted_24h',\n",
       "  'direct_solar_irradiance',\n",
       "  'direct_solar_irradiance_predicted_6h',\n",
       "  'direct_solar_irradiance_predicted_12h',\n",
       "  'direct_solar_irradiance_predicted_24h',\n",
       "  'carbon_intensity',\n",
       "  'indoor_dry_bulb_temperature',\n",
       "  'non_shiftable_load',\n",
       "  'solar_generation',\n",
       "  'dhw_storage_soc',\n",
       "  'electrical_storage_soc',\n",
       "  'net_electricity_consumption',\n",
       "  'electricity_pricing',\n",
       "  'electricity_pricing_predicted_6h',\n",
       "  'electricity_pricing_predicted_12h',\n",
       "  'electricity_pricing_predicted_24h',\n",
       "  'cooling_demand',\n",
       "  'dhw_demand',\n",
       "  'occupant_count',\n",
       "  'indoor_dry_bulb_temperature_set_point',\n",
       "  'power_outage',\n",
       "  'indoor_dry_bulb_temperature',\n",
       "  'non_shiftable_load',\n",
       "  'solar_generation',\n",
       "  'dhw_storage_soc',\n",
       "  'electrical_storage_soc',\n",
       "  'net_electricity_consumption',\n",
       "  'cooling_demand',\n",
       "  'dhw_demand',\n",
       "  'occupant_count',\n",
       "  'indoor_dry_bulb_temperature_set_point',\n",
       "  'power_outage',\n",
       "  'indoor_dry_bulb_temperature',\n",
       "  'non_shiftable_load',\n",
       "  'solar_generation',\n",
       "  'dhw_storage_soc',\n",
       "  'electrical_storage_soc',\n",
       "  'net_electricity_consumption',\n",
       "  'cooling_demand',\n",
       "  'dhw_demand',\n",
       "  'occupant_count',\n",
       "  'indoor_dry_bulb_temperature_set_point',\n",
       "  'power_outage']]"
      ]
     },
     "execution_count": 8,
     "metadata": {},
     "output_type": "execute_result"
    }
   ],
   "source": [
    "Observation = env.reset()\n",
    "\n",
    "\n",
    "print(Observation)\n",
    "env.observation_names\n"
   ]
  },
  {
   "cell_type": "code",
   "execution_count": 9,
   "metadata": {},
   "outputs": [
    {
     "name": "stdout",
     "output_type": "stream",
     "text": [
      "{'cooling_storage': False, 'heating_storage': False, 'dhw_storage': True, 'electrical_storage': True, 'cooling_device': True, 'heating_device': False}\n",
      "Box([-1.   -0.83  0.  ], [1.   0.83 1.  ], (3,), float32)\n",
      "['dhw_storage', 'electrical_storage', 'cooling_device']\n",
      "['day_type', 'hour', 'outdoor_dry_bulb_temperature', 'outdoor_dry_bulb_temperature_predicted_6h', 'outdoor_dry_bulb_temperature_predicted_12h', 'outdoor_dry_bulb_temperature_predicted_24h', 'diffuse_solar_irradiance', 'diffuse_solar_irradiance_predicted_6h', 'diffuse_solar_irradiance_predicted_12h', 'diffuse_solar_irradiance_predicted_24h', 'direct_solar_irradiance', 'direct_solar_irradiance_predicted_6h', 'direct_solar_irradiance_predicted_12h', 'direct_solar_irradiance_predicted_24h', 'carbon_intensity', 'indoor_dry_bulb_temperature', 'non_shiftable_load', 'solar_generation', 'dhw_storage_soc', 'electrical_storage_soc', 'net_electricity_consumption', 'electricity_pricing', 'electricity_pricing_predicted_6h', 'electricity_pricing_predicted_12h', 'electricity_pricing_predicted_24h', 'cooling_demand', 'dhw_demand', 'occupant_count', 'indoor_dry_bulb_temperature_set_point', 'power_outage']\n",
      "\n",
      "\n",
      "0.40248835\n",
      "0.40248835\n",
      "0.40248835\n",
      "\n",
      "\n",
      "0.38262463\n",
      "0.38262463\n",
      "0.38262463\n",
      "\n",
      "\n",
      "[0.01961111]\n",
      "[0.00541954]\n",
      "[0.01629197]\n",
      "\n",
      "\n",
      "{'day_type': 5, 'hour': 1, 'outdoor_dry_bulb_temperature': 24.66, 'outdoor_dry_bulb_temperature_predicted_6h': 24.910639, 'outdoor_dry_bulb_temperature_predicted_12h': 38.41596, 'outdoor_dry_bulb_temperature_predicted_24h': 27.611464, 'diffuse_solar_irradiance': 0.0, 'diffuse_solar_irradiance_predicted_6h': 54.625927, 'diffuse_solar_irradiance_predicted_12h': 116.84289, 'diffuse_solar_irradiance_predicted_24h': 0.0, 'direct_solar_irradiance': 0.0, 'direct_solar_irradiance_predicted_6h': 143.32434, 'direct_solar_irradiance_predicted_12h': 1020.7561, 'direct_solar_irradiance_predicted_24h': 0.0, 'carbon_intensity': 0.40248835, 'indoor_dry_bulb_temperature': 23.098652, 'non_shiftable_load': 0.35683933, 'solar_generation': 0.0, 'dhw_storage_soc': 0.0, 'electrical_storage_soc': 0.2, 'net_electricity_consumption': 0.67788136, 'electricity_pricing': 0.02893, 'electricity_pricing_predicted_6h': 0.02893, 'electricity_pricing_predicted_12h': 0.02915, 'electricity_pricing_predicted_24h': 0.02893, 'cooling_demand': 1.1192156, 'dhw_demand': 0.055682074, 'occupant_count': 3.0, 'indoor_dry_bulb_temperature_set_point': 23.222221, 'power_outage': 0}\n"
     ]
    }
   ],
   "source": [
    "print(env.buildings[0].action_metadata)\n",
    "print(env.buildings[0].action_space)\n",
    "print(env.buildings[0].active_actions)\n",
    "print(env.buildings[0].active_observations)\n",
    "print(\"\\n\")\n",
    "print(env.buildings[0].carbon_intensity.carbon_intensity[0])\n",
    "print(env.buildings[1].carbon_intensity.carbon_intensity[0])\n",
    "print(env.buildings[2].carbon_intensity.carbon_intensity[0])\n",
    "print(\"\\n\")\n",
    "print(env.buildings[0].carbon_intensity.carbon_intensity[1])\n",
    "print(env.buildings[1].carbon_intensity.carbon_intensity[1])\n",
    "print(env.buildings[2].carbon_intensity.carbon_intensity[1])\n",
    "print(\"\\n\")\n",
    "print(env.buildings[0].net_electricity_consumption_cost_without_storage)\n",
    "print(env.buildings[1].net_electricity_consumption_cost_without_storage)\n",
    "print(env.buildings[2].net_electricity_consumption_cost_without_storage)\n",
    "print(\"\\n\")\n",
    "env.buildings[0].observations()\n"
   ]
  },
  {
   "cell_type": "code",
   "execution_count": 10,
   "metadata": {},
   "outputs": [
    {
     "ename": "ZeroDivisionError",
     "evalue": "float division by zero",
     "output_type": "error",
     "traceback": [
      "\u001b[0;31m---------------------------------------------------------------------------\u001b[0m",
      "\u001b[0;31mZeroDivisionError\u001b[0m                         Traceback (most recent call last)",
      "Cell \u001b[0;32mIn[10], line 1\u001b[0m\n\u001b[0;32m----> 1\u001b[0m \u001b[38;5;28mprint\u001b[39m(\u001b[43menv\u001b[49m\u001b[38;5;241;43m.\u001b[39;49m\u001b[43mevaluate_citylearn_challenge\u001b[49m\u001b[43m(\u001b[49m\u001b[43m)\u001b[49m)\n",
      "File \u001b[0;32m~/.local/lib/python3.10/site-packages/citylearn/citylearn.py:866\u001b[0m, in \u001b[0;36mCityLearnEnv.evaluate_citylearn_challenge\u001b[0;34m(self)\u001b[0m\n\u001b[1;32m    848\u001b[0m \u001b[38;5;250m\u001b[39m\u001b[38;5;124;03m\"\"\"Evalation function for The CityLearn Challenge 2023.\u001b[39;00m\n\u001b[1;32m    849\u001b[0m \u001b[38;5;124;03m\u001b[39;00m\n\u001b[1;32m    850\u001b[0m \u001b[38;5;124;03mReturns\u001b[39;00m\n\u001b[0;32m   (...)\u001b[0m\n\u001b[1;32m    853\u001b[0m \u001b[38;5;124;03m    Mapping of internal CityLearn evaluation KPIs to their display name, weight and value. \u001b[39;00m\n\u001b[1;32m    854\u001b[0m \u001b[38;5;124;03m\"\"\"\u001b[39;00m\n\u001b[1;32m    856\u001b[0m evaluation \u001b[38;5;241m=\u001b[39m {\n\u001b[1;32m    857\u001b[0m     \u001b[38;5;124m'\u001b[39m\u001b[38;5;124mcarbon_emissions_total\u001b[39m\u001b[38;5;124m'\u001b[39m: {\u001b[38;5;124m'\u001b[39m\u001b[38;5;124mdisplay_name\u001b[39m\u001b[38;5;124m'\u001b[39m: \u001b[38;5;124m'\u001b[39m\u001b[38;5;124mCarbon emissions\u001b[39m\u001b[38;5;124m'\u001b[39m, \u001b[38;5;124m'\u001b[39m\u001b[38;5;124mweight\u001b[39m\u001b[38;5;124m'\u001b[39m: \u001b[38;5;241m0.10\u001b[39m},\n\u001b[1;32m    858\u001b[0m     \u001b[38;5;124m'\u001b[39m\u001b[38;5;124mdiscomfort_proportion\u001b[39m\u001b[38;5;124m'\u001b[39m: {\u001b[38;5;124m'\u001b[39m\u001b[38;5;124mdisplay_name\u001b[39m\u001b[38;5;124m'\u001b[39m: \u001b[38;5;124m'\u001b[39m\u001b[38;5;124mUnmet hours\u001b[39m\u001b[38;5;124m'\u001b[39m, \u001b[38;5;124m'\u001b[39m\u001b[38;5;124mweight\u001b[39m\u001b[38;5;124m'\u001b[39m: \u001b[38;5;241m0.30\u001b[39m},\n\u001b[0;32m   (...)\u001b[0m\n\u001b[1;32m    864\u001b[0m     \u001b[38;5;124m'\u001b[39m\u001b[38;5;124mpower_outage_normalized_unserved_energy_total\u001b[39m\u001b[38;5;124m'\u001b[39m: {\u001b[38;5;124m'\u001b[39m\u001b[38;5;124mdisplay_name\u001b[39m\u001b[38;5;124m'\u001b[39m: \u001b[38;5;124m'\u001b[39m\u001b[38;5;124mUnserved energy\u001b[39m\u001b[38;5;124m'\u001b[39m, \u001b[38;5;124m'\u001b[39m\u001b[38;5;124mweight\u001b[39m\u001b[38;5;124m'\u001b[39m: \u001b[38;5;241m0.15\u001b[39m},\n\u001b[1;32m    865\u001b[0m }\n\u001b[0;32m--> 866\u001b[0m data \u001b[38;5;241m=\u001b[39m \u001b[38;5;28;43mself\u001b[39;49m\u001b[38;5;241;43m.\u001b[39;49m\u001b[43mevaluate\u001b[49m\u001b[43m(\u001b[49m\n\u001b[1;32m    867\u001b[0m \u001b[43m    \u001b[49m\u001b[43mcontrol_condition\u001b[49m\u001b[38;5;241;43m=\u001b[39;49m\u001b[43mEvaluationCondition\u001b[49m\u001b[38;5;241;43m.\u001b[39;49m\u001b[43mWITH_STORAGE_AND_PARTIAL_LOAD_AND_PV\u001b[49m\u001b[43m,\u001b[49m\n\u001b[1;32m    868\u001b[0m \u001b[43m    \u001b[49m\u001b[43mbaseline_condition\u001b[49m\u001b[38;5;241;43m=\u001b[39;49m\u001b[43mEvaluationCondition\u001b[49m\u001b[38;5;241;43m.\u001b[39;49m\u001b[43mWITHOUT_STORAGE_AND_PARTIAL_LOAD_BUT_WITH_PV\u001b[49m\u001b[43m,\u001b[49m\n\u001b[1;32m    869\u001b[0m \u001b[43m    \u001b[49m\u001b[43mcomfort_band\u001b[49m\u001b[38;5;241;43m=\u001b[39;49m\u001b[38;5;241;43m1.0\u001b[39;49m\u001b[43m,\u001b[49m\n\u001b[1;32m    870\u001b[0m \u001b[43m\u001b[49m\u001b[43m)\u001b[49m\n\u001b[1;32m    871\u001b[0m data \u001b[38;5;241m=\u001b[39m data[data[\u001b[38;5;124m'\u001b[39m\u001b[38;5;124mlevel\u001b[39m\u001b[38;5;124m'\u001b[39m]\u001b[38;5;241m==\u001b[39m\u001b[38;5;124m'\u001b[39m\u001b[38;5;124mdistrict\u001b[39m\u001b[38;5;124m'\u001b[39m]\u001b[38;5;241m.\u001b[39mset_index(\u001b[38;5;124m'\u001b[39m\u001b[38;5;124mcost_function\u001b[39m\u001b[38;5;124m'\u001b[39m)\u001b[38;5;241m.\u001b[39mto_dict(\u001b[38;5;124m'\u001b[39m\u001b[38;5;124mindex\u001b[39m\u001b[38;5;124m'\u001b[39m)\n\u001b[1;32m    872\u001b[0m evaluation \u001b[38;5;241m=\u001b[39m {k: {\u001b[38;5;241m*\u001b[39m\u001b[38;5;241m*\u001b[39mv, \u001b[38;5;124m'\u001b[39m\u001b[38;5;124mvalue\u001b[39m\u001b[38;5;124m'\u001b[39m: data[k][\u001b[38;5;124m'\u001b[39m\u001b[38;5;124mvalue\u001b[39m\u001b[38;5;124m'\u001b[39m]} \u001b[38;5;28;01mfor\u001b[39;00m k, v \u001b[38;5;129;01min\u001b[39;00m evaluation\u001b[38;5;241m.\u001b[39mitems()}\n",
      "File \u001b[0;32m~/.local/lib/python3.10/site-packages/citylearn/citylearn.py:1007\u001b[0m, in \u001b[0;36mCityLearnEnv.evaluate\u001b[0;34m(self, control_condition, baseline_condition, comfort_band)\u001b[0m\n\u001b[1;32m    998\u001b[0m control_condition \u001b[38;5;241m=\u001b[39m EvaluationCondition\u001b[38;5;241m.\u001b[39mWITH_STORAGE_AND_PARTIAL_LOAD_AND_PV \u001b[38;5;28;01mif\u001b[39;00m control_condition \u001b[38;5;129;01mis\u001b[39;00m \u001b[38;5;28;01mNone\u001b[39;00m \u001b[38;5;28;01melse\u001b[39;00m control_condition\n\u001b[1;32m    999\u001b[0m baseline_condition \u001b[38;5;241m=\u001b[39m EvaluationCondition\u001b[38;5;241m.\u001b[39mWITHOUT_STORAGE_AND_PARTIAL_LOAD_BUT_WITH_PV \u001b[38;5;28;01mif\u001b[39;00m baseline_condition \u001b[38;5;129;01mis\u001b[39;00m \u001b[38;5;28;01mNone\u001b[39;00m \u001b[38;5;28;01melse\u001b[39;00m baseline_condition\n\u001b[1;32m   1001\u001b[0m district_level \u001b[38;5;241m=\u001b[39m pd\u001b[38;5;241m.\u001b[39mDataFrame([{\n\u001b[1;32m   1002\u001b[0m     \u001b[38;5;124m'\u001b[39m\u001b[38;5;124mcost_function\u001b[39m\u001b[38;5;124m'\u001b[39m: \u001b[38;5;124m'\u001b[39m\u001b[38;5;124mramping_average\u001b[39m\u001b[38;5;124m'\u001b[39m,\n\u001b[1;32m   1003\u001b[0m     \u001b[38;5;124m'\u001b[39m\u001b[38;5;124mvalue\u001b[39m\u001b[38;5;124m'\u001b[39m: CostFunction\u001b[38;5;241m.\u001b[39mramping(get_net_electricity_consumption(\u001b[38;5;28mself\u001b[39m, control_condition))[\u001b[38;5;241m-\u001b[39m\u001b[38;5;241m1\u001b[39m]\u001b[38;5;241m/\u001b[39m\\\n\u001b[1;32m   1004\u001b[0m         CostFunction\u001b[38;5;241m.\u001b[39mramping(get_net_electricity_consumption(\u001b[38;5;28mself\u001b[39m, baseline_condition))[\u001b[38;5;241m-\u001b[39m\u001b[38;5;241m1\u001b[39m],\n\u001b[1;32m   1005\u001b[0m }, {\n\u001b[1;32m   1006\u001b[0m     \u001b[38;5;124m'\u001b[39m\u001b[38;5;124mcost_function\u001b[39m\u001b[38;5;124m'\u001b[39m: \u001b[38;5;124m'\u001b[39m\u001b[38;5;124mdaily_one_minus_load_factor_average\u001b[39m\u001b[38;5;124m'\u001b[39m,\n\u001b[0;32m-> 1007\u001b[0m     \u001b[38;5;124m'\u001b[39m\u001b[38;5;124mvalue\u001b[39m\u001b[38;5;124m'\u001b[39m: \u001b[43mCostFunction\u001b[49m\u001b[38;5;241;43m.\u001b[39;49m\u001b[43mone_minus_load_factor\u001b[49m\u001b[43m(\u001b[49m\u001b[43mget_net_electricity_consumption\u001b[49m\u001b[43m(\u001b[49m\u001b[38;5;28;43mself\u001b[39;49m\u001b[43m,\u001b[49m\u001b[43m \u001b[49m\u001b[43mcontrol_condition\u001b[49m\u001b[43m)\u001b[49m\u001b[43m,\u001b[49m\u001b[43m \u001b[49m\u001b[43mwindow\u001b[49m\u001b[38;5;241;43m=\u001b[39;49m\u001b[38;5;241;43m24\u001b[39;49m\u001b[43m)\u001b[49m\u001b[43m[\u001b[49m\u001b[38;5;241;43m-\u001b[39;49m\u001b[38;5;241;43m1\u001b[39;49m\u001b[43m]\u001b[49m\u001b[38;5;241;43m/\u001b[39;49m\u001b[43m\\\u001b[49m\n\u001b[1;32m   1008\u001b[0m \u001b[43m        \u001b[49m\u001b[43mCostFunction\u001b[49m\u001b[38;5;241;43m.\u001b[39;49m\u001b[43mone_minus_load_factor\u001b[49m\u001b[43m(\u001b[49m\u001b[43mget_net_electricity_consumption\u001b[49m\u001b[43m(\u001b[49m\u001b[38;5;28;43mself\u001b[39;49m\u001b[43m,\u001b[49m\u001b[43m \u001b[49m\u001b[43mbaseline_condition\u001b[49m\u001b[43m)\u001b[49m\u001b[43m,\u001b[49m\u001b[43m \u001b[49m\u001b[43mwindow\u001b[49m\u001b[38;5;241;43m=\u001b[39;49m\u001b[38;5;241;43m24\u001b[39;49m\u001b[43m)\u001b[49m\u001b[43m[\u001b[49m\u001b[38;5;241;43m-\u001b[39;49m\u001b[38;5;241;43m1\u001b[39;49m\u001b[43m]\u001b[49m,\n\u001b[1;32m   1009\u001b[0m },{\n\u001b[1;32m   1010\u001b[0m     \u001b[38;5;124m'\u001b[39m\u001b[38;5;124mcost_function\u001b[39m\u001b[38;5;124m'\u001b[39m: \u001b[38;5;124m'\u001b[39m\u001b[38;5;124mmonthly_one_minus_load_factor_average\u001b[39m\u001b[38;5;124m'\u001b[39m,\n\u001b[1;32m   1011\u001b[0m     \u001b[38;5;124m'\u001b[39m\u001b[38;5;124mvalue\u001b[39m\u001b[38;5;124m'\u001b[39m: CostFunction\u001b[38;5;241m.\u001b[39mone_minus_load_factor(get_net_electricity_consumption(\u001b[38;5;28mself\u001b[39m, control_condition), window\u001b[38;5;241m=\u001b[39m\u001b[38;5;241m730\u001b[39m)[\u001b[38;5;241m-\u001b[39m\u001b[38;5;241m1\u001b[39m]\u001b[38;5;241m/\u001b[39m\\\n\u001b[1;32m   1012\u001b[0m         CostFunction\u001b[38;5;241m.\u001b[39mone_minus_load_factor(get_net_electricity_consumption(\u001b[38;5;28mself\u001b[39m, baseline_condition), window\u001b[38;5;241m=\u001b[39m\u001b[38;5;241m730\u001b[39m)[\u001b[38;5;241m-\u001b[39m\u001b[38;5;241m1\u001b[39m],\n\u001b[1;32m   1013\u001b[0m }, {\n\u001b[1;32m   1014\u001b[0m     \u001b[38;5;124m'\u001b[39m\u001b[38;5;124mcost_function\u001b[39m\u001b[38;5;124m'\u001b[39m: \u001b[38;5;124m'\u001b[39m\u001b[38;5;124mdaily_peak_average\u001b[39m\u001b[38;5;124m'\u001b[39m,\n\u001b[1;32m   1015\u001b[0m     \u001b[38;5;124m'\u001b[39m\u001b[38;5;124mvalue\u001b[39m\u001b[38;5;124m'\u001b[39m: CostFunction\u001b[38;5;241m.\u001b[39mpeak(get_net_electricity_consumption(\u001b[38;5;28mself\u001b[39m, control_condition), window\u001b[38;5;241m=\u001b[39m\u001b[38;5;241m24\u001b[39m)[\u001b[38;5;241m-\u001b[39m\u001b[38;5;241m1\u001b[39m]\u001b[38;5;241m/\u001b[39m\\\n\u001b[1;32m   1016\u001b[0m         CostFunction\u001b[38;5;241m.\u001b[39mpeak(get_net_electricity_consumption(\u001b[38;5;28mself\u001b[39m, baseline_condition), window\u001b[38;5;241m=\u001b[39m\u001b[38;5;241m24\u001b[39m)[\u001b[38;5;241m-\u001b[39m\u001b[38;5;241m1\u001b[39m],\n\u001b[1;32m   1017\u001b[0m }, {\n\u001b[1;32m   1018\u001b[0m     \u001b[38;5;124m'\u001b[39m\u001b[38;5;124mcost_function\u001b[39m\u001b[38;5;124m'\u001b[39m: \u001b[38;5;124m'\u001b[39m\u001b[38;5;124mannual_peak_average\u001b[39m\u001b[38;5;124m'\u001b[39m,\n\u001b[1;32m   1019\u001b[0m     \u001b[38;5;124m'\u001b[39m\u001b[38;5;124mvalue\u001b[39m\u001b[38;5;124m'\u001b[39m: CostFunction\u001b[38;5;241m.\u001b[39mpeak(get_net_electricity_consumption(\u001b[38;5;28mself\u001b[39m, control_condition), window\u001b[38;5;241m=\u001b[39m\u001b[38;5;241m8760\u001b[39m)[\u001b[38;5;241m-\u001b[39m\u001b[38;5;241m1\u001b[39m]\u001b[38;5;241m/\u001b[39m\\\n\u001b[1;32m   1020\u001b[0m         CostFunction\u001b[38;5;241m.\u001b[39mpeak(get_net_electricity_consumption(\u001b[38;5;28mself\u001b[39m, baseline_condition), window\u001b[38;5;241m=\u001b[39m\u001b[38;5;241m8760\u001b[39m)[\u001b[38;5;241m-\u001b[39m\u001b[38;5;241m1\u001b[39m],\n\u001b[1;32m   1021\u001b[0m }])\n\u001b[1;32m   1023\u001b[0m district_level \u001b[38;5;241m=\u001b[39m pd\u001b[38;5;241m.\u001b[39mconcat([district_level, building_level], ignore_index\u001b[38;5;241m=\u001b[39m\u001b[38;5;28;01mTrue\u001b[39;00m, sort\u001b[38;5;241m=\u001b[39m\u001b[38;5;28;01mFalse\u001b[39;00m)\n\u001b[1;32m   1024\u001b[0m district_level \u001b[38;5;241m=\u001b[39m district_level\u001b[38;5;241m.\u001b[39mgroupby([\u001b[38;5;124m'\u001b[39m\u001b[38;5;124mcost_function\u001b[39m\u001b[38;5;124m'\u001b[39m])[[\u001b[38;5;124m'\u001b[39m\u001b[38;5;124mvalue\u001b[39m\u001b[38;5;124m'\u001b[39m]]\u001b[38;5;241m.\u001b[39mmean()\u001b[38;5;241m.\u001b[39mreset_index()\n",
      "\u001b[0;31mZeroDivisionError\u001b[0m: float division by zero"
     ]
    }
   ],
   "source": [
    "print(env.evaluate_citylearn_challenge())"
   ]
  }
 ],
 "metadata": {
  "kernelspec": {
   "display_name": "Python 3",
   "language": "python",
   "name": "python3"
  },
  "language_info": {
   "codemirror_mode": {
    "name": "ipython",
    "version": 3
   },
   "file_extension": ".py",
   "mimetype": "text/x-python",
   "name": "python",
   "nbconvert_exporter": "python",
   "pygments_lexer": "ipython3",
   "version": "3.10.12"
  }
 },
 "nbformat": 4,
 "nbformat_minor": 2
}
