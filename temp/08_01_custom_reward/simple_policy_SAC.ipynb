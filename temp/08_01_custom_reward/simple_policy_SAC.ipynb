{
 "cells": [
  {
   "cell_type": "markdown",
   "metadata": {},
   "source": [
    "### Training of a simple policy using the custom reward function"
   ]
  },
  {
   "cell_type": "code",
   "execution_count": 30,
   "metadata": {},
   "outputs": [],
   "source": [
    "import numpy as np \n",
    "import pandas as pd\n",
    "\n",
    "import math\n",
    "import sys\n",
    "import os"
   ]
  },
  {
   "cell_type": "code",
   "execution_count": 31,
   "metadata": {},
   "outputs": [
    {
     "data": {
      "text/plain": [
       "'0.21.0'"
      ]
     },
     "execution_count": 31,
     "metadata": {},
     "output_type": "execute_result"
    }
   ],
   "source": [
    "import gym\n",
    "gym.__version__"
   ]
  },
  {
   "cell_type": "code",
   "execution_count": 32,
   "metadata": {},
   "outputs": [],
   "source": [
    "from citylearn.citylearn import CityLearnEnv"
   ]
  },
  {
   "cell_type": "code",
   "execution_count": 33,
   "metadata": {},
   "outputs": [],
   "source": [
    "from citylearn.wrappers import NormalizedObservationWrapper, StableBaselines3Wrapper"
   ]
  },
  {
   "cell_type": "code",
   "execution_count": 34,
   "metadata": {},
   "outputs": [],
   "source": [
    "from stable_baselines3 import SAC\n",
    "from stable_baselines3.common.callbacks import BaseCallback"
   ]
  },
  {
   "cell_type": "code",
   "execution_count": 35,
   "metadata": {},
   "outputs": [],
   "source": [
    "from custom_reward import CustomReward"
   ]
  },
  {
   "cell_type": "markdown",
   "metadata": {},
   "source": [
    "#### Create the environment"
   ]
  },
  {
   "cell_type": "markdown",
   "metadata": {},
   "source": [
    "A function and a wrapper class as given in the local evaluation script provided by the challenge"
   ]
  },
  {
   "cell_type": "code",
   "execution_count": 36,
   "metadata": {},
   "outputs": [],
   "source": [
    "class WrapperEnv:\n",
    "    \"\"\"\n",
    "    Env to wrap provide Citylearn Env data without providing full env\n",
    "    Preventing attribute access outside of the available functions\n",
    "    \"\"\"\n",
    "    def __init__(self, env_data):\n",
    "        self.observation_names = env_data['observation_names']\n",
    "        self.action_names = env_data['action_names']\n",
    "        self.observation_space = env_data['observation_space']\n",
    "        self.action_space = env_data['action_space']\n",
    "        self.time_steps = env_data['time_steps']\n",
    "        self.seconds_per_time_step = env_data['seconds_per_time_step']\n",
    "        self.random_seed = env_data['random_seed']\n",
    "        self.buildings_metadata = env_data['buildings_metadata']\n",
    "        self.episode_tracker = env_data['episode_tracker']\n",
    "    \n",
    "    def get_metadata(self):\n",
    "        return {'buildings': self.buildings_metadata}\n",
    "\n",
    "def create_citylearn_env(schema_path, reward_function, central_agent):\n",
    "    env = CityLearnEnv(schema=schema_path, reward_function=reward_function, central_agent=central_agent)\n",
    "\n",
    "    env_data = dict(\n",
    "        observation_names = env.observation_names,\n",
    "        action_names = env.action_names,\n",
    "        observation_space = env.observation_space,\n",
    "        action_space = env.action_space,\n",
    "        time_steps = env.time_steps,\n",
    "        random_seed = None,\n",
    "        episode_tracker = None,\n",
    "        seconds_per_time_step = None,\n",
    "        buildings_metadata = env.get_metadata()['buildings']\n",
    "    )\n",
    "\n",
    "    wrapper_env = WrapperEnv(env_data)\n",
    "    return env, wrapper_env"
   ]
  },
  {
   "cell_type": "markdown",
   "metadata": {},
   "source": [
    "create environment"
   ]
  },
  {
   "cell_type": "code",
   "execution_count": 37,
   "metadata": {},
   "outputs": [],
   "source": [
    "schema_path = os.path.join(\"./data/\", \"schema.json\")\n",
    "\n",
    "env, wrapper_env = create_citylearn_env(schema_path, CustomReward, True)"
   ]
  },
  {
   "cell_type": "code",
   "execution_count": 38,
   "metadata": {},
   "outputs": [],
   "source": [
    "# env.get_metadata()\n",
    "# env.reward_function.env_metadata"
   ]
  },
  {
   "cell_type": "markdown",
   "metadata": {},
   "source": [
    "Prepare for SB3"
   ]
  },
  {
   "cell_type": "code",
   "execution_count": 39,
   "metadata": {},
   "outputs": [],
   "source": [
    "env = NormalizedObservationWrapper(env)\n",
    "env = StableBaselines3Wrapper(env)"
   ]
  },
  {
   "cell_type": "markdown",
   "metadata": {},
   "source": [
    "Create SAC model"
   ]
  },
  {
   "cell_type": "code",
   "execution_count": 40,
   "metadata": {},
   "outputs": [],
   "source": [
    "# model = SAC(\"MlpPolicy\", env, tensorboard_log=\"./tensorboard_logs/\")\n",
    "\n",
    "model = SAC.load(\"models/custom_reward_SAC6.zip\")\n",
    "model.set_env(env)"
   ]
  },
  {
   "cell_type": "markdown",
   "metadata": {},
   "source": [
    "Create custom callback to track reward values"
   ]
  },
  {
   "cell_type": "code",
   "execution_count": 41,
   "metadata": {},
   "outputs": [],
   "source": [
    "class CustomCallback(BaseCallback):\n",
    "    \"\"\"\n",
    "    Custom callback for plotting additional reward values in tensorboard\n",
    "    \"\"\"\n",
    "    def __init__(self, env, verbose = 0):\n",
    "        super().__init__(verbose)\n",
    "        self.env = env\n",
    "        self.reset()\n",
    "        \n",
    "    def reset(self):\n",
    "        self.comfort = 0.\n",
    "        self.emissions = 0.\n",
    "        self.grid = 0.\n",
    "        self.resilience = 0.\n",
    "        self.u = 0.\n",
    "        self.g = 0.\n",
    "        self.r = 0.\n",
    "        self.d = 0.\n",
    "        self.l = 0.\n",
    "        self.a = 0.\n",
    "        self.m = 0.\n",
    "        self.s = 0.\n",
    "\n",
    "    def _on_rollout_end(self) -> None:\n",
    "        self.logger.record(\"comfort\", self.comfort)\n",
    "        self.logger.record(\"emissions\", self.emissions)\n",
    "        self.logger.record(\"grid\", self.grid)\n",
    "        self.logger.record(\"resilience\", self.resilience)\n",
    "        self.logger.record(\"u\", self.u)\n",
    "        self.logger.record(\"g\", self.g)\n",
    "        self.logger.record(\"r\", self.r)\n",
    "        self.logger.record(\"d\", self.d)\n",
    "        self.logger.record(\"l\", self.l)\n",
    "        self.logger.record(\"a\", self.a)\n",
    "        self.logger.record(\"m\", self.m)\n",
    "        self.logger.record(\"s\", self.s)\n",
    "        self.reset()\n",
    "\n",
    "    def _on_step(self) -> bool:\n",
    "        self.comfort += self.env.reward_function.comfort\n",
    "        self.emissions += self.env.reward_function.emissions\n",
    "        self.grid += self.env.reward_function.grid\n",
    "        self.resilience += self.env.reward_function.resilience\n",
    "        self.u += self.env.reward_function.u\n",
    "        self.g += self.env.reward_function.g\n",
    "        self.r += self.env.reward_function.r\n",
    "        self.d += self.env.reward_function.d\n",
    "        self.l += self.env.reward_function.l\n",
    "        self.a += self.env.reward_function.a\n",
    "        self.m += self.env.reward_function.m\n",
    "        self.s += self.env.reward_function.s\n",
    "\n",
    "        return True\n"
   ]
  },
  {
   "cell_type": "markdown",
   "metadata": {},
   "source": [
    "Train"
   ]
  },
  {
   "cell_type": "code",
   "execution_count": 42,
   "metadata": {},
   "outputs": [],
   "source": [
    "# model.learn(total_timesteps = env.get_metadata()[\"simulation_time_steps\"] * 20, \n",
    "#             log_interval = 1)\n",
    "# # model.learn(total_timesteps = env.get_metadata()[\"simulation_time_steps\"] * 20, \n",
    "# #             log_interval = 1,\n",
    "# #             callback = CustomCallback(env))\n",
    "# model.save(\"models/custom_reward_SAC\")"
   ]
  },
  {
   "cell_type": "markdown",
   "metadata": {},
   "source": [
    "Evaluate "
   ]
  },
  {
   "cell_type": "code",
   "execution_count": 43,
   "metadata": {},
   "outputs": [
    {
     "data": {
      "text/html": [
       "<div>\n",
       "<style scoped>\n",
       "    .dataframe tbody tr th:only-of-type {\n",
       "        vertical-align: middle;\n",
       "    }\n",
       "\n",
       "    .dataframe tbody tr th {\n",
       "        vertical-align: top;\n",
       "    }\n",
       "\n",
       "    .dataframe thead th {\n",
       "        text-align: right;\n",
       "    }\n",
       "</style>\n",
       "<table border=\"1\" class=\"dataframe\">\n",
       "  <thead>\n",
       "    <tr style=\"text-align: right;\">\n",
       "      <th>name</th>\n",
       "      <th>Building_1</th>\n",
       "      <th>Building_2</th>\n",
       "      <th>Building_3</th>\n",
       "      <th>District</th>\n",
       "    </tr>\n",
       "    <tr>\n",
       "      <th>cost_function</th>\n",
       "      <th></th>\n",
       "      <th></th>\n",
       "      <th></th>\n",
       "      <th></th>\n",
       "    </tr>\n",
       "  </thead>\n",
       "  <tbody>\n",
       "    <tr>\n",
       "      <th>annual_normalized_unserved_energy_total</th>\n",
       "      <td>0.044407</td>\n",
       "      <td>0.027406</td>\n",
       "      <td>0.037853</td>\n",
       "      <td>0.036555</td>\n",
       "    </tr>\n",
       "    <tr>\n",
       "      <th>annual_peak_average</th>\n",
       "      <td>NaN</td>\n",
       "      <td>NaN</td>\n",
       "      <td>NaN</td>\n",
       "      <td>0.950379</td>\n",
       "    </tr>\n",
       "    <tr>\n",
       "      <th>carbon_emissions_total</th>\n",
       "      <td>0.830986</td>\n",
       "      <td>1.171531</td>\n",
       "      <td>0.883571</td>\n",
       "      <td>0.962029</td>\n",
       "    </tr>\n",
       "    <tr>\n",
       "      <th>cost_total</th>\n",
       "      <td>0.813885</td>\n",
       "      <td>1.164120</td>\n",
       "      <td>0.855781</td>\n",
       "      <td>0.944595</td>\n",
       "    </tr>\n",
       "    <tr>\n",
       "      <th>daily_one_minus_load_factor_average</th>\n",
       "      <td>NaN</td>\n",
       "      <td>NaN</td>\n",
       "      <td>NaN</td>\n",
       "      <td>0.741901</td>\n",
       "    </tr>\n",
       "    <tr>\n",
       "      <th>daily_peak_average</th>\n",
       "      <td>NaN</td>\n",
       "      <td>NaN</td>\n",
       "      <td>NaN</td>\n",
       "      <td>0.735694</td>\n",
       "    </tr>\n",
       "    <tr>\n",
       "      <th>discomfort_delta_average</th>\n",
       "      <td>-0.074267</td>\n",
       "      <td>-0.160010</td>\n",
       "      <td>0.275628</td>\n",
       "      <td>0.013784</td>\n",
       "    </tr>\n",
       "    <tr>\n",
       "      <th>discomfort_delta_maximum</th>\n",
       "      <td>5.654882</td>\n",
       "      <td>5.819633</td>\n",
       "      <td>4.061457</td>\n",
       "      <td>5.178658</td>\n",
       "    </tr>\n",
       "    <tr>\n",
       "      <th>discomfort_delta_minimum</th>\n",
       "      <td>-4.684221</td>\n",
       "      <td>-11.568905</td>\n",
       "      <td>-2.643860</td>\n",
       "      <td>-6.298995</td>\n",
       "    </tr>\n",
       "    <tr>\n",
       "      <th>discomfort_proportion</th>\n",
       "      <td>0.014025</td>\n",
       "      <td>0.117537</td>\n",
       "      <td>0.004992</td>\n",
       "      <td>0.045518</td>\n",
       "    </tr>\n",
       "    <tr>\n",
       "      <th>discomfort_too_cold_proportion</th>\n",
       "      <td>0.004208</td>\n",
       "      <td>0.102612</td>\n",
       "      <td>0.001664</td>\n",
       "      <td>0.036161</td>\n",
       "    </tr>\n",
       "    <tr>\n",
       "      <th>discomfort_too_hot_proportion</th>\n",
       "      <td>0.009818</td>\n",
       "      <td>0.014925</td>\n",
       "      <td>0.003328</td>\n",
       "      <td>0.009357</td>\n",
       "    </tr>\n",
       "    <tr>\n",
       "      <th>electricity_consumption_total</th>\n",
       "      <td>0.832988</td>\n",
       "      <td>1.172151</td>\n",
       "      <td>0.887401</td>\n",
       "      <td>0.964180</td>\n",
       "    </tr>\n",
       "    <tr>\n",
       "      <th>monthly_one_minus_load_factor_average</th>\n",
       "      <td>NaN</td>\n",
       "      <td>NaN</td>\n",
       "      <td>NaN</td>\n",
       "      <td>1.004724</td>\n",
       "    </tr>\n",
       "    <tr>\n",
       "      <th>one_minus_thermal_resilience_proportion</th>\n",
       "      <td>0.333333</td>\n",
       "      <td>0.571429</td>\n",
       "      <td>0.133333</td>\n",
       "      <td>0.346032</td>\n",
       "    </tr>\n",
       "    <tr>\n",
       "      <th>power_outage_normalized_unserved_energy_total</th>\n",
       "      <td>0.818753</td>\n",
       "      <td>0.807006</td>\n",
       "      <td>0.773290</td>\n",
       "      <td>0.799683</td>\n",
       "    </tr>\n",
       "    <tr>\n",
       "      <th>ramping_average</th>\n",
       "      <td>NaN</td>\n",
       "      <td>NaN</td>\n",
       "      <td>NaN</td>\n",
       "      <td>0.385774</td>\n",
       "    </tr>\n",
       "    <tr>\n",
       "      <th>zero_net_energy</th>\n",
       "      <td>0.824624</td>\n",
       "      <td>1.169616</td>\n",
       "      <td>0.886396</td>\n",
       "      <td>0.960212</td>\n",
       "    </tr>\n",
       "  </tbody>\n",
       "</table>\n",
       "</div>"
      ],
      "text/plain": [
       "name                                           Building_1  Building_2  \\\n",
       "cost_function                                                           \n",
       "annual_normalized_unserved_energy_total          0.044407    0.027406   \n",
       "annual_peak_average                                   NaN         NaN   \n",
       "carbon_emissions_total                           0.830986    1.171531   \n",
       "cost_total                                       0.813885    1.164120   \n",
       "daily_one_minus_load_factor_average                   NaN         NaN   \n",
       "daily_peak_average                                    NaN         NaN   \n",
       "discomfort_delta_average                        -0.074267   -0.160010   \n",
       "discomfort_delta_maximum                         5.654882    5.819633   \n",
       "discomfort_delta_minimum                        -4.684221  -11.568905   \n",
       "discomfort_proportion                            0.014025    0.117537   \n",
       "discomfort_too_cold_proportion                   0.004208    0.102612   \n",
       "discomfort_too_hot_proportion                    0.009818    0.014925   \n",
       "electricity_consumption_total                    0.832988    1.172151   \n",
       "monthly_one_minus_load_factor_average                 NaN         NaN   \n",
       "one_minus_thermal_resilience_proportion          0.333333    0.571429   \n",
       "power_outage_normalized_unserved_energy_total    0.818753    0.807006   \n",
       "ramping_average                                       NaN         NaN   \n",
       "zero_net_energy                                  0.824624    1.169616   \n",
       "\n",
       "name                                           Building_3  District  \n",
       "cost_function                                                        \n",
       "annual_normalized_unserved_energy_total          0.037853  0.036555  \n",
       "annual_peak_average                                   NaN  0.950379  \n",
       "carbon_emissions_total                           0.883571  0.962029  \n",
       "cost_total                                       0.855781  0.944595  \n",
       "daily_one_minus_load_factor_average                   NaN  0.741901  \n",
       "daily_peak_average                                    NaN  0.735694  \n",
       "discomfort_delta_average                         0.275628  0.013784  \n",
       "discomfort_delta_maximum                         4.061457  5.178658  \n",
       "discomfort_delta_minimum                        -2.643860 -6.298995  \n",
       "discomfort_proportion                            0.004992  0.045518  \n",
       "discomfort_too_cold_proportion                   0.001664  0.036161  \n",
       "discomfort_too_hot_proportion                    0.003328  0.009357  \n",
       "electricity_consumption_total                    0.887401  0.964180  \n",
       "monthly_one_minus_load_factor_average                 NaN  1.004724  \n",
       "one_minus_thermal_resilience_proportion          0.133333  0.346032  \n",
       "power_outage_normalized_unserved_energy_total    0.773290  0.799683  \n",
       "ramping_average                                       NaN  0.385774  \n",
       "zero_net_energy                                  0.886396  0.960212  "
      ]
     },
     "metadata": {},
     "output_type": "display_data"
    }
   ],
   "source": [
    "observations = env.reset()\n",
    "\n",
    "while not env.done:\n",
    "    actions, _ = model.predict(observations, deterministic=True)\n",
    "    observations, _, _, _ = env.step(actions)\n",
    "\n",
    "kpis = env.evaluate()\n",
    "kpis = kpis.pivot(index='cost_function', columns='name', values='value')\n",
    "kpis = kpis.dropna(how='all')\n",
    "display(kpis)"
   ]
  }
 ],
 "metadata": {
  "kernelspec": {
   "display_name": "Python 3",
   "language": "python",
   "name": "python3"
  },
  "language_info": {
   "codemirror_mode": {
    "name": "ipython",
    "version": 3
   },
   "file_extension": ".py",
   "mimetype": "text/x-python",
   "name": "python",
   "nbconvert_exporter": "python",
   "pygments_lexer": "ipython3",
   "version": "3.10.12"
  }
 },
 "nbformat": 4,
 "nbformat_minor": 2
}
