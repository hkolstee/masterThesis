{
 "cells": [
  {
   "cell_type": "code",
   "execution_count": 1,
   "metadata": {},
   "outputs": [],
   "source": [
    "import numpy as np \n",
    "import pandas as pd\n",
    "\n",
    "import math\n",
    "import sys\n",
    "import os\n",
    "\n",
    "import gymnasium as gym\n",
    "gym.__version__\n",
    "\n",
    "from citylearn.citylearn import CityLearnEnv\n",
    "from citylearn.wrappers import NormalizedObservationWrapper, StableBaselines3Wrapper\n",
    "from citylearn.reward_function import RewardFunction\n",
    "\n",
    "sys.path.append(\"../custom_reward\")\n",
    "from custom_reward.custom_reward import CustomReward\n",
    "\n",
    "from stable_baselines3 import SAC\n",
    "\n",
    "import seaborn as sns\n",
    "import matplotlib.pyplot as plt"
   ]
  },
  {
   "cell_type": "code",
   "execution_count": 2,
   "metadata": {},
   "outputs": [],
   "source": [
    "class WrapperEnv:\n",
    "    \"\"\"\n",
    "    Env to wrap provide Citylearn Env data without providing full env\n",
    "    Preventing attribute access outside of the available functions\n",
    "    \"\"\"\n",
    "    def __init__(self, env_data):\n",
    "        self.observation_names = env_data['observation_names']\n",
    "        self.action_names = env_data['action_names']\n",
    "        self.observation_space = env_data['observation_space']\n",
    "        self.action_space = env_data['action_space']\n",
    "        self.time_steps = env_data['time_steps']\n",
    "        self.seconds_per_time_step = env_data['seconds_per_time_step']\n",
    "        self.random_seed = env_data['random_seed']\n",
    "        self.buildings_metadata = env_data['buildings_metadata']\n",
    "        self.episode_tracker = env_data['episode_tracker']\n",
    "    \n",
    "    def get_metadata(self):\n",
    "        return {'buildings': self.buildings_metadata}"
   ]
  },
  {
   "cell_type": "code",
   "execution_count": 3,
   "metadata": {},
   "outputs": [],
   "source": [
    "def makeEnv(schema_path, reward_function):\n",
    "    # create environment\n",
    "    env = CityLearnEnv(schema = schema_path, reward_function = reward_function, central_agent=False)\n",
    "\n",
    "    env_data = dict(\n",
    "        observation_names = env.observation_names,\n",
    "        action_names = env.action_names,\n",
    "        observation_space = env.observation_space,\n",
    "        action_space = env.action_space,\n",
    "        time_steps = env.time_steps,\n",
    "        random_seed = None,\n",
    "        episode_tracker = None,\n",
    "        seconds_per_time_step = None,\n",
    "        buildings_metadata = env.get_metadata()['buildings']\n",
    "    )\n",
    "\n",
    "    wrapper_env = WrapperEnv(env_data)\n",
    "    return env, wrapper_env\n"
   ]
  },
  {
   "cell_type": "code",
   "execution_count": 4,
   "metadata": {},
   "outputs": [],
   "source": [
    "schema_path = \"data/schema.json\"\n",
    "\n",
    "env, wrapper_env = makeEnv(schema_path, CustomReward)\n",
    "\n",
    "# wrap environment for use in stablebaselines3\n",
    "# env = NormalizedObservationWrapper(env)\n",
    "# env = StableBaselines3Wrapper(env)"
   ]
  },
  {
   "cell_type": "code",
   "execution_count": 5,
   "metadata": {},
   "outputs": [
    {
     "data": {
      "text/plain": [
       "[(3,), (3,), (3,)]"
      ]
     },
     "execution_count": 5,
     "metadata": {},
     "output_type": "execute_result"
    }
   ],
   "source": [
    "obs = env.reset()\n",
    "# display(env.observation_space[0].sample)\n",
    "sum([obs.shape[0] for idx, obs in enumerate(env.observation_space)])\n",
    "[obs.shape for obs in env.observation_space]\n",
    "[act.shape for act in env.action_space]\n",
    "# display(env.action_space)\n",
    "# print(np.array(env.reset()).shape)"
   ]
  },
  {
   "cell_type": "code",
   "execution_count": 6,
   "metadata": {},
   "outputs": [
    {
     "data": {
      "text/plain": [
       "array({'uid': '8f772e8e457b49a0a9acc118ed44c8b8', 'random_seed': 16590566, 'simulation_time_steps': 720, 'seconds_per_time_step': 3600.0, 'reward_function': 'CustomReward', 'central_agent': False, 'shared_observations': ['month', 'day_type', 'hour', 'daylight_savings_status', 'outdoor_dry_bulb_temperature', 'outdoor_dry_bulb_temperature_predicted_6h', 'outdoor_dry_bulb_temperature_predicted_12h', 'outdoor_dry_bulb_temperature_predicted_24h', 'outdoor_relative_humidity', 'outdoor_relative_humidity_predicted_6h', 'outdoor_relative_humidity_predicted_12h', 'outdoor_relative_humidity_predicted_24h', 'diffuse_solar_irradiance', 'diffuse_solar_irradiance_predicted_6h', 'diffuse_solar_irradiance_predicted_12h', 'diffuse_solar_irradiance_predicted_24h', 'direct_solar_irradiance', 'direct_solar_irradiance_predicted_6h', 'direct_solar_irradiance_predicted_12h', 'direct_solar_irradiance_predicted_24h', 'carbon_intensity', 'electricity_pricing', 'electricity_pricing_predicted_6h', 'electricity_pricing_predicted_12h', 'electricity_pricing_predicted_24h'], 'buildings': [{'uid': 'e6520eba6c2a47028b5c59d7de478fd5', 'random_seed': 44435698, 'simulation_time_steps': 720, 'seconds_per_time_step': 3600.0, 'name': 'Building_1', 'observation_metadata': {'month': False, 'day_type': True, 'hour': True, 'daylight_savings_status': False, 'outdoor_dry_bulb_temperature': True, 'outdoor_dry_bulb_temperature_predicted_6h': True, 'outdoor_dry_bulb_temperature_predicted_12h': True, 'outdoor_dry_bulb_temperature_predicted_24h': True, 'outdoor_relative_humidity': False, 'outdoor_relative_humidity_predicted_6h': False, 'outdoor_relative_humidity_predicted_12h': False, 'outdoor_relative_humidity_predicted_24h': False, 'diffuse_solar_irradiance': True, 'diffuse_solar_irradiance_predicted_6h': True, 'diffuse_solar_irradiance_predicted_12h': True, 'diffuse_solar_irradiance_predicted_24h': True, 'direct_solar_irradiance': True, 'direct_solar_irradiance_predicted_6h': True, 'direct_solar_irradiance_predicted_12h': True, 'direct_solar_irradiance_predicted_24h': True, 'carbon_intensity': True, 'indoor_dry_bulb_temperature': True, 'average_unmet_cooling_setpoint_difference': False, 'indoor_relative_humidity': False, 'non_shiftable_load': True, 'solar_generation': True, 'cooling_storage_soc': False, 'heating_storage_soc': False, 'dhw_storage_soc': True, 'electrical_storage_soc': True, 'net_electricity_consumption': True, 'electricity_pricing': True, 'electricity_pricing_predicted_6h': True, 'electricity_pricing_predicted_12h': True, 'electricity_pricing_predicted_24h': True, 'cooling_device_cop': False, 'heating_device_cop': False, 'cooling_demand': True, 'heating_demand': False, 'dhw_demand': True, 'cooling_electricity_consumption': False, 'heating_electricity_consumption': False, 'dhw_electricity_consumption': False, 'occupant_count': True, 'indoor_dry_bulb_temperature_set_point': True, 'indoor_dry_bulb_temperature_delta': False, 'power_outage': True}, 'action_metadata': {'cooling_storage': False, 'heating_storage': False, 'dhw_storage': True, 'electrical_storage': True, 'cooling_device': True, 'heating_device': False}, 'maximum_temperature_delta': 10.0, 'cooling_device': {'uid': '2eb485b572744d779975db3dca6d13f5', 'random_seed': 61229045, 'simulation_time_steps': 720, 'seconds_per_time_step': 3600.0, 'efficiency': 0.2535049749071043, 'nominal_power': 4.109619617462158, 'target_heating_temperature': 45, 'target_cooling_temperature': 7.991821357673299}, 'heating_device': {'uid': '20210d63b1c44605aefa944b8ae12186', 'random_seed': 56948402, 'simulation_time_steps': 720, 'seconds_per_time_step': 3600.0, 'efficiency': 0.2, 'nominal_power': 0.0, 'target_heating_temperature': 45.0, 'target_cooling_temperature': 8.0}, 'dhw_device': {'uid': 'd53ba53016f24cc6a52d6e271023f1bd', 'random_seed': 25007431, 'simulation_time_steps': 720, 'seconds_per_time_step': 3600.0, 'efficiency': 0.939146312056097, 'nominal_power': 4.861171245574951}, 'non_shiftable_load_device': {'uid': '902a414a12f04c5d867d4016cf76c6d2', 'random_seed': 58883574, 'simulation_time_steps': 720, 'seconds_per_time_step': 3600.0, 'efficiency': 1.0, 'nominal_power': 0.0}, 'cooling_storage': {'uid': '843c03a69fa949d3b6a700be430bcc28', 'random_seed': 73130295, 'simulation_time_steps': 720, 'seconds_per_time_step': 3600.0, 'efficiency': 1.0, 'capacity': 0.0, 'loss_coefficient': 0.006, 'initial_soc': 0.0, 'round_trip_efficiency': 1.0}, 'heating_storage': {'uid': 'd9e93b5d70264d1fb5202f64face84f3', 'random_seed': 28401184, 'simulation_time_steps': 720, 'seconds_per_time_step': 3600.0, 'efficiency': 1.0, 'capacity': 0.0, 'loss_coefficient': 0.006, 'initial_soc': 0.0, 'round_trip_efficiency': 1.0}, 'dhw_storage': {'uid': 'd6fedd6fff21442aa5d80540a1bcf82d', 'random_seed': 39016681, 'simulation_time_steps': 720, 'seconds_per_time_step': 3600.0, 'efficiency': 1.0, 'capacity': 2.2826755046844482, 'loss_coefficient': 0.003212187876499649, 'initial_soc': 0.0, 'round_trip_efficiency': 1.0}, 'electrical_storage': {'uid': '8e68772d670d462b975c0fe35b320084', 'random_seed': 86750758, 'simulation_time_steps': 720, 'seconds_per_time_step': 3600.0, 'efficiency': 0.95, 'nominal_power': 3.32, 'capacity': 4.0, 'loss_coefficient': 0.0001, 'initial_soc': 0.19999999999999996, 'round_trip_efficiency': 0.9746794344808963, 'depth_of_discharge': 0.8, 'capacity_loss_coefficient': 1e-05, 'power_efficiency_curve': array([[0.  , 0.3 , 0.7 , 0.8 , 1.  ],\n",
       "       [0.88, 0.88, 0.95, 0.95, 0.9 ]]), 'capacity_power_curve': array([[0. , 0.8, 1. ],\n",
       "       [1. , 1. , 0.2]])}, 'pv': {'uid': 'df4d28d25abc4e118fe8b484144c34d4', 'random_seed': 60334615, 'simulation_time_steps': 720, 'seconds_per_time_step': 3600.0, 'efficiency': 1.0, 'nominal_power': 2.4000000000000004}, 'annual_cooling_demand_estimate': 2400.07568359375, 'annual_heating_demand_estimate': 0.0, 'annual_dhw_demand_estimate': 153.8460235595703, 'annual_non_shiftable_load_estimate': 450.445068359375, 'annual_solar_generation_estimate': 345.7142639160156}, {'uid': 'ed47b450928d4eadab5db689009f2fe3', 'random_seed': 88936269, 'simulation_time_steps': 720, 'seconds_per_time_step': 3600.0, 'name': 'Building_2', 'observation_metadata': {'month': False, 'day_type': True, 'hour': True, 'daylight_savings_status': False, 'outdoor_dry_bulb_temperature': True, 'outdoor_dry_bulb_temperature_predicted_6h': True, 'outdoor_dry_bulb_temperature_predicted_12h': True, 'outdoor_dry_bulb_temperature_predicted_24h': True, 'outdoor_relative_humidity': False, 'outdoor_relative_humidity_predicted_6h': False, 'outdoor_relative_humidity_predicted_12h': False, 'outdoor_relative_humidity_predicted_24h': False, 'diffuse_solar_irradiance': True, 'diffuse_solar_irradiance_predicted_6h': True, 'diffuse_solar_irradiance_predicted_12h': True, 'diffuse_solar_irradiance_predicted_24h': True, 'direct_solar_irradiance': True, 'direct_solar_irradiance_predicted_6h': True, 'direct_solar_irradiance_predicted_12h': True, 'direct_solar_irradiance_predicted_24h': True, 'carbon_intensity': True, 'indoor_dry_bulb_temperature': True, 'average_unmet_cooling_setpoint_difference': False, 'indoor_relative_humidity': False, 'non_shiftable_load': True, 'solar_generation': True, 'cooling_storage_soc': False, 'heating_storage_soc': False, 'dhw_storage_soc': True, 'electrical_storage_soc': True, 'net_electricity_consumption': True, 'electricity_pricing': True, 'electricity_pricing_predicted_6h': True, 'electricity_pricing_predicted_12h': True, 'electricity_pricing_predicted_24h': True, 'cooling_device_cop': False, 'heating_device_cop': False, 'cooling_demand': True, 'heating_demand': False, 'dhw_demand': True, 'cooling_electricity_consumption': False, 'heating_electricity_consumption': False, 'dhw_electricity_consumption': False, 'occupant_count': True, 'indoor_dry_bulb_temperature_set_point': True, 'indoor_dry_bulb_temperature_delta': False, 'power_outage': True}, 'action_metadata': {'cooling_storage': False, 'heating_storage': False, 'dhw_storage': True, 'electrical_storage': True, 'cooling_device': True, 'heating_device': False}, 'maximum_temperature_delta': 10.0, 'cooling_device': {'uid': '7ae1149faade40fc94ea049d040891e5', 'random_seed': 68590220, 'simulation_time_steps': 720, 'seconds_per_time_step': 3600.0, 'efficiency': 0.28791926968413395, 'nominal_power': 2.252523899078369, 'target_heating_temperature': 45, 'target_cooling_temperature': 6.016841879471529}, 'heating_device': {'uid': '1eb40e4906e746bcb5204f0bbbf28e19', 'random_seed': 68912880, 'simulation_time_steps': 720, 'seconds_per_time_step': 3600.0, 'efficiency': 0.2, 'nominal_power': 0.0, 'target_heating_temperature': 45.0, 'target_cooling_temperature': 8.0}, 'dhw_device': {'uid': '88edf10c0ec343549a4b3ce69d1e444b', 'random_seed': 54078971, 'simulation_time_steps': 720, 'seconds_per_time_step': 3600.0, 'efficiency': 0.8994733722992707, 'nominal_power': 3.681978464126587}, 'non_shiftable_load_device': {'uid': 'cc3a515e0753499c94071172e64063e8', 'random_seed': 35228693, 'simulation_time_steps': 720, 'seconds_per_time_step': 3600.0, 'efficiency': 1.0, 'nominal_power': 0.0}, 'cooling_storage': {'uid': '65f841ea12524eeb8af41fa7d93600a8', 'random_seed': 54997143, 'simulation_time_steps': 720, 'seconds_per_time_step': 3600.0, 'efficiency': 1.0, 'capacity': 0.0, 'loss_coefficient': 0.006, 'initial_soc': 0.0, 'round_trip_efficiency': 1.0}, 'heating_storage': {'uid': '61c90d20d1ea4329976af79608aa6783', 'random_seed': 27694343, 'simulation_time_steps': 720, 'seconds_per_time_step': 3600.0, 'efficiency': 1.0, 'capacity': 0.0, 'loss_coefficient': 0.006, 'initial_soc': 0.0, 'round_trip_efficiency': 1.0}, 'dhw_storage': {'uid': 'a74d1c1023d346b3ab92aba4210d3b03', 'random_seed': 83993369, 'simulation_time_steps': 720, 'seconds_per_time_step': 3600.0, 'efficiency': 1.0, 'capacity': 1.6559207439422607, 'loss_coefficient': 0.004154877290498826, 'initial_soc': 0.0, 'round_trip_efficiency': 1.0}, 'electrical_storage': {'uid': 'a7b683c1cf2e4875855382321d9a3748', 'random_seed': 87705127, 'simulation_time_steps': 720, 'seconds_per_time_step': 3600.0, 'efficiency': 0.95, 'nominal_power': 3.32, 'capacity': 4.0, 'loss_coefficient': 0.0001, 'initial_soc': 0.19999999999999996, 'round_trip_efficiency': 0.9746794344808963, 'depth_of_discharge': 0.8, 'capacity_loss_coefficient': 1e-05, 'power_efficiency_curve': array([[0.  , 0.3 , 0.7 , 0.8 , 1.  ],\n",
       "       [0.88, 0.88, 0.95, 0.95, 0.9 ]]), 'capacity_power_curve': array([[0. , 0.8, 1. ],\n",
       "       [1. , 1. , 0.2]])}, 'pv': {'uid': '01818d967daf42d4b1c50334ebdf86b2', 'random_seed': 13308546, 'simulation_time_steps': 720, 'seconds_per_time_step': 3600.0, 'efficiency': 1.0, 'nominal_power': 1.2000000000000002}, 'annual_cooling_demand_estimate': 1256.208740234375, 'annual_heating_demand_estimate': 0.0, 'annual_dhw_demand_estimate': 45.04438781738281, 'annual_non_shiftable_load_estimate': 323.14483642578125, 'annual_solar_generation_estimate': 172.8571319580078}, {'uid': 'bc869b343f7c4371bee88f6f62252625', 'random_seed': 94959428, 'simulation_time_steps': 720, 'seconds_per_time_step': 3600.0, 'name': 'Building_3', 'observation_metadata': {'month': False, 'day_type': True, 'hour': True, 'daylight_savings_status': False, 'outdoor_dry_bulb_temperature': True, 'outdoor_dry_bulb_temperature_predicted_6h': True, 'outdoor_dry_bulb_temperature_predicted_12h': True, 'outdoor_dry_bulb_temperature_predicted_24h': True, 'outdoor_relative_humidity': False, 'outdoor_relative_humidity_predicted_6h': False, 'outdoor_relative_humidity_predicted_12h': False, 'outdoor_relative_humidity_predicted_24h': False, 'diffuse_solar_irradiance': True, 'diffuse_solar_irradiance_predicted_6h': True, 'diffuse_solar_irradiance_predicted_12h': True, 'diffuse_solar_irradiance_predicted_24h': True, 'direct_solar_irradiance': True, 'direct_solar_irradiance_predicted_6h': True, 'direct_solar_irradiance_predicted_12h': True, 'direct_solar_irradiance_predicted_24h': True, 'carbon_intensity': True, 'indoor_dry_bulb_temperature': True, 'average_unmet_cooling_setpoint_difference': False, 'indoor_relative_humidity': False, 'non_shiftable_load': True, 'solar_generation': True, 'cooling_storage_soc': False, 'heating_storage_soc': False, 'dhw_storage_soc': True, 'electrical_storage_soc': True, 'net_electricity_consumption': True, 'electricity_pricing': True, 'electricity_pricing_predicted_6h': True, 'electricity_pricing_predicted_12h': True, 'electricity_pricing_predicted_24h': True, 'cooling_device_cop': False, 'heating_device_cop': False, 'cooling_demand': True, 'heating_demand': False, 'dhw_demand': True, 'cooling_electricity_consumption': False, 'heating_electricity_consumption': False, 'dhw_electricity_consumption': False, 'occupant_count': True, 'indoor_dry_bulb_temperature_set_point': True, 'indoor_dry_bulb_temperature_delta': False, 'power_outage': True}, 'action_metadata': {'cooling_storage': False, 'heating_storage': False, 'dhw_storage': True, 'electrical_storage': True, 'cooling_device': True, 'heating_device': False}, 'maximum_temperature_delta': 10.0, 'cooling_device': {'uid': 'd6789dd2f7694e87a0f3cecf1e5b9b0e', 'random_seed': 54981223, 'simulation_time_steps': 720, 'seconds_per_time_step': 3600.0, 'efficiency': 0.26107700777224274, 'nominal_power': 2.7777018547058105, 'target_heating_temperature': 45, 'target_cooling_temperature': 6.217435224703639}, 'heating_device': {'uid': '91cd5604ed804f6aaf1ea4c32f606c6d', 'random_seed': 28048042, 'simulation_time_steps': 720, 'seconds_per_time_step': 3600.0, 'efficiency': 0.2, 'nominal_power': 0.0, 'target_heating_temperature': 45.0, 'target_cooling_temperature': 8.0}, 'dhw_device': {'uid': '260c0d3e2b9f41cfa8fe0be7a78d5baf', 'random_seed': 39328008, 'simulation_time_steps': 720, 'seconds_per_time_step': 3600.0, 'efficiency': 0.9042817996199358, 'nominal_power': 6.286403179168701}, 'non_shiftable_load_device': {'uid': 'c8a3687375434585995b831eb6a695d8', 'random_seed': 57929429, 'simulation_time_steps': 720, 'seconds_per_time_step': 3600.0, 'efficiency': 1.0, 'nominal_power': 0.0}, 'cooling_storage': {'uid': '9a1c882220584813b966659e25b08e71', 'random_seed': 23696273, 'simulation_time_steps': 720, 'seconds_per_time_step': 3600.0, 'efficiency': 1.0, 'capacity': 0.0, 'loss_coefficient': 0.006, 'initial_soc': 0.0, 'round_trip_efficiency': 1.0}, 'heating_storage': {'uid': 'a3003c3d1ce14a328fc45acfbbdf0d20', 'random_seed': 45408418, 'simulation_time_steps': 720, 'seconds_per_time_step': 3600.0, 'efficiency': 1.0, 'capacity': 0.0, 'loss_coefficient': 0.006, 'initial_soc': 0.0, 'round_trip_efficiency': 1.0}, 'dhw_storage': {'uid': 'a327b59fb7cf48c29017e7f83dcd900d', 'random_seed': 88821555, 'simulation_time_steps': 720, 'seconds_per_time_step': 3600.0, 'efficiency': 1.0, 'capacity': 2.8423399925231934, 'loss_coefficient': 0.004187329715739613, 'initial_soc': 0.0, 'round_trip_efficiency': 1.0}, 'electrical_storage': {'uid': '8d6c5d81eaa14afab4cd86af629d09c1', 'random_seed': 85064350, 'simulation_time_steps': 720, 'seconds_per_time_step': 3600.0, 'efficiency': 0.96, 'nominal_power': 1.61, 'capacity': 3.3, 'loss_coefficient': 0.00159817, 'initial_soc': 0.19999999999999996, 'round_trip_efficiency': 0.9797958971132712, 'depth_of_discharge': 0.8, 'capacity_loss_coefficient': 1e-05, 'power_efficiency_curve': array([[0.  , 0.3 , 0.7 , 0.8 , 1.  ],\n",
       "       [0.89, 0.89, 0.96, 0.96, 0.91]]), 'capacity_power_curve': array([[0. , 0.8, 1. ],\n",
       "       [1. , 1. , 0.2]])}, 'pv': {'uid': 'e4637958d4da4244a86f3b4876fd7081', 'random_seed': 23046234, 'simulation_time_steps': 720, 'seconds_per_time_step': 3600.0, 'efficiency': 1.0, 'nominal_power': 2.4000000000000004}, 'annual_cooling_demand_estimate': 1516.25146484375, 'annual_heating_demand_estimate': 0.0, 'annual_dhw_demand_estimate': 109.74966430664062, 'annual_non_shiftable_load_estimate': 631.7621459960938, 'annual_solar_generation_estimate': 345.7142639160156}]},\n",
       "      dtype=object)"
      ]
     },
     "execution_count": 6,
     "metadata": {},
     "output_type": "execute_result"
    }
   ],
   "source": [
    "# wrapper_env.action_names\n",
    "np.array(env.get_metadata())"
   ]
  },
  {
   "cell_type": "code",
   "execution_count": 7,
   "metadata": {},
   "outputs": [
    {
     "name": "stderr",
     "output_type": "stream",
     "text": [
      "/home/hkolstee/.local/lib/python3.10/site-packages/torch/cuda/__init__.py:138: UserWarning: CUDA initialization: The NVIDIA driver on your system is too old (found version 11040). Please update your GPU driver by downloading and installing a new version from the URL: http://www.nvidia.com/Download/index.aspx Alternatively, go to: https://pytorch.org to install a PyTorch version that has been compiled with your version of the CUDA driver. (Triggered internally at ../c10/cuda/CUDAFunctions.cpp:108.)\n",
      "  return torch._C._cuda_getDeviceCount() > 0\n"
     ]
    },
    {
     "data": {
      "text/plain": [
       "<custom_agent.custom_SAC.ma_sac_agents.Agents at 0x7fa8371a82e0>"
      ]
     },
     "execution_count": 7,
     "metadata": {},
     "output_type": "execute_result"
    }
   ],
   "source": [
    "from custom_agent.custom_SAC.ma_sac_agents import Agents\n",
    "Agents(env)\n"
   ]
  }
 ],
 "metadata": {
  "kernelspec": {
   "display_name": "Python 3",
   "language": "python",
   "name": "python3"
  },
  "language_info": {
   "codemirror_mode": {
    "name": "ipython",
    "version": 3
   },
   "file_extension": ".py",
   "mimetype": "text/x-python",
   "name": "python",
   "nbconvert_exporter": "python",
   "pygments_lexer": "ipython3",
   "version": "3.10.12"
  }
 },
 "nbformat": 4,
 "nbformat_minor": 2
}
