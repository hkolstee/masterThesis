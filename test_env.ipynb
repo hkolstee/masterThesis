{
 "cells": [
  {
   "cell_type": "code",
   "execution_count": 1,
   "metadata": {},
   "outputs": [],
   "source": [
    "import numpy as np \n",
    "import pandas as pd\n",
    "\n",
    "import math\n",
    "import sys\n",
    "import os\n",
    "\n",
    "import gymnasium as gym\n",
    "gym.__version__\n",
    "\n",
    "from citylearn.citylearn import CityLearnEnv\n",
    "from citylearn.wrappers import NormalizedObservationWrapper, StableBaselines3Wrapper\n",
    "from citylearn.reward_function import RewardFunction\n",
    "\n",
    "sys.path.append(\"../custom_reward\")\n",
    "from custom_reward.custom_reward import CustomReward\n",
    "\n",
    "from stable_baselines3 import SAC\n",
    "\n",
    "import seaborn as sns\n",
    "import matplotlib.pyplot as plt"
   ]
  },
  {
   "cell_type": "code",
   "execution_count": 2,
   "metadata": {},
   "outputs": [],
   "source": [
    "class WrapperEnv:\n",
    "    \"\"\"\n",
    "    Env to wrap provide Citylearn Env data without providing full env\n",
    "    Preventing attribute access outside of the available functions\n",
    "    \"\"\"\n",
    "    def __init__(self, env_data):\n",
    "        self.observation_names = env_data['observation_names']\n",
    "        self.action_names = env_data['action_names']\n",
    "        self.observation_space = env_data['observation_space']\n",
    "        self.action_space = env_data['action_space']\n",
    "        self.time_steps = env_data['time_steps']\n",
    "        self.seconds_per_time_step = env_data['seconds_per_time_step']\n",
    "        self.random_seed = env_data['random_seed']\n",
    "        self.buildings_metadata = env_data['buildings_metadata']\n",
    "        self.episode_tracker = env_data['episode_tracker']\n",
    "    \n",
    "    def get_metadata(self):\n",
    "        return {'buildings': self.buildings_metadata}"
   ]
  },
  {
   "cell_type": "code",
   "execution_count": 3,
   "metadata": {},
   "outputs": [],
   "source": [
    "def makeEnv(schema_path, reward_function):\n",
    "    # create environment\n",
    "    env = CityLearnEnv(schema = schema_path, reward_function = reward_function, central_agent=False)\n",
    "\n",
    "    env_data = dict(\n",
    "        observation_names = env.observation_names,\n",
    "        action_names = env.action_names,\n",
    "        observation_space = env.observation_space,\n",
    "        action_space = env.action_space,\n",
    "        time_steps = env.time_steps,\n",
    "        random_seed = None,\n",
    "        episode_tracker = None,\n",
    "        seconds_per_time_step = None,\n",
    "        buildings_metadata = env.get_metadata()['buildings']\n",
    "    )\n",
    "\n",
    "    wrapper_env = WrapperEnv(env_data)\n",
    "    return env, wrapper_env\n"
   ]
  },
  {
   "cell_type": "code",
   "execution_count": 4,
   "metadata": {},
   "outputs": [
    {
     "data": {
      "text/plain": [
       "{'month': False,\n",
       " 'day_type': True,\n",
       " 'hour': True,\n",
       " 'daylight_savings_status': False,\n",
       " 'outdoor_dry_bulb_temperature': True,\n",
       " 'outdoor_dry_bulb_temperature_predicted_6h': True,\n",
       " 'outdoor_dry_bulb_temperature_predicted_12h': True,\n",
       " 'outdoor_dry_bulb_temperature_predicted_24h': True,\n",
       " 'outdoor_relative_humidity': False,\n",
       " 'outdoor_relative_humidity_predicted_6h': False,\n",
       " 'outdoor_relative_humidity_predicted_12h': False,\n",
       " 'outdoor_relative_humidity_predicted_24h': False,\n",
       " 'diffuse_solar_irradiance': True,\n",
       " 'diffuse_solar_irradiance_predicted_6h': True,\n",
       " 'diffuse_solar_irradiance_predicted_12h': True,\n",
       " 'diffuse_solar_irradiance_predicted_24h': True,\n",
       " 'direct_solar_irradiance': True,\n",
       " 'direct_solar_irradiance_predicted_6h': True,\n",
       " 'direct_solar_irradiance_predicted_12h': True,\n",
       " 'direct_solar_irradiance_predicted_24h': True,\n",
       " 'carbon_intensity': True,\n",
       " 'indoor_dry_bulb_temperature': True,\n",
       " 'average_unmet_cooling_setpoint_difference': False,\n",
       " 'indoor_relative_humidity': False,\n",
       " 'non_shiftable_load': True,\n",
       " 'solar_generation': True,\n",
       " 'cooling_storage_soc': False,\n",
       " 'heating_storage_soc': False,\n",
       " 'dhw_storage_soc': True,\n",
       " 'electrical_storage_soc': True,\n",
       " 'net_electricity_consumption': True,\n",
       " 'electricity_pricing': True,\n",
       " 'electricity_pricing_predicted_6h': True,\n",
       " 'electricity_pricing_predicted_12h': True,\n",
       " 'electricity_pricing_predicted_24h': True,\n",
       " 'cooling_device_cop': False,\n",
       " 'heating_device_cop': False,\n",
       " 'cooling_demand': True,\n",
       " 'heating_demand': False,\n",
       " 'dhw_demand': True,\n",
       " 'cooling_demand_without_control': True,\n",
       " 'heating_demand_without_control': True,\n",
       " 'non_shiftable_load_without_control': True,\n",
       " 'dhw_demand_without_control': True,\n",
       " 'cooling_electricity_consumption': False,\n",
       " 'heating_electricity_consumption': False,\n",
       " 'dhw_electricity_consumption': False,\n",
       " 'occupant_count': True,\n",
       " 'indoor_dry_bulb_temperature_set_point': True,\n",
       " 'indoor_dry_bulb_temperature_delta': False,\n",
       " 'power_outage': True}"
      ]
     },
     "execution_count": 4,
     "metadata": {},
     "output_type": "execute_result"
    }
   ],
   "source": [
    "schema_path = \"data/schema_edited.json\"\n",
    "\n",
    "env, wrapper_env = makeEnv(schema_path, CustomReward)\n",
    "\n",
    "env.buildings[0].observation_metadata\n",
    "\n",
    "# wrap environment for use in stablebaselines3\n",
    "# env = NormalizedObservationWrapper(env)\n",
    "# env = StableBaselines3Wrapper(env)"
   ]
  },
  {
   "cell_type": "code",
   "execution_count": 5,
   "metadata": {},
   "outputs": [
    {
     "data": {
      "text/plain": [
       "[(3,), (3,), (3,)]"
      ]
     },
     "execution_count": 5,
     "metadata": {},
     "output_type": "execute_result"
    }
   ],
   "source": [
    "obs = env.reset()\n",
    "# display(env.observation_space[0].sample)\n",
    "sum([obs.shape[0] for idx, obs in enumerate(env.observation_space)])\n",
    "[obs.shape for obs in env.observation_space]\n",
    "[act.shape for act in env.action_space]\n",
    "# display(env.action_space)\n",
    "# print(np.array(env.reset()).shape)"
   ]
  },
  {
   "cell_type": "code",
   "execution_count": 6,
   "metadata": {},
   "outputs": [
    {
     "data": {
      "text/plain": [
       "array({'uid': 'aebd858d6ad24ffa9af96f7ebd0dd30a', 'random_seed': 24468084, 'simulation_time_steps': 720, 'seconds_per_time_step': 3600.0, 'reward_function': 'CustomReward', 'central_agent': False, 'shared_observations': ['month', 'day_type', 'hour', 'daylight_savings_status', 'outdoor_dry_bulb_temperature', 'outdoor_dry_bulb_temperature_predicted_6h', 'outdoor_dry_bulb_temperature_predicted_12h', 'outdoor_dry_bulb_temperature_predicted_24h', 'outdoor_relative_humidity', 'outdoor_relative_humidity_predicted_6h', 'outdoor_relative_humidity_predicted_12h', 'outdoor_relative_humidity_predicted_24h', 'diffuse_solar_irradiance', 'diffuse_solar_irradiance_predicted_6h', 'diffuse_solar_irradiance_predicted_12h', 'diffuse_solar_irradiance_predicted_24h', 'direct_solar_irradiance', 'direct_solar_irradiance_predicted_6h', 'direct_solar_irradiance_predicted_12h', 'direct_solar_irradiance_predicted_24h', 'carbon_intensity', 'electricity_pricing', 'electricity_pricing_predicted_6h', 'electricity_pricing_predicted_12h', 'electricity_pricing_predicted_24h'], 'buildings': [{'uid': 'a61ee8d59eda4409b5763a975e708ebb', 'random_seed': 27543309, 'simulation_time_steps': 720, 'seconds_per_time_step': 3600.0, 'name': 'Building_1', 'observation_metadata': {'month': False, 'day_type': True, 'hour': True, 'daylight_savings_status': False, 'outdoor_dry_bulb_temperature': True, 'outdoor_dry_bulb_temperature_predicted_6h': True, 'outdoor_dry_bulb_temperature_predicted_12h': True, 'outdoor_dry_bulb_temperature_predicted_24h': True, 'outdoor_relative_humidity': False, 'outdoor_relative_humidity_predicted_6h': False, 'outdoor_relative_humidity_predicted_12h': False, 'outdoor_relative_humidity_predicted_24h': False, 'diffuse_solar_irradiance': True, 'diffuse_solar_irradiance_predicted_6h': True, 'diffuse_solar_irradiance_predicted_12h': True, 'diffuse_solar_irradiance_predicted_24h': True, 'direct_solar_irradiance': True, 'direct_solar_irradiance_predicted_6h': True, 'direct_solar_irradiance_predicted_12h': True, 'direct_solar_irradiance_predicted_24h': True, 'carbon_intensity': True, 'indoor_dry_bulb_temperature': True, 'average_unmet_cooling_setpoint_difference': False, 'indoor_relative_humidity': False, 'non_shiftable_load': True, 'solar_generation': True, 'cooling_storage_soc': False, 'heating_storage_soc': False, 'dhw_storage_soc': True, 'electrical_storage_soc': True, 'net_electricity_consumption': True, 'electricity_pricing': True, 'electricity_pricing_predicted_6h': True, 'electricity_pricing_predicted_12h': True, 'electricity_pricing_predicted_24h': True, 'cooling_device_cop': False, 'heating_device_cop': False, 'cooling_demand': True, 'heating_demand': False, 'dhw_demand': True, 'cooling_demand_without_control': True, 'heating_demand_without_control': True, 'non_shiftable_load_without_control': True, 'dhw_demand_without_control': True, 'cooling_electricity_consumption': False, 'heating_electricity_consumption': False, 'dhw_electricity_consumption': False, 'occupant_count': True, 'indoor_dry_bulb_temperature_set_point': True, 'indoor_dry_bulb_temperature_delta': False, 'power_outage': True}, 'action_metadata': {'cooling_storage': False, 'heating_storage': False, 'dhw_storage': True, 'electrical_storage': True, 'cooling_device': True, 'heating_device': False}, 'maximum_temperature_delta': 10.0, 'cooling_device': {'uid': 'eb90c94490834aa69ff64a8d458ea09f', 'random_seed': 70264865, 'simulation_time_steps': 720, 'seconds_per_time_step': 3600.0, 'efficiency': 0.2535049749071043, 'nominal_power': 4.109619617462158, 'target_heating_temperature': 45, 'target_cooling_temperature': 7.991821357673299}, 'heating_device': {'uid': 'ad721b9cd3804181bd470b4daafbdc5e', 'random_seed': 72671561, 'simulation_time_steps': 720, 'seconds_per_time_step': 3600.0, 'efficiency': 0.2, 'nominal_power': 0.0, 'target_heating_temperature': 45.0, 'target_cooling_temperature': 8.0}, 'dhw_device': {'uid': 'e7de8c2f6488449c9ded237b4ebdc921', 'random_seed': 76139370, 'simulation_time_steps': 720, 'seconds_per_time_step': 3600.0, 'efficiency': 0.939146312056097, 'nominal_power': 4.861171245574951}, 'non_shiftable_load_device': {'uid': 'fcbf17987c884a3f9155886867155635', 'random_seed': 50994214, 'simulation_time_steps': 720, 'seconds_per_time_step': 3600.0, 'efficiency': 1.0, 'nominal_power': 0.0}, 'cooling_storage': {'uid': '4b57268d079f45c8af0507dbb9c8c5f3', 'random_seed': 27614395, 'simulation_time_steps': 720, 'seconds_per_time_step': 3600.0, 'efficiency': 1.0, 'capacity': 0.0, 'loss_coefficient': 0.006, 'initial_soc': 0.0, 'round_trip_efficiency': 1.0}, 'heating_storage': {'uid': '952532d10cfe4c90908b8053755cdba4', 'random_seed': 8078686, 'simulation_time_steps': 720, 'seconds_per_time_step': 3600.0, 'efficiency': 1.0, 'capacity': 0.0, 'loss_coefficient': 0.006, 'initial_soc': 0.0, 'round_trip_efficiency': 1.0}, 'dhw_storage': {'uid': '8292f0c20fc34b91984a60bab6a3a1bd', 'random_seed': 74683610, 'simulation_time_steps': 720, 'seconds_per_time_step': 3600.0, 'efficiency': 1.0, 'capacity': 2.2826755046844482, 'loss_coefficient': 0.003212187876499649, 'initial_soc': 0.0, 'round_trip_efficiency': 1.0}, 'electrical_storage': {'uid': '7a0acd4d2fff4cfaa6a98c9cd903c0dc', 'random_seed': 363365, 'simulation_time_steps': 720, 'seconds_per_time_step': 3600.0, 'efficiency': 0.95, 'nominal_power': 3.32, 'capacity': 4.0, 'loss_coefficient': 0.0001, 'initial_soc': 0.19999999999999996, 'round_trip_efficiency': 0.9746794344808963, 'depth_of_discharge': 0.8, 'capacity_loss_coefficient': 1e-05, 'power_efficiency_curve': array([[0.  , 0.3 , 0.7 , 0.8 , 1.  ],\n",
       "       [0.88, 0.88, 0.95, 0.95, 0.9 ]]), 'capacity_power_curve': array([[0. , 0.8, 1. ],\n",
       "       [1. , 1. , 0.2]])}, 'pv': {'uid': '7459befccee74673bc17a7b6a7a59be8', 'random_seed': 65614440, 'simulation_time_steps': 720, 'seconds_per_time_step': 3600.0, 'efficiency': 1.0, 'nominal_power': 2.4000000000000004}, 'annual_cooling_demand_estimate': 2400.07568359375, 'annual_heating_demand_estimate': 0.0, 'annual_dhw_demand_estimate': 153.8460235595703, 'annual_non_shiftable_load_estimate': 450.445068359375, 'annual_solar_generation_estimate': 345.7142639160156}, {'uid': 'f6e053866e03467482114273a8458421', 'random_seed': 23206720, 'simulation_time_steps': 720, 'seconds_per_time_step': 3600.0, 'name': 'Building_2', 'observation_metadata': {'month': False, 'day_type': True, 'hour': True, 'daylight_savings_status': False, 'outdoor_dry_bulb_temperature': True, 'outdoor_dry_bulb_temperature_predicted_6h': True, 'outdoor_dry_bulb_temperature_predicted_12h': True, 'outdoor_dry_bulb_temperature_predicted_24h': True, 'outdoor_relative_humidity': False, 'outdoor_relative_humidity_predicted_6h': False, 'outdoor_relative_humidity_predicted_12h': False, 'outdoor_relative_humidity_predicted_24h': False, 'diffuse_solar_irradiance': True, 'diffuse_solar_irradiance_predicted_6h': True, 'diffuse_solar_irradiance_predicted_12h': True, 'diffuse_solar_irradiance_predicted_24h': True, 'direct_solar_irradiance': True, 'direct_solar_irradiance_predicted_6h': True, 'direct_solar_irradiance_predicted_12h': True, 'direct_solar_irradiance_predicted_24h': True, 'carbon_intensity': True, 'indoor_dry_bulb_temperature': True, 'average_unmet_cooling_setpoint_difference': False, 'indoor_relative_humidity': False, 'non_shiftable_load': True, 'solar_generation': True, 'cooling_storage_soc': False, 'heating_storage_soc': False, 'dhw_storage_soc': True, 'electrical_storage_soc': True, 'net_electricity_consumption': True, 'electricity_pricing': True, 'electricity_pricing_predicted_6h': True, 'electricity_pricing_predicted_12h': True, 'electricity_pricing_predicted_24h': True, 'cooling_device_cop': False, 'heating_device_cop': False, 'cooling_demand': True, 'heating_demand': False, 'dhw_demand': True, 'cooling_demand_without_control': True, 'heating_demand_without_control': True, 'non_shiftable_load_without_control': True, 'dhw_demand_without_control': True, 'cooling_electricity_consumption': False, 'heating_electricity_consumption': False, 'dhw_electricity_consumption': False, 'occupant_count': True, 'indoor_dry_bulb_temperature_set_point': True, 'indoor_dry_bulb_temperature_delta': False, 'power_outage': True}, 'action_metadata': {'cooling_storage': False, 'heating_storage': False, 'dhw_storage': True, 'electrical_storage': True, 'cooling_device': True, 'heating_device': False}, 'maximum_temperature_delta': 10.0, 'cooling_device': {'uid': '1e339e074879464a85200a44907f1776', 'random_seed': 89526886, 'simulation_time_steps': 720, 'seconds_per_time_step': 3600.0, 'efficiency': 0.28791926968413395, 'nominal_power': 2.252523899078369, 'target_heating_temperature': 45, 'target_cooling_temperature': 6.016841879471529}, 'heating_device': {'uid': '562f8dc0b66148898cfd5b1db3724da7', 'random_seed': 58588500, 'simulation_time_steps': 720, 'seconds_per_time_step': 3600.0, 'efficiency': 0.2, 'nominal_power': 0.0, 'target_heating_temperature': 45.0, 'target_cooling_temperature': 8.0}, 'dhw_device': {'uid': '90521f89adf74100bda09eab1cbc6e4e', 'random_seed': 72718926, 'simulation_time_steps': 720, 'seconds_per_time_step': 3600.0, 'efficiency': 0.8994733722992707, 'nominal_power': 3.681978464126587}, 'non_shiftable_load_device': {'uid': 'c5372564f9254e91bb2678d5a1997321', 'random_seed': 37837485, 'simulation_time_steps': 720, 'seconds_per_time_step': 3600.0, 'efficiency': 1.0, 'nominal_power': 0.0}, 'cooling_storage': {'uid': '609b6783a3684273a5b0ee71aabf0f1c', 'random_seed': 22056917, 'simulation_time_steps': 720, 'seconds_per_time_step': 3600.0, 'efficiency': 1.0, 'capacity': 0.0, 'loss_coefficient': 0.006, 'initial_soc': 0.0, 'round_trip_efficiency': 1.0}, 'heating_storage': {'uid': '42e620e52d424401bea8e9e95e3dd6c8', 'random_seed': 43223884, 'simulation_time_steps': 720, 'seconds_per_time_step': 3600.0, 'efficiency': 1.0, 'capacity': 0.0, 'loss_coefficient': 0.006, 'initial_soc': 0.0, 'round_trip_efficiency': 1.0}, 'dhw_storage': {'uid': '3b903264b8b9407da56bc978d132638b', 'random_seed': 53437058, 'simulation_time_steps': 720, 'seconds_per_time_step': 3600.0, 'efficiency': 1.0, 'capacity': 1.6559207439422607, 'loss_coefficient': 0.004154877290498826, 'initial_soc': 0.0, 'round_trip_efficiency': 1.0}, 'electrical_storage': {'uid': '1b3b56a5e7ea45a0bebe62338d293b64', 'random_seed': 17395482, 'simulation_time_steps': 720, 'seconds_per_time_step': 3600.0, 'efficiency': 0.95, 'nominal_power': 3.32, 'capacity': 4.0, 'loss_coefficient': 0.0001, 'initial_soc': 0.19999999999999996, 'round_trip_efficiency': 0.9746794344808963, 'depth_of_discharge': 0.8, 'capacity_loss_coefficient': 1e-05, 'power_efficiency_curve': array([[0.  , 0.3 , 0.7 , 0.8 , 1.  ],\n",
       "       [0.88, 0.88, 0.95, 0.95, 0.9 ]]), 'capacity_power_curve': array([[0. , 0.8, 1. ],\n",
       "       [1. , 1. , 0.2]])}, 'pv': {'uid': 'c13aa8d0cec8430e981b32f149429065', 'random_seed': 62870935, 'simulation_time_steps': 720, 'seconds_per_time_step': 3600.0, 'efficiency': 1.0, 'nominal_power': 1.2000000000000002}, 'annual_cooling_demand_estimate': 1256.208740234375, 'annual_heating_demand_estimate': 0.0, 'annual_dhw_demand_estimate': 45.04438781738281, 'annual_non_shiftable_load_estimate': 323.14483642578125, 'annual_solar_generation_estimate': 172.8571319580078}, {'uid': '0dcf3aa737694bc9b484398ed4db6753', 'random_seed': 80811902, 'simulation_time_steps': 720, 'seconds_per_time_step': 3600.0, 'name': 'Building_3', 'observation_metadata': {'month': False, 'day_type': True, 'hour': True, 'daylight_savings_status': False, 'outdoor_dry_bulb_temperature': True, 'outdoor_dry_bulb_temperature_predicted_6h': True, 'outdoor_dry_bulb_temperature_predicted_12h': True, 'outdoor_dry_bulb_temperature_predicted_24h': True, 'outdoor_relative_humidity': False, 'outdoor_relative_humidity_predicted_6h': False, 'outdoor_relative_humidity_predicted_12h': False, 'outdoor_relative_humidity_predicted_24h': False, 'diffuse_solar_irradiance': True, 'diffuse_solar_irradiance_predicted_6h': True, 'diffuse_solar_irradiance_predicted_12h': True, 'diffuse_solar_irradiance_predicted_24h': True, 'direct_solar_irradiance': True, 'direct_solar_irradiance_predicted_6h': True, 'direct_solar_irradiance_predicted_12h': True, 'direct_solar_irradiance_predicted_24h': True, 'carbon_intensity': True, 'indoor_dry_bulb_temperature': True, 'average_unmet_cooling_setpoint_difference': False, 'indoor_relative_humidity': False, 'non_shiftable_load': True, 'solar_generation': True, 'cooling_storage_soc': False, 'heating_storage_soc': False, 'dhw_storage_soc': True, 'electrical_storage_soc': True, 'net_electricity_consumption': True, 'electricity_pricing': True, 'electricity_pricing_predicted_6h': True, 'electricity_pricing_predicted_12h': True, 'electricity_pricing_predicted_24h': True, 'cooling_device_cop': False, 'heating_device_cop': False, 'cooling_demand': True, 'heating_demand': False, 'dhw_demand': True, 'cooling_demand_without_control': True, 'heating_demand_without_control': True, 'non_shiftable_load_without_control': True, 'dhw_demand_without_control': True, 'cooling_electricity_consumption': False, 'heating_electricity_consumption': False, 'dhw_electricity_consumption': False, 'occupant_count': True, 'indoor_dry_bulb_temperature_set_point': True, 'indoor_dry_bulb_temperature_delta': False, 'power_outage': True}, 'action_metadata': {'cooling_storage': False, 'heating_storage': False, 'dhw_storage': True, 'electrical_storage': True, 'cooling_device': True, 'heating_device': False}, 'maximum_temperature_delta': 10.0, 'cooling_device': {'uid': 'bd0f2723e5024438a5b20bb8098f7126', 'random_seed': 4264094, 'simulation_time_steps': 720, 'seconds_per_time_step': 3600.0, 'efficiency': 0.26107700777224274, 'nominal_power': 2.7777018547058105, 'target_heating_temperature': 45, 'target_cooling_temperature': 6.217435224703639}, 'heating_device': {'uid': 'dc2749b52f674fd587c8440d37753677', 'random_seed': 74468772, 'simulation_time_steps': 720, 'seconds_per_time_step': 3600.0, 'efficiency': 0.2, 'nominal_power': 0.0, 'target_heating_temperature': 45.0, 'target_cooling_temperature': 8.0}, 'dhw_device': {'uid': '0b69c8c261e24e09a33fa15783843d71', 'random_seed': 76863671, 'simulation_time_steps': 720, 'seconds_per_time_step': 3600.0, 'efficiency': 0.9042817996199358, 'nominal_power': 6.286403179168701}, 'non_shiftable_load_device': {'uid': 'c00137eec7df494aa7c8be8973cc4987', 'random_seed': 76404798, 'simulation_time_steps': 720, 'seconds_per_time_step': 3600.0, 'efficiency': 1.0, 'nominal_power': 0.0}, 'cooling_storage': {'uid': '9ef746eaba684e42808d049d6d6b056e', 'random_seed': 19267478, 'simulation_time_steps': 720, 'seconds_per_time_step': 3600.0, 'efficiency': 1.0, 'capacity': 0.0, 'loss_coefficient': 0.006, 'initial_soc': 0.0, 'round_trip_efficiency': 1.0}, 'heating_storage': {'uid': '0e6511a6af6742b89568ff03428b1edb', 'random_seed': 415382, 'simulation_time_steps': 720, 'seconds_per_time_step': 3600.0, 'efficiency': 1.0, 'capacity': 0.0, 'loss_coefficient': 0.006, 'initial_soc': 0.0, 'round_trip_efficiency': 1.0}, 'dhw_storage': {'uid': '352d24a840964372b1fac66667641a6e', 'random_seed': 86979526, 'simulation_time_steps': 720, 'seconds_per_time_step': 3600.0, 'efficiency': 1.0, 'capacity': 2.8423399925231934, 'loss_coefficient': 0.004187329715739613, 'initial_soc': 0.0, 'round_trip_efficiency': 1.0}, 'electrical_storage': {'uid': 'cdc1403bb6134657a11c444685064c98', 'random_seed': 19669744, 'simulation_time_steps': 720, 'seconds_per_time_step': 3600.0, 'efficiency': 0.96, 'nominal_power': 1.61, 'capacity': 3.3, 'loss_coefficient': 0.00159817, 'initial_soc': 0.19999999999999996, 'round_trip_efficiency': 0.9797958971132712, 'depth_of_discharge': 0.8, 'capacity_loss_coefficient': 1e-05, 'power_efficiency_curve': array([[0.  , 0.3 , 0.7 , 0.8 , 1.  ],\n",
       "       [0.89, 0.89, 0.96, 0.96, 0.91]]), 'capacity_power_curve': array([[0. , 0.8, 1. ],\n",
       "       [1. , 1. , 0.2]])}, 'pv': {'uid': 'eddc24cd03f24cac91e8099feb7ed887', 'random_seed': 84416919, 'simulation_time_steps': 720, 'seconds_per_time_step': 3600.0, 'efficiency': 1.0, 'nominal_power': 2.4000000000000004}, 'annual_cooling_demand_estimate': 1516.25146484375, 'annual_heating_demand_estimate': 0.0, 'annual_dhw_demand_estimate': 109.74966430664062, 'annual_non_shiftable_load_estimate': 631.7621459960938, 'annual_solar_generation_estimate': 345.7142639160156}]},\n",
       "      dtype=object)"
      ]
     },
     "execution_count": 6,
     "metadata": {},
     "output_type": "execute_result"
    }
   ],
   "source": [
    "# wrapper_env.action_names\n",
    "np.array(env.get_metadata())"
   ]
  },
  {
   "cell_type": "code",
   "execution_count": 7,
   "metadata": {},
   "outputs": [
    {
     "name": "stderr",
     "output_type": "stream",
     "text": [
      "/home/hkolstee/.local/lib/python3.10/site-packages/torch/cuda/__init__.py:138: UserWarning: CUDA initialization: The NVIDIA driver on your system is too old (found version 11040). Please update your GPU driver by downloading and installing a new version from the URL: http://www.nvidia.com/Download/index.aspx Alternatively, go to: https://pytorch.org to install a PyTorch version that has been compiled with your version of the CUDA driver. (Triggered internally at ../c10/cuda/CUDAFunctions.cpp:108.)\n",
      "  return torch._C._cuda_getDeviceCount() > 0\n"
     ]
    },
    {
     "name": "stdout",
     "output_type": "stream",
     "text": [
      "obs 102\n",
      "act 9\n"
     ]
    },
    {
     "data": {
      "text/plain": [
       "<custom_agent.custom_SAC.ma_sac_agents.Agents at 0x7f2bb5a7f3d0>"
      ]
     },
     "execution_count": 7,
     "metadata": {},
     "output_type": "execute_result"
    }
   ],
   "source": [
    "from custom_agent.custom_SAC.ma_sac_agents import Agents\n",
    "Agents(env)\n"
   ]
  }
 ],
 "metadata": {
  "kernelspec": {
   "display_name": "Python 3",
   "language": "python",
   "name": "python3"
  },
  "language_info": {
   "codemirror_mode": {
    "name": "ipython",
    "version": 3
   },
   "file_extension": ".py",
   "mimetype": "text/x-python",
   "name": "python",
   "nbconvert_exporter": "python",
   "pygments_lexer": "ipython3",
   "version": "3.10.12"
  }
 },
 "nbformat": 4,
 "nbformat_minor": 2
}
