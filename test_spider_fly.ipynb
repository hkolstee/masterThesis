{
 "cells": [
  {
   "cell_type": "markdown",
   "metadata": {},
   "source": [
    "# SB3 A2C implementation"
   ]
  },
  {
   "cell_type": "code",
   "execution_count": null,
   "metadata": {},
   "outputs": [],
   "source": [
    "from stable_baselines3 import A2C\n",
    "from custom_spider_env.spider_fly_env.envs.grid import SpiderFlyEnv\n",
    "\n",
    "import numpy as np\n",
    "\n",
    "import spider_fly_env\n",
    "import gymnasium"
   ]
  },
  {
   "cell_type": "code",
   "execution_count": null,
   "metadata": {},
   "outputs": [],
   "source": [
    "# env = gymnasium.make(\"SpiderFlyGrid-v0\", size = 4, spiders = 4, max_timesteps = 20)\n",
    "env = SpiderFlyEnv(size = 5, spiders = 4, max_timesteps = 100)"
   ]
  },
  {
   "cell_type": "code",
   "execution_count": null,
   "metadata": {},
   "outputs": [],
   "source": [
    "model = A2C(policy = \"MlpPolicy\", env = env, tensorboard_log=\"tensorboard_logs_spiderA2C\")\n",
    "model.learn(150000)"
   ]
  },
  {
   "cell_type": "code",
   "execution_count": null,
   "metadata": {},
   "outputs": [],
   "source": [
    "import time\n",
    "\n",
    "# env = gymnasium.make(\"SpiderFlyGrid-v0\", size = 4, spiders = 4, render_mode = \"ascii\")\n",
    "env = SpiderFlyEnv(size = 5, spiders = 4, max_timesteps = 100, render_mode = \"ascii\")\n",
    "\n",
    "done = False\n",
    "obs, _ = env.reset()\n",
    "while not done:\n",
    "    act, _ = model.predict(obs, deterministic = True)\n",
    "    obs, rew, done, _, _ = env.step(act)\n",
    "    time.sleep(.5)"
   ]
  },
  {
   "cell_type": "markdown",
   "metadata": {},
   "source": [
    "# Custom discrete SAC"
   ]
  },
  {
   "cell_type": "code",
   "execution_count": null,
   "metadata": {},
   "outputs": [],
   "source": [
    "from custom_agent.CTCE.sac_agent_discrete import Agent\n",
    "import gymnasium\n",
    "\n",
    "env = gymnasium.make('CartPole-v1')\n",
    "\n",
    "model = Agent(env, batch_size=100, buffer_max_size=100000, layer_sizes = (64, 64))\n",
    "\n",
    "model.train(nr_steps = 20000, warmup_steps = 100, learn_delay = 100, learn_freq = 1, learn_weight = 1, save_dir = \"temp_models\")"
   ]
  },
  {
   "cell_type": "markdown",
   "metadata": {},
   "source": [
    "# Custom discrete sequential MA SAC"
   ]
  },
  {
   "cell_type": "code",
   "execution_count": null,
   "metadata": {},
   "outputs": [],
   "source": [
    "from custom_agents.CTCE_algorithms.ma_sac_agents_seq_discrete import Agents\n",
    "from spider_fly_env.envs.grid_MA_pettingzoo import SpiderFlyEnvMA\n",
    "from spider_fly_env.envs.pettingzoo_wrapper import PettingZooWrapper"
   ]
  },
  {
   "cell_type": "code",
   "execution_count": null,
   "metadata": {},
   "outputs": [],
   "source": [
    "# custom multi-agent pettinzoo environment\n",
    "env = SpiderFlyEnvMA(size = 3, spiders = 4, max_timesteps = 100)\n",
    "# env = SpiderFlyEnvMA(size = 5, spiders = 4, render_mode = \"ascii\")\n",
    "env = PettingZooWrapper(env)"
   ]
  },
  {
   "cell_type": "code",
   "execution_count": null,
   "metadata": {},
   "outputs": [],
   "source": [
    "agents = Agents(env, batch_size=100, buffer_max_size=100000, layer_sizes = (64, 64))\n",
    "\n",
    "agents.train(nr_steps = 100000, warmup_steps = 110, learn_delay = 100, learn_freq = 1, learn_weight = 1, save_dir = \"temp_models\")"
   ]
  },
  {
   "cell_type": "code",
   "execution_count": null,
   "metadata": {},
   "outputs": [],
   "source": [
    "observations, infos = env.reset(seed=42)\n",
    "\n",
    "while env.agents:\n",
    "    # this is where you would insert your policy\n",
    "    actions = {agent: env.action_space(agent).sample() for agent in env.agents}\n",
    "\n",
    "    observations, rewards, terminations, truncations, infos = env.step(actions)\n",
    "env.close()"
   ]
  },
  {
   "cell_type": "code",
   "execution_count": null,
   "metadata": {},
   "outputs": [],
   "source": []
  }
 ],
 "metadata": {
  "kernelspec": {
   "display_name": "Python 3",
   "language": "python",
   "name": "python3"
  },
  "language_info": {
   "codemirror_mode": {
    "name": "ipython",
    "version": 3
   },
   "file_extension": ".py",
   "mimetype": "text/x-python",
   "name": "python",
   "nbconvert_exporter": "python",
   "pygments_lexer": "ipython3",
   "version": "3.10.12"
  }
 },
 "nbformat": 4,
 "nbformat_minor": 2
}
