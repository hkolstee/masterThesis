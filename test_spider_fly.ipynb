{
 "cells": [
  {
   "cell_type": "code",
   "execution_count": 1,
   "metadata": {},
   "outputs": [],
   "source": [
    "from stable_baselines3 import A2C\n",
    "\n",
    "import numpy as np\n",
    "\n",
    "import gymnasium\n",
    "import spider_fly_env"
   ]
  },
  {
   "cell_type": "code",
   "execution_count": 2,
   "metadata": {},
   "outputs": [
    {
     "name": "stderr",
     "output_type": "stream",
     "text": [
      "/home/hkolstee/.local/lib/python3.10/site-packages/gymnasium/utils/passive_env_checker.py:181: DeprecationWarning: \u001b[33mWARN: Current gymnasium version requires that `Env.reset` can be passed `options` to allow the environment initialisation to be passed additional information.\u001b[0m\n",
      "  logger.deprecation(\n"
     ]
    }
   ],
   "source": [
    "env = gymnasium.make(\"SpiderFlyGrid-v0\", size = 4, spiders = 4)\n",
    "\n",
    "# model = DQN(policy = \"MultiInputPolicy\", env = env)\n",
    "# env.reset()\n",
    "# for _ in range(5):\n",
    "#     env.step(np.array([0, 0, 0, 0]))"
   ]
  },
  {
   "cell_type": "code",
   "execution_count": 3,
   "metadata": {},
   "outputs": [
    {
     "name": "stderr",
     "output_type": "stream",
     "text": [
      "/home/hkolstee/.local/lib/python3.10/site-packages/torch/cuda/__init__.py:138: UserWarning: CUDA initialization: The NVIDIA driver on your system is too old (found version 11040). Please update your GPU driver by downloading and installing a new version from the URL: http://www.nvidia.com/Download/index.aspx Alternatively, go to: https://pytorch.org to install a PyTorch version that has been compiled with your version of the CUDA driver. (Triggered internally at ../c10/cuda/CUDAFunctions.cpp:108.)\n",
      "  return torch._C._cuda_getDeviceCount() > 0\n"
     ]
    },
    {
     "data": {
      "text/plain": [
       "<stable_baselines3.a2c.a2c.A2C at 0x7f56ef6ac670>"
      ]
     },
     "execution_count": 3,
     "metadata": {},
     "output_type": "execute_result"
    }
   ],
   "source": [
    "model = A2C(policy = \"MlpPolicy\", env = env, tensorboard_log=\"tensorboard_logs_spiderA2C\")\n",
    "model.learn(500000)"
   ]
  },
  {
   "cell_type": "code",
   "execution_count": 14,
   "metadata": {},
   "outputs": [
    {
     "name": "stdout",
     "output_type": "stream",
     "text": [
      "[[' ' ' ' ' ' ' ' ' ']\n",
      " ['X' ' ' 'X' ' ' ' ']\n",
      " [' ' 'X' 'O' ' ' ' ']\n",
      " [' ' ' ' ' ' ' ' ' ']\n",
      " [' ' ' ' 'X' ' ' ' ']]\n",
      "[[' ' ' ' ' ' ' ' ' ']\n",
      " [' ' 'X' ' ' 'X' ' ']\n",
      " [' ' 'X' 'O' ' ' ' ']\n",
      " [' ' ' ' ' ' ' ' ' ']\n",
      " [' ' ' ' ' ' 'X' ' ']]\n",
      "[[' ' ' ' ' ' ' ' ' ']\n",
      " [' ' ' ' 'X' 'X' ' ']\n",
      " [' ' ' ' ' ' 'O' ' ']\n",
      " [' ' 'X' ' ' ' ' ' ']\n",
      " [' ' ' ' ' ' 'X' ' ']]\n",
      "[[' ' ' ' ' ' ' ' ' ']\n",
      " [' ' ' ' ' ' 'X' 'X']\n",
      " [' ' ' ' ' ' ' ' ' ']\n",
      " [' ' ' ' 'X' 'O' ' ']\n",
      " [' ' ' ' ' ' 'X' ' ']]\n",
      "[[' ' ' ' ' ' ' ' ' ']\n",
      " [' ' ' ' ' ' 'X' ' ']\n",
      " [' ' ' ' ' ' 'O' 'X']\n",
      " [' ' ' ' ' ' ' ' ' ']\n",
      " [' ' ' ' 'X' 'X' ' ']]\n",
      "[[' ' ' ' ' ' ' ' ' ']\n",
      " [' ' ' ' ' ' 'X' 'X']\n",
      " [' ' ' ' ' ' 'O' ' ']\n",
      " [' ' ' ' 'X' 'X' ' ']\n",
      " [' ' ' ' ' ' ' ' ' ']]\n",
      "[[' ' ' ' ' ' ' ' ' ']\n",
      " [' ' ' ' ' ' ' ' ' ']\n",
      " [' ' ' ' 'O' 'X' 'X']\n",
      " [' ' ' ' ' ' 'X' ' ']\n",
      " [' ' ' ' 'X' ' ' ' ']]\n",
      "[[' ' ' ' ' ' ' ' ' ']\n",
      " [' ' ' ' ' ' ' ' ' ']\n",
      " [' ' ' ' 'O' 'X' 'X']\n",
      " [' ' ' ' 'X' ' ' ' ']\n",
      " [' ' 'X' ' ' ' ' ' ']]\n",
      "[[' ' ' ' ' ' ' ' ' ']\n",
      " [' ' ' ' ' ' ' ' ' ']\n",
      " [' ' ' ' 'O' 'X' 'X']\n",
      " [' ' 'X' ' ' ' ' ' ']\n",
      " ['X' ' ' ' ' ' ' ' ']]\n",
      "[[' ' ' ' ' ' ' ' ' ']\n",
      " [' ' ' ' ' ' ' ' 'X']\n",
      " [' ' 'X' 'X' ' ' ' ']\n",
      " ['X' ' ' 'O' ' ' ' ']\n",
      " [' ' ' ' ' ' ' ' ' ']]\n",
      "[[' ' ' ' ' ' ' ' ' ']\n",
      " [' ' ' ' ' ' ' ' ' ']\n",
      " [' ' ' ' ' ' ' ' 'X']\n",
      " [' ' 'X' 'X' 'O' ' ']\n",
      " ['X' ' ' ' ' ' ' ' ']]\n",
      "[[' ' ' ' ' ' ' ' ' ']\n",
      " [' ' ' ' ' ' ' ' ' ']\n",
      " [' ' ' ' ' ' ' ' 'X']\n",
      " [' ' 'X' 'X' 'O' ' ']\n",
      " [' ' 'X' ' ' ' ' ' ']]\n",
      "[[' ' ' ' ' ' ' ' ' ']\n",
      " [' ' ' ' ' ' ' ' ' ']\n",
      " [' ' ' ' ' ' ' ' 'X']\n",
      " [' ' 'X' 'X' 'O' ' ']\n",
      " [' ' ' ' 'X' ' ' ' ']]\n",
      "[[' ' ' ' ' ' ' ' ' ']\n",
      " [' ' ' ' ' ' ' ' ' ']\n",
      " [' ' ' ' ' ' ' ' 'X']\n",
      " [' ' 'X' ' ' 'X' 'O']\n",
      " [' ' ' ' ' ' 'X' ' ']]\n"
     ]
    },
    {
     "ename": "KeyboardInterrupt",
     "evalue": "",
     "output_type": "error",
     "traceback": [
      "\u001b[0;31m---------------------------------------------------------------------------\u001b[0m",
      "\u001b[0;31mKeyboardInterrupt\u001b[0m                         Traceback (most recent call last)",
      "Cell \u001b[0;32mIn[14], line 10\u001b[0m\n\u001b[1;32m      8\u001b[0m act, _ \u001b[38;5;241m=\u001b[39m model\u001b[38;5;241m.\u001b[39mpredict(obs, deterministic \u001b[38;5;241m=\u001b[39m \u001b[38;5;28;01mTrue\u001b[39;00m)\n\u001b[1;32m      9\u001b[0m obs, rew, done, _, _ \u001b[38;5;241m=\u001b[39menv\u001b[38;5;241m.\u001b[39mstep(act)\n\u001b[0;32m---> 10\u001b[0m \u001b[43mtime\u001b[49m\u001b[38;5;241;43m.\u001b[39;49m\u001b[43msleep\u001b[49m\u001b[43m(\u001b[49m\u001b[38;5;241;43m1.2\u001b[39;49m\u001b[43m)\u001b[49m\n",
      "\u001b[0;31mKeyboardInterrupt\u001b[0m: "
     ]
    }
   ],
   "source": [
    "import time\n",
    "\n",
    "env = gymnasium.make(\"SpiderFlyGrid-v0\", size = 5, spiders = 4, render_mode = \"ascii\")\n",
    "\n",
    "done = False\n",
    "obs, _ = env.reset()\n",
    "while not done:\n",
    "    act, _ = model.predict(obs, deterministic = True)\n",
    "    obs, rew, done, _, _ =env.step(act)\n",
    "    time.sleep(1.2)"
   ]
  }
 ],
 "metadata": {
  "kernelspec": {
   "display_name": "Python 3",
   "language": "python",
   "name": "python3"
  },
  "language_info": {
   "codemirror_mode": {
    "name": "ipython",
    "version": 3
   },
   "file_extension": ".py",
   "mimetype": "text/x-python",
   "name": "python",
   "nbconvert_exporter": "python",
   "pygments_lexer": "ipython3",
   "version": "3.10.12"
  }
 },
 "nbformat": 4,
 "nbformat_minor": 2
}
