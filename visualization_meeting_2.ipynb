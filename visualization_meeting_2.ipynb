{
 "cells": [
  {
   "cell_type": "code",
   "execution_count": 2,
   "metadata": {},
   "outputs": [
    {
     "name": "stderr",
     "output_type": "stream",
     "text": [
      "2024-09-03 13:22:28.571433: I tensorflow/core/platform/cpu_feature_guard.cc:182] This TensorFlow binary is optimized to use available CPU instructions in performance-critical operations.\n",
      "To enable the following instructions: AVX2 FMA, in other operations, rebuild TensorFlow with the appropriate compiler flags.\n"
     ]
    }
   ],
   "source": [
    "# find files recursively\n",
    "from glob import glob\n",
    "\n",
    "# parse tb files\n",
    "from tbparse import SummaryReader\n",
    "\n",
    "# plotting\n",
    "import matplotlib.pyplot as plt\n",
    "import seaborn as sns\n",
    "\n",
    "# searching df rows with np.where()\n",
    "import numpy as np\n",
    "import pandas as pd\n",
    "\n",
    "import re"
   ]
  },
  {
   "cell_type": "code",
   "execution_count": 4,
   "metadata": {},
   "outputs": [
    {
     "data": {
      "text/plain": [
       "['training/meeting_training/dqn_3_75',\n",
       " 'training/meeting_training/dqn_3_hlr_25',\n",
       " 'training/meeting_training/dqn_3_hlr_10',\n",
       " 'training/meeting_training/dqn_3_llr_10',\n",
       " 'training/meeting_training/dqn_3_10',\n",
       " 'training/meeting_training/dqn_3_llr_25',\n",
       " 'training/meeting_training/dqn_3_hlr_50',\n",
       " 'training/meeting_training/dqn_3_50',\n",
       " 'training/meeting_training/dqn_3_llr_50',\n",
       " 'training/meeting_training/dqn_3_llr_75',\n",
       " 'training/meeting_training/dqn_3_hlr_75']"
      ]
     },
     "execution_count": 4,
     "metadata": {},
     "output_type": "execute_result"
    }
   ],
   "source": [
    "# recursively read tensorboard files\n",
    "tb_files = []\n",
    "# for filename in glob('**/events.out.tfevents.*', recursive=True):\n",
    "#     tb_files.append(filename)\n",
    "for filename in glob('training/spiderenv_training/**/*reward_sum*', recursive=True):\n",
    "    tb_files.append(filename)\n",
    "for filename in glob('**/seqdqn_***', recursive = True):\n",
    "    tb_files.append(filename)\n",
    "for filename in glob('**/dqn_**', recursive = True):\n",
    "    tb_files.append(filename)\n",
    "for filename in glob('**/seqsac_**', recursive = True):\n",
    "    tb_files.append(filename)\n",
    "for filename in glob('**/sac_**', recursive = True):\n",
    "    tb_files.append(filename)\n",
    "\n",
    "# tb_files = [file for file in tb_files if not \"eudist\" in file and not \"seqdqn_3_spider_2\" in file and not \"lowlr2\" in file]\n",
    "tb_files = [file for file in tb_files if \"meeting\" in file and not \"meeting_training_old\" in file and not \"spread_training\" in file and not \"spider\" in file and not \"custom_agents\" in file]\n",
    "# tb_files = [file for file in tb_files if not \"eudist\" in file and not \"seqdqn_3_spider_2\" in file]\n",
    "# print([file for file in tb_files if not \"eudist\" in file])\n",
    "tb_files = [file for file in tb_files if \"/dqn_3\" in file and not \"/dqn_3_25\" in file]\n",
    "\n",
    "# tb_files = [re.sub(\"training/spiderenv_training/\", \"\", re.sub(\"_\\d(/tensorboard_logs/rollout_reward_sum_agent\\d)?\", \"\", file)) for file in tb_files if not \"eudist\" in file]\n",
    "tb_files"
   ]
  },
  {
   "cell_type": "code",
   "execution_count": 5,
   "metadata": {},
   "outputs": [
    {
     "name": "stdout",
     "output_type": "stream",
     "text": [
      "training/meeting_training/dqn_3_75\n",
      "dqn_3_7\n",
      "succes\n",
      "training/meeting_training/dqn_3_hlr_25\n",
      "dqn_3_hlr_2\n",
      "succes\n",
      "training/meeting_training/dqn_3_hlr_10\n",
      "dqn_3_hlr_1\n",
      "succes\n"
     ]
    },
    {
     "ename": "",
     "evalue": "",
     "output_type": "error",
     "traceback": [
      "\u001b[1;31mThe Kernel crashed while executing code in the current cell or a previous cell. \n",
      "\u001b[1;31mPlease review the code in the cell(s) to identify a possible cause of the failure. \n",
      "\u001b[1;31mClick <a href='https://aka.ms/vscodeJupyterKernelCrash'>here</a> for more info. \n",
      "\u001b[1;31mView Jupyter <a href='command:jupyter.viewOutput'>log</a> for further details."
     ]
    }
   ],
   "source": [
    "df = []\n",
    "for file in tb_files:\n",
    "    reader = SummaryReader(file, pivot = True)\n",
    "    temp_df = reader.scalars\n",
    "    if \"meeting_training/sac_\" in reader.log_path:\n",
    "        temp_df.rename(columns={\"reward/reward_sum\":\"rollout/reward_sum\"}, inplace=True)\n",
    "    print(reader.log_path)\n",
    "    if \"rollout/reward_sum\" in temp_df.columns:\n",
    "        temp_df = temp_df[[\"step\", \"rollout/reward_sum\"]] \n",
    "        print(re.sub(\"training/meeting_training/\", \"\", re.sub(\"(_)?(\\d)?(/tensorboard_logs/rollout_reward_sum_agent\\d)|((_)?(\\d)?)$\", \"\",  reader.log_path)))\n",
    "        temp_df.insert(2, \"dir_name\", np.repeat(re.sub(\"training/meeting_training/\", \"\", re.sub(\"(_)?(\\d)?(/tensorboard_logs/rollout_reward_sum_agent\\d)|((_)?(\\d)?)$\", \"\",  reader.log_path)), len(reader.scalars.index)))\n",
    "        # temp_df.insert(2, \"dir_name\", np.repeat(reader.log_path.replace(\"/tensorboard_logs/rollout_reward_sum_agent*\", \"\"), len(reader.scalars.index)))\n",
    "        temp_df[\"step\"] = temp_df.index\n",
    "\n",
    "        if \"seqsac\" in reader.log_path or \"seqdqn\" in reader.log_path:\n",
    "            temp_df['rollout/reward_sum'] = temp_df['rollout/reward_sum'].apply(np.mean)\n",
    "        temp_df[\"avg_reward_sum\"] = temp_df[\"rollout/reward_sum\"].rolling(window = 25, step = 25).mean()\n",
    "        temp_df = temp_df[temp_df.step > 25]\n",
    "        temp_df = temp_df[temp_df['avg_reward_sum'].notna()]\n",
    "        # temp_df = temp_df[[\"step\", \"rollout/reward_sum\", \"dir_name\", \"avg_reward_sum\"]]\n",
    "        temp_df.dropna()\n",
    "        df.append(temp_df)\n",
    "        print(\"succes\")\n",
    "    else:\n",
    "        print(\"reward logs not found\")\n",
    "print(\"all success\")\n",
    "\n",
    "df = pd.concat(df)\n",
    "df = df[df['avg_reward_sum'].notna()]\n",
    "\n",
    "plt.figure(figsize=(10,6))\n",
    "sns.lineplot(data = df, x = df.index, y = \"avg_reward_sum\", hue = \"dir_name\")\n",
    "# sns.lineplot(data = df, x = df.index, y = \"rollout/reward_sum\", hue = \"dir_name\")\n",
    "# plt.legend([],[], frameon = False)\n",
    "# sns.lineplot(data = df, x = \"step\", y = \"rollout/reward_sum\", hue = \"dir_name\")\n",
    "# sns.lineplot(data = df[df[\"dir_name\"].str.contains(\"custom\")], x = \"step\", y = \"rollout/reward_sum\", hue = \"dir_name\")\n",
    "plt.legend(bbox_to_anchor = (0, 1), loc = 'center right', ncol = 1)"
   ]
  }
 ],
 "metadata": {
  "kernelspec": {
   "display_name": "Python 3",
   "language": "python",
   "name": "python3"
  },
  "language_info": {
   "codemirror_mode": {
    "name": "ipython",
    "version": 3
   },
   "file_extension": ".py",
   "mimetype": "text/x-python",
   "name": "python",
   "nbconvert_exporter": "python",
   "pygments_lexer": "ipython3",
   "version": "3.10.12"
  }
 },
 "nbformat": 4,
 "nbformat_minor": 2
}
