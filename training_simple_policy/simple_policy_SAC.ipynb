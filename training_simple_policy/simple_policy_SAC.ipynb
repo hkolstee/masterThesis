{
 "cells": [
  {
   "cell_type": "markdown",
   "metadata": {},
   "source": [
    "### Training of a simple policy using the custom reward function"
   ]
  },
  {
   "cell_type": "code",
   "execution_count": 1,
   "metadata": {},
   "outputs": [],
   "source": [
    "import sys\n",
    "\n",
    "sys.path.append(\"../venv/\")\n",
    "!source ../venv/bin/activate"
   ]
  },
  {
   "cell_type": "code",
   "execution_count": 2,
   "metadata": {},
   "outputs": [],
   "source": [
    "import numpy as np \n",
    "import pandas as pd\n",
    "\n",
    "import math\n",
    "import os"
   ]
  },
  {
   "cell_type": "code",
   "execution_count": 3,
   "metadata": {},
   "outputs": [
    {
     "data": {
      "text/plain": [
       "'0.21.0'"
      ]
     },
     "execution_count": 3,
     "metadata": {},
     "output_type": "execute_result"
    }
   ],
   "source": [
    "import gym\n",
    "gym.__version__"
   ]
  },
  {
   "cell_type": "code",
   "execution_count": 4,
   "metadata": {},
   "outputs": [],
   "source": [
    "from citylearn.citylearn import CityLearnEnv"
   ]
  },
  {
   "cell_type": "code",
   "execution_count": 5,
   "metadata": {},
   "outputs": [],
   "source": [
    "from citylearn.wrappers import NormalizedObservationWrapper, StableBaselines3Wrapper"
   ]
  },
  {
   "cell_type": "code",
   "execution_count": 6,
   "metadata": {},
   "outputs": [],
   "source": [
    "from stable_baselines3 import SAC\n",
    "from stable_baselines3.common.callbacks import BaseCallback\n",
    "from stable_baselines3.common.logger import TensorBoardOutputFormat"
   ]
  },
  {
   "cell_type": "code",
   "execution_count": 7,
   "metadata": {},
   "outputs": [],
   "source": [
    "sys.path.append(\"../custom_reward\")\n",
    "from custom_reward import CustomReward"
   ]
  },
  {
   "cell_type": "markdown",
   "metadata": {},
   "source": [
    "#### Create the environment"
   ]
  },
  {
   "cell_type": "markdown",
   "metadata": {},
   "source": [
    "A function and a wrapper class as given in the local evaluation script provided by the challenge"
   ]
  },
  {
   "cell_type": "code",
   "execution_count": 8,
   "metadata": {},
   "outputs": [],
   "source": [
    "class WrapperEnv:\n",
    "    \"\"\"\n",
    "    Env to wrap provide Citylearn Env data without providing full env\n",
    "    Preventing attribute access outside of the available functions\n",
    "    \"\"\"\n",
    "    def __init__(self, env_data):\n",
    "        self.observation_names = env_data['observation_names']\n",
    "        self.action_names = env_data['action_names']\n",
    "        self.observation_space = env_data['observation_space']\n",
    "        self.action_space = env_data['action_space']\n",
    "        self.time_steps = env_data['time_steps']\n",
    "        self.seconds_per_time_step = env_data['seconds_per_time_step']\n",
    "        self.random_seed = env_data['random_seed']\n",
    "        self.buildings_metadata = env_data['buildings_metadata']\n",
    "        self.episode_tracker = env_data['episode_tracker']\n",
    "    \n",
    "    def get_metadata(self):\n",
    "        return {'buildings': self.buildings_metadata}\n",
    "\n",
    "def create_citylearn_env(schema_path, reward_function, central_agent):\n",
    "    env = CityLearnEnv(schema=schema_path, reward_function=reward_function, central_agent=central_agent)\n",
    "\n",
    "    env_data = dict(\n",
    "        observation_names = env.observation_names,\n",
    "        action_names = env.action_names,\n",
    "        observation_space = env.observation_space,\n",
    "        action_space = env.action_space,\n",
    "        time_steps = env.time_steps,\n",
    "        random_seed = None,\n",
    "        episode_tracker = None,\n",
    "        seconds_per_time_step = None,\n",
    "        buildings_metadata = env.get_metadata()['buildings']\n",
    "    )\n",
    "\n",
    "    wrapper_env = WrapperEnv(env_data)\n",
    "    return env, wrapper_env"
   ]
  },
  {
   "cell_type": "markdown",
   "metadata": {},
   "source": [
    "create environment"
   ]
  },
  {
   "cell_type": "code",
   "execution_count": 9,
   "metadata": {},
   "outputs": [],
   "source": [
    "schema_path = os.path.join(\"../data/\", \"schema_edited.json\")\n",
    "env, wrapper_env = create_citylearn_env(schema_path, CustomReward, True)\n"
   ]
  },
  {
   "cell_type": "code",
   "execution_count": 10,
   "metadata": {},
   "outputs": [
    {
     "data": {
      "text/plain": [
       "[['day_type',\n",
       "  'hour',\n",
       "  'outdoor_dry_bulb_temperature',\n",
       "  'outdoor_dry_bulb_temperature_predicted_6h',\n",
       "  'outdoor_dry_bulb_temperature_predicted_12h',\n",
       "  'outdoor_dry_bulb_temperature_predicted_24h',\n",
       "  'diffuse_solar_irradiance',\n",
       "  'diffuse_solar_irradiance_predicted_6h',\n",
       "  'diffuse_solar_irradiance_predicted_12h',\n",
       "  'diffuse_solar_irradiance_predicted_24h',\n",
       "  'direct_solar_irradiance',\n",
       "  'direct_solar_irradiance_predicted_6h',\n",
       "  'direct_solar_irradiance_predicted_12h',\n",
       "  'direct_solar_irradiance_predicted_24h',\n",
       "  'carbon_intensity',\n",
       "  'indoor_dry_bulb_temperature',\n",
       "  'non_shiftable_load',\n",
       "  'solar_generation',\n",
       "  'dhw_storage_soc',\n",
       "  'electrical_storage_soc',\n",
       "  'net_electricity_consumption',\n",
       "  'electricity_pricing',\n",
       "  'electricity_pricing_predicted_6h',\n",
       "  'electricity_pricing_predicted_12h',\n",
       "  'electricity_pricing_predicted_24h',\n",
       "  'cooling_demand',\n",
       "  'dhw_demand',\n",
       "  'cooling_demand_without_control',\n",
       "  'heating_demand_without_control',\n",
       "  'non_shiftable_load_without_control',\n",
       "  'dhw_demand_without_control',\n",
       "  'occupant_count',\n",
       "  'indoor_dry_bulb_temperature_set_point',\n",
       "  'power_outage',\n",
       "  'indoor_dry_bulb_temperature',\n",
       "  'non_shiftable_load',\n",
       "  'solar_generation',\n",
       "  'dhw_storage_soc',\n",
       "  'electrical_storage_soc',\n",
       "  'net_electricity_consumption',\n",
       "  'cooling_demand',\n",
       "  'dhw_demand',\n",
       "  'cooling_demand_without_control',\n",
       "  'heating_demand_without_control',\n",
       "  'non_shiftable_load_without_control',\n",
       "  'dhw_demand_without_control',\n",
       "  'occupant_count',\n",
       "  'indoor_dry_bulb_temperature_set_point',\n",
       "  'power_outage',\n",
       "  'indoor_dry_bulb_temperature',\n",
       "  'non_shiftable_load',\n",
       "  'solar_generation',\n",
       "  'dhw_storage_soc',\n",
       "  'electrical_storage_soc',\n",
       "  'net_electricity_consumption',\n",
       "  'cooling_demand',\n",
       "  'dhw_demand',\n",
       "  'cooling_demand_without_control',\n",
       "  'heating_demand_without_control',\n",
       "  'non_shiftable_load_without_control',\n",
       "  'dhw_demand_without_control',\n",
       "  'occupant_count',\n",
       "  'indoor_dry_bulb_temperature_set_point',\n",
       "  'power_outage']]"
      ]
     },
     "metadata": {},
     "output_type": "display_data"
    }
   ],
   "source": [
    "display(env.observation_names)\n",
    "# schema_path = os.path.join(\"../data/\", \"schema_edited.json\")\n",
    "# env, wrapper_env = create_citylearn_env(schema_path, CustomReward, True)\n",
    "# display(env.observation_names)"
   ]
  },
  {
   "cell_type": "code",
   "execution_count": 11,
   "metadata": {},
   "outputs": [],
   "source": [
    "# env.get_metadata()\n",
    "# env.reward_function.env_metadata"
   ]
  },
  {
   "cell_type": "markdown",
   "metadata": {},
   "source": [
    "Prepare for SB3"
   ]
  },
  {
   "cell_type": "code",
   "execution_count": 12,
   "metadata": {},
   "outputs": [],
   "source": [
    "env = NormalizedObservationWrapper(env)\n",
    "env = StableBaselines3Wrapper(env)"
   ]
  },
  {
   "cell_type": "markdown",
   "metadata": {},
   "source": [
    "Create SAC model"
   ]
  },
  {
   "cell_type": "code",
   "execution_count": 13,
   "metadata": {},
   "outputs": [
    {
     "name": "stderr",
     "output_type": "stream",
     "text": [
      "/home/hkolstee/.local/lib/python3.10/site-packages/torch/cuda/__init__.py:138: UserWarning: CUDA initialization: The NVIDIA driver on your system is too old (found version 11040). Please update your GPU driver by downloading and installing a new version from the URL: http://www.nvidia.com/Download/index.aspx Alternatively, go to: https://pytorch.org to install a PyTorch version that has been compiled with your version of the CUDA driver. (Triggered internally at ../c10/cuda/CUDAFunctions.cpp:108.)\n",
      "  return torch._C._cuda_getDeviceCount() > 0\n",
      "/home/hkolstee/.local/lib/python3.10/site-packages/stable_baselines3/common/vec_env/patch_gym.py:49: UserWarning: You provided an OpenAI Gym environment. We strongly recommend transitioning to Gymnasium environments. Stable-Baselines3 is automatically wrapping your environments in a compatibility layer, which could potentially cause issues.\n",
      "  warnings.warn(\n"
     ]
    },
    {
     "name": "stderr",
     "output_type": "stream",
     "text": [
      "/home/hkolstee/.local/lib/python3.10/site-packages/stable_baselines3/common/vec_env/patch_gym.py:49: UserWarning: You provided an OpenAI Gym environment. We strongly recommend transitioning to Gymnasium environments. Stable-Baselines3 is automatically wrapping your environments in a compatibility layer, which could potentially cause issues.\n",
      "  warnings.warn(\n"
     ]
    }
   ],
   "source": [
    "model = SAC(\"MlpPolicy\", env, tensorboard_log=\"./tensorboard_logs/\")\n",
    "\n",
    "# model = SAC.load(\"models/custom_reward_SAC6.zip\")\n",
    "model.set_env(env)\n",
    "\n",
    "# display(model.env.)"
   ]
  },
  {
   "cell_type": "markdown",
   "metadata": {},
   "source": [
    "Create custom callback to track reward values"
   ]
  },
  {
   "cell_type": "code",
   "execution_count": 14,
   "metadata": {},
   "outputs": [],
   "source": [
    "class CustomCallback(BaseCallback):\n",
    "    \"\"\"\n",
    "    Custom callback for plotting additional reward values in tensorboard\n",
    "    \"\"\"\n",
    "    def __init__(self, verbose = 0):\n",
    "        super().__init__(verbose)\n",
    "\n",
    "    def _on_rollout_end(self) -> None:\n",
    "        self.logger.record(\"Comfort\", -self.training_env.get_attr(\"reward_function\")[0].comfort[0])\n",
    "        self.logger.record(\"Emissions\", -self.training_env.get_attr(\"reward_function\")[0].emissions[0])\n",
    "        self.logger.record(\"Grid\", -self.training_env.get_attr(\"reward_function\")[0].grid[0])\n",
    "        self.logger.record(\"Resilience\", -self.training_env.get_attr(\"reward_function\")[0].resilience[0])\n",
    "        self.logger.record(\"unmet hours of thermal comfort (u)\", -self.training_env.get_attr(\"reward_function\")[0].u[0])\n",
    "        self.logger.record(\"carbon emissions (g)\", -self.training_env.get_attr(\"reward_function\")[0].g[0])\n",
    "        self.logger.record(\"ramping (r)\", -self.training_env.get_attr(\"reward_function\")[0].r[0])\n",
    "        self.logger.record(\"daily peak (d)\", -self.training_env.get_attr(\"reward_function\")[0].d[0])\n",
    "        self.logger.record(\"load factor (l)\", -self.training_env.get_attr(\"reward_function\")[0].l[0])\n",
    "        self.logger.record(\"all-time peak (a)\", -self.training_env.get_attr(\"reward_function\")[0].a[0])\n",
    "        self.logger.record(\"thermal resilience (m)\", -self.training_env.get_attr(\"reward_function\")[0].m[0])\n",
    "        self.logger.record(\"normalized unserved energy (s)\", -self.training_env.get_attr(\"reward_function\")[0].s[0])\n",
    "\n",
    "    def _on_step(self) -> bool:\n",
    "        return super()._on_step()"
   ]
  },
  {
   "cell_type": "markdown",
   "metadata": {},
   "source": [
    "Train"
   ]
  },
  {
   "cell_type": "code",
   "execution_count": 15,
   "metadata": {},
   "outputs": [
    {
     "name": "stderr",
     "output_type": "stream",
     "text": [
      "/home/hkolstee/.local/lib/python3.10/site-packages/gymnasium/core.py:311: UserWarning: \u001b[33mWARN: env.reward_function to get variables from other wrappers is deprecated and will be removed in v1.0, to get this variable you can do `env.unwrapped.reward_function` for environment variables or `env.get_wrapper_attr('reward_function')` that will search the reminding wrappers.\u001b[0m\n",
      "  logger.warn(\n"
     ]
    },
    {
     "data": {
      "text/plain": [
       "<stable_baselines3.sac.sac.SAC at 0x7f9fb61ffb80>"
      ]
     },
     "execution_count": 15,
     "metadata": {},
     "output_type": "execute_result"
    }
   ],
   "source": [
    "# model.learn(total_timesteps = env.get_metadata()[\"simulation_time_steps\"] * 20, \n",
    "#             log_interval = 1)\n",
    "model.learn(total_timesteps = env.get_metadata()[\"simulation_time_steps\"] * 35, \n",
    "            log_interval = 1,\n",
    "            callback = CustomCallback()\n",
    "            )\n",
    "# model.save(\"models/custom_reward_SAC\")"
   ]
  },
  {
   "cell_type": "markdown",
   "metadata": {},
   "source": [
    "Evaluate "
   ]
  },
  {
   "cell_type": "code",
   "execution_count": 16,
   "metadata": {},
   "outputs": [
    {
     "data": {
      "text/html": [
       "<div>\n",
       "<style scoped>\n",
       "    .dataframe tbody tr th:only-of-type {\n",
       "        vertical-align: middle;\n",
       "    }\n",
       "\n",
       "    .dataframe tbody tr th {\n",
       "        vertical-align: top;\n",
       "    }\n",
       "\n",
       "    .dataframe thead th {\n",
       "        text-align: right;\n",
       "    }\n",
       "</style>\n",
       "<table border=\"1\" class=\"dataframe\">\n",
       "  <thead>\n",
       "    <tr style=\"text-align: right;\">\n",
       "      <th>name</th>\n",
       "      <th>Building_1</th>\n",
       "      <th>Building_2</th>\n",
       "      <th>Building_3</th>\n",
       "      <th>District</th>\n",
       "    </tr>\n",
       "    <tr>\n",
       "      <th>cost_function</th>\n",
       "      <th></th>\n",
       "      <th></th>\n",
       "      <th></th>\n",
       "      <th></th>\n",
       "    </tr>\n",
       "  </thead>\n",
       "  <tbody>\n",
       "    <tr>\n",
       "      <th>annual_normalized_unserved_energy_total</th>\n",
       "      <td>0.013111</td>\n",
       "      <td>0.015520</td>\n",
       "      <td>0.014719</td>\n",
       "      <td>0.014450</td>\n",
       "    </tr>\n",
       "    <tr>\n",
       "      <th>annual_peak_average</th>\n",
       "      <td>NaN</td>\n",
       "      <td>NaN</td>\n",
       "      <td>NaN</td>\n",
       "      <td>1.169707</td>\n",
       "    </tr>\n",
       "    <tr>\n",
       "      <th>carbon_emissions_total</th>\n",
       "      <td>1.800413</td>\n",
       "      <td>1.550902</td>\n",
       "      <td>1.327710</td>\n",
       "      <td>1.559675</td>\n",
       "    </tr>\n",
       "    <tr>\n",
       "      <th>cost_total</th>\n",
       "      <td>1.743678</td>\n",
       "      <td>1.516441</td>\n",
       "      <td>1.307621</td>\n",
       "      <td>1.522580</td>\n",
       "    </tr>\n",
       "    <tr>\n",
       "      <th>daily_one_minus_load_factor_average</th>\n",
       "      <td>NaN</td>\n",
       "      <td>NaN</td>\n",
       "      <td>NaN</td>\n",
       "      <td>0.833376</td>\n",
       "    </tr>\n",
       "    <tr>\n",
       "      <th>daily_peak_average</th>\n",
       "      <td>NaN</td>\n",
       "      <td>NaN</td>\n",
       "      <td>NaN</td>\n",
       "      <td>1.258661</td>\n",
       "    </tr>\n",
       "    <tr>\n",
       "      <th>discomfort_delta_average</th>\n",
       "      <td>-8.692588</td>\n",
       "      <td>-2.738613</td>\n",
       "      <td>-2.157545</td>\n",
       "      <td>-4.529582</td>\n",
       "    </tr>\n",
       "    <tr>\n",
       "      <th>discomfort_delta_maximum</th>\n",
       "      <td>2.087805</td>\n",
       "      <td>5.446190</td>\n",
       "      <td>4.122473</td>\n",
       "      <td>3.885489</td>\n",
       "    </tr>\n",
       "    <tr>\n",
       "      <th>discomfort_delta_minimum</th>\n",
       "      <td>-14.988202</td>\n",
       "      <td>-10.706911</td>\n",
       "      <td>-6.385336</td>\n",
       "      <td>-10.693483</td>\n",
       "    </tr>\n",
       "    <tr>\n",
       "      <th>discomfort_proportion</th>\n",
       "      <td>0.959327</td>\n",
       "      <td>0.764925</td>\n",
       "      <td>0.623960</td>\n",
       "      <td>0.782737</td>\n",
       "    </tr>\n",
       "    <tr>\n",
       "      <th>discomfort_too_cold_proportion</th>\n",
       "      <td>0.957924</td>\n",
       "      <td>0.707090</td>\n",
       "      <td>0.620632</td>\n",
       "      <td>0.761882</td>\n",
       "    </tr>\n",
       "    <tr>\n",
       "      <th>discomfort_too_hot_proportion</th>\n",
       "      <td>0.001403</td>\n",
       "      <td>0.057836</td>\n",
       "      <td>0.003328</td>\n",
       "      <td>0.020855</td>\n",
       "    </tr>\n",
       "    <tr>\n",
       "      <th>electricity_consumption_total</th>\n",
       "      <td>1.805763</td>\n",
       "      <td>1.579470</td>\n",
       "      <td>1.348345</td>\n",
       "      <td>1.577859</td>\n",
       "    </tr>\n",
       "    <tr>\n",
       "      <th>monthly_one_minus_load_factor_average</th>\n",
       "      <td>NaN</td>\n",
       "      <td>NaN</td>\n",
       "      <td>NaN</td>\n",
       "      <td>0.924149</td>\n",
       "    </tr>\n",
       "    <tr>\n",
       "      <th>one_minus_thermal_resilience_proportion</th>\n",
       "      <td>0.666667</td>\n",
       "      <td>0.642857</td>\n",
       "      <td>0.333333</td>\n",
       "      <td>0.547619</td>\n",
       "    </tr>\n",
       "    <tr>\n",
       "      <th>power_outage_normalized_unserved_energy_total</th>\n",
       "      <td>0.817536</td>\n",
       "      <td>0.788743</td>\n",
       "      <td>0.672990</td>\n",
       "      <td>0.759756</td>\n",
       "    </tr>\n",
       "    <tr>\n",
       "      <th>ramping_average</th>\n",
       "      <td>NaN</td>\n",
       "      <td>NaN</td>\n",
       "      <td>NaN</td>\n",
       "      <td>1.445467</td>\n",
       "    </tr>\n",
       "    <tr>\n",
       "      <th>zero_net_energy</th>\n",
       "      <td>1.838942</td>\n",
       "      <td>1.518894</td>\n",
       "      <td>1.338227</td>\n",
       "      <td>1.565354</td>\n",
       "    </tr>\n",
       "  </tbody>\n",
       "</table>\n",
       "</div>"
      ],
      "text/plain": [
       "name                                           Building_1  Building_2  \\\n",
       "cost_function                                                           \n",
       "annual_normalized_unserved_energy_total          0.013111    0.015520   \n",
       "annual_peak_average                                   NaN         NaN   \n",
       "carbon_emissions_total                           1.800413    1.550902   \n",
       "cost_total                                       1.743678    1.516441   \n",
       "daily_one_minus_load_factor_average                   NaN         NaN   \n",
       "daily_peak_average                                    NaN         NaN   \n",
       "discomfort_delta_average                        -8.692588   -2.738613   \n",
       "discomfort_delta_maximum                         2.087805    5.446190   \n",
       "discomfort_delta_minimum                       -14.988202  -10.706911   \n",
       "discomfort_proportion                            0.959327    0.764925   \n",
       "discomfort_too_cold_proportion                   0.957924    0.707090   \n",
       "discomfort_too_hot_proportion                    0.001403    0.057836   \n",
       "electricity_consumption_total                    1.805763    1.579470   \n",
       "monthly_one_minus_load_factor_average                 NaN         NaN   \n",
       "one_minus_thermal_resilience_proportion          0.666667    0.642857   \n",
       "power_outage_normalized_unserved_energy_total    0.817536    0.788743   \n",
       "ramping_average                                       NaN         NaN   \n",
       "zero_net_energy                                  1.838942    1.518894   \n",
       "\n",
       "name                                           Building_3   District  \n",
       "cost_function                                                         \n",
       "annual_normalized_unserved_energy_total          0.014719   0.014450  \n",
       "annual_peak_average                                   NaN   1.169707  \n",
       "carbon_emissions_total                           1.327710   1.559675  \n",
       "cost_total                                       1.307621   1.522580  \n",
       "daily_one_minus_load_factor_average                   NaN   0.833376  \n",
       "daily_peak_average                                    NaN   1.258661  \n",
       "discomfort_delta_average                        -2.157545  -4.529582  \n",
       "discomfort_delta_maximum                         4.122473   3.885489  \n",
       "discomfort_delta_minimum                        -6.385336 -10.693483  \n",
       "discomfort_proportion                            0.623960   0.782737  \n",
       "discomfort_too_cold_proportion                   0.620632   0.761882  \n",
       "discomfort_too_hot_proportion                    0.003328   0.020855  \n",
       "electricity_consumption_total                    1.348345   1.577859  \n",
       "monthly_one_minus_load_factor_average                 NaN   0.924149  \n",
       "one_minus_thermal_resilience_proportion          0.333333   0.547619  \n",
       "power_outage_normalized_unserved_energy_total    0.672990   0.759756  \n",
       "ramping_average                                       NaN   1.445467  \n",
       "zero_net_energy                                  1.338227   1.565354  "
      ]
     },
     "metadata": {},
     "output_type": "display_data"
    }
   ],
   "source": [
    "observations = env.reset()\n",
    "\n",
    "while not env.done:\n",
    "    actions, _ = model.predict(observations, deterministic=True)\n",
    "    observations, _, _, _ = env.step(actions)\n",
    "\n",
    "kpis = env.evaluate()\n",
    "kpis = kpis.pivot(index='cost_function', columns='name', values='value')\n",
    "kpis = kpis.dropna(how='all')\n",
    "display(kpis)"
   ]
  }
 ],
 "metadata": {
  "kernelspec": {
   "display_name": "Python 3",
   "language": "python",
   "name": "python3"
  },
  "language_info": {
   "codemirror_mode": {
    "name": "ipython",
    "version": 3
   },
   "file_extension": ".py",
   "mimetype": "text/x-python",
   "name": "python",
   "nbconvert_exporter": "python",
   "pygments_lexer": "ipython3",
   "version": "3.10.12"
  }
 },
 "nbformat": 4,
 "nbformat_minor": 2
}
