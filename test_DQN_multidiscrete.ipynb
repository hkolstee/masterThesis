{
 "cells": [
  {
   "cell_type": "code",
   "execution_count": 1,
   "metadata": {},
   "outputs": [
    {
     "name": "stderr",
     "output_type": "stream",
     "text": [
      "/home/hkolstee/.local/lib/python3.10/site-packages/gymnasium/envs/registration.py:694: UserWarning: \u001b[33mWARN: Overriding environment SpiderFlyGrid-v0 already in registry.\u001b[0m\n",
      "  logger.warn(f\"Overriding environment {new_spec.id} already in registry.\")\n",
      "/home/hkolstee/.local/lib/python3.10/site-packages/gymnasium/envs/registration.py:694: UserWarning: \u001b[33mWARN: Overriding environment SpiderFlyGridMA-v0 already in registry.\u001b[0m\n",
      "  logger.warn(f\"Overriding environment {new_spec.id} already in registry.\")\n"
     ]
    }
   ],
   "source": [
    "from single_agent_DQN_multidiscrete import MultiDiscreteDQN\n",
    "from spider_fly_env.envs.grid_MA_pettingzoo2 import SpiderFlyEnvMA\n",
    "from spider_fly_env.wrappers.pettingzoo_wrapper import PettingZooWrapper"
   ]
  },
  {
   "cell_type": "code",
   "execution_count": 2,
   "metadata": {},
   "outputs": [
    {
     "name": "stdout",
     "output_type": "stream",
     "text": [
      "[[' ' ' ' ' ' 'O']\n",
      " [' ' 'X' ' ' ' ']\n",
      " [' ' ' ' ' ' ' ']\n",
      " [' ' 'X' 'X' ' ']]\n"
     ]
    }
   ],
   "source": [
    "env = SpiderFlyEnvMA(size = 4, spiders = 3, render_mode = \"ascii\")\n",
    "env = SpiderFlyEnvMA(size = 4, spiders = 3, max_timesteps = 100)\n",
    "env = PettingZooWrapper(env)\n"
   ]
  },
  {
   "cell_type": "code",
   "execution_count": 3,
   "metadata": {},
   "outputs": [
    {
     "name": "stderr",
     "output_type": "stream",
     "text": [
      "/home/hkolstee/.local/lib/python3.10/site-packages/torch/cuda/__init__.py:138: UserWarning: CUDA initialization: The NVIDIA driver on your system is too old (found version 11040). Please update your GPU driver by downloading and installing a new version from the URL: http://www.nvidia.com/Download/index.aspx Alternatively, go to: https://pytorch.org to install a PyTorch version that has been compiled with your version of the CUDA driver. (Triggered internally at ../c10/cuda/CUDAFunctions.cpp:108.)\n",
      "  return torch._C._cuda_getDeviceCount() > 0\n"
     ]
    }
   ],
   "source": [
    "mdDQN = MultiDiscreteDQN(env, eps_steps = 300000, layer_sizes = (128, 128), tau = 0.0025, buffer_max_size = 1000000) "
   ]
  },
  {
   "cell_type": "code",
   "execution_count": 4,
   "metadata": {},
   "outputs": [
    {
     "name": "stdout",
     "output_type": "stream",
     "text": [
      "Episode: 0 - Reward:0.9583333333333334 - Avg loss (last ep): 0.011320139676387552\n"
     ]
    },
    {
     "ename": "KeyboardInterrupt",
     "evalue": "",
     "output_type": "error",
     "traceback": [
      "\u001b[0;31m---------------------------------------------------------------------------\u001b[0m",
      "\u001b[0;31mKeyboardInterrupt\u001b[0m                         Traceback (most recent call last)",
      "Cell \u001b[0;32mIn[4], line 1\u001b[0m\n\u001b[0;32m----> 1\u001b[0m \u001b[43mmdDQN\u001b[49m\u001b[38;5;241;43m.\u001b[39;49m\u001b[43mtrain\u001b[49m\u001b[43m(\u001b[49m\u001b[38;5;241;43m100000\u001b[39;49m\u001b[43m)\u001b[49m\n",
      "File \u001b[0;32m~/masterThesis/masterThesis/single_agent_DQN_multidiscrete.py:154\u001b[0m, in \u001b[0;36mMultiDiscreteDQN.train\u001b[0;34m(self, num_episodes)\u001b[0m\n\u001b[1;32m    151\u001b[0m \u001b[38;5;28mself\u001b[39m\u001b[38;5;241m.\u001b[39mreplay_buffer\u001b[38;5;241m.\u001b[39madd_transition(obs, actions, np\u001b[38;5;241m.\u001b[39mmean(rewards), next_obs[\u001b[38;5;241m0\u001b[39m], terminals[\u001b[38;5;241m0\u001b[39m])\n\u001b[1;32m    153\u001b[0m \u001b[38;5;66;03m# learning step\u001b[39;00m\n\u001b[0;32m--> 154\u001b[0m status, loss \u001b[38;5;241m=\u001b[39m \u001b[38;5;28;43mself\u001b[39;49m\u001b[38;5;241;43m.\u001b[39;49m\u001b[43mlearn\u001b[49m\u001b[43m(\u001b[49m\u001b[43m)\u001b[49m\n\u001b[1;32m    156\u001b[0m \u001b[38;5;28;01mif\u001b[39;00m status:\n\u001b[1;32m    157\u001b[0m     \u001b[38;5;66;03m# add to learn steps\u001b[39;00m\n\u001b[1;32m    158\u001b[0m     learn_steps \u001b[38;5;241m+\u001b[39m\u001b[38;5;241m=\u001b[39m \u001b[38;5;241m1\u001b[39m\n",
      "File \u001b[0;32m~/masterThesis/masterThesis/single_agent_DQN_multidiscrete.py:113\u001b[0m, in \u001b[0;36mMultiDiscreteDQN.learn\u001b[0;34m(self)\u001b[0m\n\u001b[1;32m    110\u001b[0m \u001b[38;5;28;01mwith\u001b[39;00m torch\u001b[38;5;241m.\u001b[39mno_grad():\n\u001b[1;32m    111\u001b[0m     \u001b[38;5;66;03m# maxQ_next_obs = self.shared_target_DQN(torch.cat([next_obs[agent_idx], self.agent_id_tensors[agent_idx]], dim = 1)).max(1).values\u001b[39;00m\n\u001b[1;32m    112\u001b[0m     Q_next_obs \u001b[38;5;241m=\u001b[39m \u001b[38;5;28mself\u001b[39m\u001b[38;5;241m.\u001b[39mshared_target_DQN(next_obs)\n\u001b[0;32m--> 113\u001b[0m     maxQ_next_obs \u001b[38;5;241m=\u001b[39m [qvals\u001b[38;5;241m.\u001b[39mmax(\u001b[38;5;241m1\u001b[39m)\u001b[38;5;241m.\u001b[39mvalues \u001b[38;5;28;01mfor\u001b[39;00m qvals \u001b[38;5;129;01min\u001b[39;00m Q_next_obs]\n\u001b[1;32m    115\u001b[0m \u001b[38;5;66;03m# Q(s, a)\u001b[39;00m\n\u001b[1;32m    116\u001b[0m \u001b[38;5;66;03m# Q_taken_action = self.shared_DQN(torch.cat([obs[agent_idx], self.agent_id_tensors[agent_idx]], dim = 1)).gather(1, replay_act[agent_idx].long())\u001b[39;00m\n\u001b[1;32m    117\u001b[0m Q_obs \u001b[38;5;241m=\u001b[39m \u001b[38;5;28mself\u001b[39m\u001b[38;5;241m.\u001b[39mshared_DQN(obs)\n",
      "File \u001b[0;32m~/masterThesis/masterThesis/single_agent_DQN_multidiscrete.py:113\u001b[0m, in \u001b[0;36m<listcomp>\u001b[0;34m(.0)\u001b[0m\n\u001b[1;32m    110\u001b[0m \u001b[38;5;28;01mwith\u001b[39;00m torch\u001b[38;5;241m.\u001b[39mno_grad():\n\u001b[1;32m    111\u001b[0m     \u001b[38;5;66;03m# maxQ_next_obs = self.shared_target_DQN(torch.cat([next_obs[agent_idx], self.agent_id_tensors[agent_idx]], dim = 1)).max(1).values\u001b[39;00m\n\u001b[1;32m    112\u001b[0m     Q_next_obs \u001b[38;5;241m=\u001b[39m \u001b[38;5;28mself\u001b[39m\u001b[38;5;241m.\u001b[39mshared_target_DQN(next_obs)\n\u001b[0;32m--> 113\u001b[0m     maxQ_next_obs \u001b[38;5;241m=\u001b[39m [\u001b[43mqvals\u001b[49m\u001b[38;5;241;43m.\u001b[39;49m\u001b[43mmax\u001b[49m\u001b[43m(\u001b[49m\u001b[38;5;241;43m1\u001b[39;49m\u001b[43m)\u001b[49m\u001b[38;5;241m.\u001b[39mvalues \u001b[38;5;28;01mfor\u001b[39;00m qvals \u001b[38;5;129;01min\u001b[39;00m Q_next_obs]\n\u001b[1;32m    115\u001b[0m \u001b[38;5;66;03m# Q(s, a)\u001b[39;00m\n\u001b[1;32m    116\u001b[0m \u001b[38;5;66;03m# Q_taken_action = self.shared_DQN(torch.cat([obs[agent_idx], self.agent_id_tensors[agent_idx]], dim = 1)).gather(1, replay_act[agent_idx].long())\u001b[39;00m\n\u001b[1;32m    117\u001b[0m Q_obs \u001b[38;5;241m=\u001b[39m \u001b[38;5;28mself\u001b[39m\u001b[38;5;241m.\u001b[39mshared_DQN(obs)\n",
      "\u001b[0;31mKeyboardInterrupt\u001b[0m: "
     ]
    }
   ],
   "source": [
    "mdDQN.train(100000)"
   ]
  },
  {
   "cell_type": "code",
   "execution_count": null,
   "metadata": {},
   "outputs": [],
   "source": []
  }
 ],
 "metadata": {
  "kernelspec": {
   "display_name": "Python 3",
   "language": "python",
   "name": "python3"
  },
  "language_info": {
   "codemirror_mode": {
    "name": "ipython",
    "version": 3
   },
   "file_extension": ".py",
   "mimetype": "text/x-python",
   "name": "python",
   "nbconvert_exporter": "python",
   "pygments_lexer": "ipython3",
   "version": "3.10.12"
  }
 },
 "nbformat": 4,
 "nbformat_minor": 2
}
